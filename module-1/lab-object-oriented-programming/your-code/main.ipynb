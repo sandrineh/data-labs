{
 "cells": [
  {
   "cell_type": "markdown",
   "metadata": {},
   "source": [
    "# Before your start:\n",
    "- Read the README.md file\n",
    "- Comment as much as you can and use the resources in the README.md file\n",
    "- Happy learning!"
   ]
  },
  {
   "cell_type": "markdown",
   "metadata": {},
   "source": [
    "# Challenge 1 - Matrix Functions\n",
    "\n",
    "#### We would like to create our own matrix. To make life simple for us, we can represent matrices as a list of lists. For the sake of simplicity, we will assume that the maximum number of dimensions a matrix will have is 2.\n",
    "\n",
    "The most basic thing we would like to do with two matrices is to add them together. To add two matrices, we must perform a number of checks. The first check we would like to perform is whether the matrix is two dimesional. This is because we want to limit ourselves to two dimensional matrices to simplify our problem. In the cell below write a function that checks is a matrix is two dimesional. "
   ]
  },
  {
   "cell_type": "code",
   "execution_count": 1,
   "metadata": {},
   "outputs": [
    {
     "data": {
      "text/plain": [
       "True"
      ]
     },
     "execution_count": 1,
     "metadata": {},
     "output_type": "execute_result"
    }
   ],
   "source": [
    "def twodim(mat):\n",
    "    # This function takes a list of lists and checks that it is of depth 2. \n",
    "    # If the depth is not 2, either return false or return informative errors that let the user know the depth of the list.\n",
    "    # Input: nested list\n",
    "    # Output: Boolean (or error)\n",
    "    # Sample Input: [[1,2,3], [4,5,6]]\n",
    "    # Sample Output: True\n",
    "    \n",
    "    # Your Code Here:\n",
    "    if len(mat) ==2:\n",
    "        return True\n",
    "    else:\n",
    "        return \"Error : This isn't a depth 2 matrix\"\n",
    "twodim([[1,2,3], [4,5,6]])    "
   ]
  },
  {
   "cell_type": "code",
   "execution_count": 2,
   "metadata": {},
   "outputs": [
    {
     "data": {
      "text/plain": [
       "\"Error : This isn't a depth 2 matrix\""
      ]
     },
     "execution_count": 2,
     "metadata": {},
     "output_type": "execute_result"
    }
   ],
   "source": [
    "twodim([[1,2], [1,2,3],[1,2,3]])"
   ]
  },
  {
   "cell_type": "markdown",
   "metadata": {},
   "source": [
    "# Bonus Challenge 1 - Write the function recursively\n",
    "\n",
    "Rewrite the `twodim` function using recursion. \n",
    "Read more about recursion [here](https://www.cs.utah.edu/~germain/PPS/Topics/recursion.html)\n",
    "\n",
    "Hint: stop your recursion when there are no more lists, this wil be the depth of your matrix. Check that this depth is equal to 2.\n",
    "Second Hint: At every level of the recursion, use the filter function to keep only the members of the list that are lists."
   ]
  },
  {
   "cell_type": "code",
   "execution_count": 9,
   "metadata": {},
   "outputs": [],
   "source": [
    "def twodimrecursive(mat):\n",
    "    # Your code here:\n",
    "    depth=0  #print(\"depth:\",depth)\n",
    "    #(lambda x: type(x)==list, mat) #A filter function to keep only the members of the list that are lists.\n",
    "\n",
    "    for i in mat:\n",
    "        if filter(lambda i: type(i)==list, mat):\n",
    "            print(i)\n",
    "            depth+=1\n",
    "        else:\n",
    "            return \"Error : This isn't a list\"\n",
    "            #print(\"depth:\",depth)\n",
    "            \n",
    "    if depth == 2: # Check that the depth is equal to 2\n",
    "        return True\n",
    "    else:\n",
    "        return \"Error : This isn't a depth 2 matrix\"\n",
    "    #twodimrecursive(mat) #recursion\n",
    "     "
   ]
  },
  {
   "cell_type": "code",
   "execution_count": 10,
   "metadata": {},
   "outputs": [
    {
     "name": "stdout",
     "output_type": "stream",
     "text": [
      "[1, 2, 3]\n",
      "[1, 2]\n"
     ]
    },
    {
     "data": {
      "text/plain": [
       "True"
      ]
     },
     "execution_count": 10,
     "metadata": {},
     "output_type": "execute_result"
    }
   ],
   "source": [
    "twodimrecursive([[1,2,3],[1,2]]) "
   ]
  },
  {
   "cell_type": "markdown",
   "metadata": {},
   "source": [
    "#### Next, we will write a function that checks for the number of rows and columns of a matrix. \n",
    "\n",
    "Recall that the outer list will tell us the number of rows and the inner lists will tell us the number of columns. Make sure that all inner lists are of the same length."
   ]
  },
  {
   "cell_type": "code",
   "execution_count": 11,
   "metadata": {},
   "outputs": [],
   "source": [
    "def rowcolumn(mat):\n",
    "    # This function takes a list of lists and returns the size of the rows and the columns \n",
    "    # Input: list of lists\n",
    "    # Output: Tuple of rows and columns\n",
    "    #\n",
    "    # Sample input: [[1,2,3],[4,5,6]]\n",
    "    # Sample Output: (2, 3)\n",
    "    \n",
    "    # Your code here:\n",
    "    test_longueur=len(mat[0])\n",
    "    for x in mat:\n",
    "        if len(x)==test_longueur:\n",
    "            y=True\n",
    "        else:\n",
    "            y=False    \n",
    "    if y==True:\n",
    "        outer=len(mat) #size of the rows\n",
    "        for x in mat:\n",
    "            inner=len(x) #size of the columns\n",
    "        return (outer,inner)\n",
    "    else:\n",
    "        return \"not same size\""
   ]
  },
  {
   "cell_type": "code",
   "execution_count": 12,
   "metadata": {},
   "outputs": [
    {
     "data": {
      "text/plain": [
       "(2, 3)"
      ]
     },
     "execution_count": 12,
     "metadata": {},
     "output_type": "execute_result"
    }
   ],
   "source": [
    "rowcolumn([[1,2,3],[4,5,6]])"
   ]
  },
  {
   "cell_type": "markdown",
   "metadata": {},
   "source": [
    "#### Our next step is to write a function that compares two matrices and tells us whether they are of equal size.\n",
    "\n",
    "In this function we will check whether the number of rows and number of columns is the same."
   ]
  },
  {
   "cell_type": "code",
   "execution_count": 82,
   "metadata": {},
   "outputs": [],
   "source": [
    "def compare(mat1, mat2):\n",
    "    # This function takes a two lists of lists and checks whether they have the same number of rows and columns\n",
    "    # Input: two list of lists\n",
    "    # Output: True or False\n",
    "    #\n",
    "    # Sample input: [[1,2,3],[4,5,6]], [[7,8,9], [10,11,12]]\n",
    "    # Sample Output: True\n",
    "    \n",
    "    # Your code here:\n",
    "    \n",
    "    outer1 = len(mat1)\n",
    "    outer2 = len(mat2)\n",
    "    print(\"outer_len:\",outer1)\n",
    "    print(\"outer_len:\",outer2)\n",
    "\n",
    "    if outer1== outer2:    #size of the rows\n",
    "        print (\"same rows number\")\n",
    "    else:\n",
    "        print(\"not same rows number\")\n",
    "\n",
    "\n",
    "    innera = mat1[0:]\n",
    "    inner1= len(innera[0])  #(\"len A:\",len(innera[0]))\n",
    "    print(innera,\"/ len A: \",inner1)\n",
    "    if all(len(x) == inner1 for x in innera):\n",
    "         inner1=True\n",
    "    else:\n",
    "        inne1r=False\n",
    "        \n",
    "\n",
    "    innerb = mat2[0:]\n",
    "    inner2= len(innerb[0])  #(\"len A:\",len(innera[0]))\n",
    "    print(innerb,\"/ len B: \",inner2)\n",
    "    \n",
    "    if all(len(x) == inner2 for x in innerb):\n",
    "         inner2=True\n",
    "    else:\n",
    "        inner2=False\n",
    "    \n",
    "    if inner1==inner2:\n",
    "        print (\"same columns number\")\n",
    "    else:\n",
    "        print(\"not same columns number\")\n",
    "\n",
    " \n",
    "    \"\"\"\n",
    "        test1 = set(len(row) for row in mat1)\n",
    "        test2 = set(len(row) for row in mat2)\n",
    "        if len(test1) != 1:\n",
    "            return False\n",
    "        if test1 & test2 != test1:\n",
    "            return False\n",
    "    \"\"\""
   ]
  },
  {
   "cell_type": "code",
   "execution_count": 83,
   "metadata": {},
   "outputs": [
    {
     "name": "stdout",
     "output_type": "stream",
     "text": [
      "outer_len: 2\n",
      "outer_len: 2\n",
      "same rows number\n",
      "[[1, 2, 3], [4, 5, 6]] / len A:  3\n",
      "[[7, 8, 9], [10, 11, 12]] / len B:  3\n",
      "same columns number\n"
     ]
    }
   ],
   "source": [
    "compare([[1,2,3],[4,5,6]], [[7,8,9], [10,11,12]])"
   ]
  },
  {
   "cell_type": "markdown",
   "metadata": {},
   "source": [
    "#### Now that we have all the tools we need, write a function that adds two matrices together. \n",
    "\n",
    "Remember that a matrix is represented as a list of lists. Therefore, we must add each element in the list. The plus symbol is used for concatenating two lists and not for adding every element in two lists."
   ]
  },
  {
   "cell_type": "code",
   "execution_count": 84,
   "metadata": {},
   "outputs": [],
   "source": [
    "def addition(mat1, mat2):\n",
    "    # This function takes a two lists of lists and adds each cell together\n",
    "    # Input: two list of lists\n",
    "    # Output: one summed list of lists\n",
    "    #\n",
    "    # Sample input: [[1,2,3],[4,5,6]], [[7,8,9], [10,11,12]]\n",
    "    # Sample Output: [[8,10,12],[14,16,18]]\n",
    "    \n",
    "    # Your code here:            \n",
    "    \n",
    "    mat4=[]\n",
    "     \n",
    "    for x,y in zip(mat1,mat2):\n",
    "        #print(x,y)\n",
    "        somme=[]\n",
    "        for d,e in zip(x,y):\n",
    "            somme.append(d+e)\n",
    "        (mat4.append(somme))\n",
    "    print(mat4)      \n",
    "    "
   ]
  },
  {
   "cell_type": "code",
   "execution_count": 85,
   "metadata": {},
   "outputs": [
    {
     "name": "stdout",
     "output_type": "stream",
     "text": [
      "[[8, 10, 12], [14, 16, 18]]\n"
     ]
    }
   ],
   "source": [
    "addition([[1,2,3],[4,5,6]], [[7,8,9], [10,11,12]])"
   ]
  },
  {
   "cell_type": "code",
   "execution_count": 86,
   "metadata": {},
   "outputs": [
    {
     "data": {
      "text/plain": [
       "\" pour mieux comprendre\\nmat1=[[1,2,3],[4,5,6]]\\nmat2=[[1,2,3],[7, 8, 9]]\\n\\nmat3=[]\\n# on itère sur les listes \\nfor sublist1, sublist2 in zip(mat1, mat2): #ici on itère sur la liste de 1er niveau dont [123 et 123] \\n    print(sublist1, '--- ',sublist2)    \\n    \\n    for i1, i2 in zip(sublist1, sublist2):    #ici on itère sur les éléments des sous-listes créées    \\n        print(i1 + i2)\\n        list_inter=[]\\n        list_inter.append(i1 + i2)\\nmat3.append(list_inter)\\nprint(mat3)\""
      ]
     },
     "execution_count": 86,
     "metadata": {},
     "output_type": "execute_result"
    }
   ],
   "source": [
    "\"\"\" pour mieux comprendre\n",
    "mat1=[[1,2,3],[4,5,6]]\n",
    "mat2=[[1,2,3],[7, 8, 9]]\n",
    "\n",
    "mat3=[]\n",
    "# on itère sur les listes \n",
    "for sublist1, sublist2 in zip(mat1, mat2): #ici on itère sur la liste de 1er niveau dont [123 et 123] \n",
    "    print(sublist1, '--- ',sublist2)    \n",
    "    \n",
    "    for i1, i2 in zip(sublist1, sublist2):    #ici on itère sur les éléments des sous-listes créées    \n",
    "        print(i1 + i2)\n",
    "        list_inter=[]\n",
    "        list_inter.append(i1 + i2)\n",
    "mat3.append(list_inter)\n",
    "print(mat3)\"\"\""
   ]
  },
  {
   "cell_type": "code",
   "execution_count": null,
   "metadata": {},
   "outputs": [],
   "source": []
  },
  {
   "cell_type": "markdown",
   "metadata": {},
   "source": [
    "# Challenge 2 - Creating the Class\n",
    "\n",
    "In the cell below, you will be creating the class Matrix2D. Use the functions you have written above and tweak them according to the instructions in the comments. You got this!"
   ]
  },
  {
   "cell_type": "code",
   "execution_count": 87,
   "metadata": {},
   "outputs": [],
   "source": [
    "class Matrix2D:\n",
    "    # First, we will write the __init__ function. \n",
    "    # In this function, we will initialize rows and the columns using the matrix that we have passed to the class.\n",
    "    \n",
    "    def __init__(self, mat):\n",
    "        # Assign mat to self.mat\n",
    "        # Assign rows and cols to self.rows and self.cols\n",
    "        # To find the rows and the cols, use the rowcolumn function and pass self.mat to the function.\n",
    "        # Since the rowcolumn function is now a member of the class, make sure to refer to the function as self.rowcolumn\n",
    "        \n",
    "        # Your code here:\n",
    "        self.mat=mat\n",
    "        self.rows = self.rowcolumn(self.mat)[0] \n",
    "        self.cols = self.rowcolumn(self.mat)[1]\n",
    "            \n",
    "    \n",
    "    # Insert the twodim function here.\n",
    "    # The only change you need to make is that now we are passing self and mat to the function (make sure self is first).\n",
    "    \n",
    "    # Your code here:\n",
    "    def twodim(self,mat):\n",
    "        if len(mat) ==2:\n",
    "            return True\n",
    "        else:\n",
    "            return \"Error : This isn't a depth 2 matrix\"\n",
    "    \n",
    "    # Insert the rowcolumn function here.\n",
    "    # The changes you need to make: \n",
    "    # 1. The function now takes self and mat as arguments (make sure to pass self first).\n",
    "    # 2. Any reference to twodim will be changed to self.twodim since this function is a member of the class and takes self \n",
    "    \n",
    "    # Your code here:\n",
    "    def rowcolumn(self,mat):\n",
    "        test_longueur=len(mat[0])\n",
    "        for x in mat:\n",
    "            if len(x)==test_longueur:\n",
    "                y=True\n",
    "            else:\n",
    "                y=False    \n",
    "        if y==True:\n",
    "            outer=len(mat) #size of the rows\n",
    "            for x in mat:\n",
    "                inner=len(x) #size of the columns\n",
    "            return (outer,inner)\n",
    "        else:\n",
    "            return \"not same size\"\n",
    "    \n",
    "    \n",
    "    # Insert the compare function here\n",
    "    # Add self as the first argument passed to the function\n",
    "    \n",
    "    # Your code here:\n",
    "    def compare(self,mat1, mat2):\n",
    "\n",
    "        outer1 = len(mat1)\n",
    "        outer2 = len(mat2)\n",
    "\n",
    "        if outer1== outer2:    #size of the rows\n",
    "            print (\"same rows number\")\n",
    "        else:\n",
    "            print(\"not same rows number\")\n",
    "\n",
    "\n",
    "        innera = mat1[0:]\n",
    "        inner1= len(innera[0])  #(\"len A:\",len(innera[0]))\n",
    "        if all(len(x) == inner1 for x in innera):\n",
    "             inner1=True\n",
    "        else:\n",
    "            inne1r=False\n",
    "\n",
    "\n",
    "        innerb = mat2[0:]\n",
    "        inner2= len(innerb[0])  #(\"len A:\",len(innera[0]))\n",
    "        if all(len(x) == inner2 for x in innerb):\n",
    "             inner2=True\n",
    "        else:\n",
    "            inner2=False\n",
    "\n",
    "        if inner1==inner2:\n",
    "            print (\"same columns number\")\n",
    "        else:\n",
    "            print(\"not same columns number\")\n",
    "\n",
    "    # Insert the addition function here\n",
    "    # This function now takes self and matrix (another matrix of the Matrix2D class)\n",
    "    # Change the compare function to self.compare \n",
    "    # Change any reference to mat1 and mat2 to self.mat and matrix.mat respectively\n",
    "    # Return your result as a Matrix2D(result). This will ensure that we return a new matrix and not a list of lists.\n",
    "    \n",
    "    # Your code here:\n",
    "    def addition(self, matrix):\n",
    "        # Your code here:            \n",
    "        mat4=[]\n",
    "        for x,y in zip(self.mat,matrix.mat):\n",
    "            #print(x,y)\n",
    "            somme=[]\n",
    "            for d,e in zip(x,y):\n",
    "                somme.append(d+e)\n",
    "            (mat4.append(somme))\n",
    "        #print(mat4)\n",
    "        return Matrix2D(mat4)"
   ]
  },
  {
   "cell_type": "code",
   "execution_count": 88,
   "metadata": {},
   "outputs": [
    {
     "data": {
      "text/plain": [
       "[[8, 10, 12], [14, 16, 18]]"
      ]
     },
     "execution_count": 88,
     "metadata": {},
     "output_type": "execute_result"
    }
   ],
   "source": [
    "Matrix2D([[1,2,3],[4,5,6]]).addition(Matrix2D([[7,8,9],[10,11,12]])).mat"
   ]
  },
  {
   "cell_type": "markdown",
   "metadata": {},
   "source": [
    "# Bonus Challenge 2 - Transpose Function\n",
    "\n",
    "#### Write a function that transposes the matrix and add it to your class.\n",
    "\n",
    "You can read more about the transpose of a matrix [here](https://en.wikipedia.org/wiki/Transpose).\n",
    "\n",
    "Hint: Use the zip function. Read about it [here](https://docs.python.org/3.3/library/functions.html#zip)\n",
    "\n",
    "Second Hint: Read about the asterisk in Python [here](https://docs.python.org/3/reference/expressions.html#expression-lists)"
   ]
  },
  {
   "cell_type": "code",
   "execution_count": 89,
   "metadata": {},
   "outputs": [],
   "source": [
    "def transpose(mat):\n",
    "    # This function takes a list of lists and returns a transposed list of lists.\n",
    "    # Input: list of lists\n",
    "    # Output: list of lists\n",
    "    \n",
    "    # Sample Input: [[1,2,3],[4,5,6]]\n",
    "    # Sample Output: [[1,4], [2,5], [3,6]]\n",
    "    \n",
    "    # Your code here:\n",
    "    transposed = [list(i) for i in zip(*mat)]\n",
    "    print(transposed)\n",
    "        \n",
    "        \n",
    "        #return transposed.append([row[i] for row in zip(*mat)])\n",
    "\n",
    "\n"
   ]
  },
  {
   "cell_type": "code",
   "execution_count": 90,
   "metadata": {},
   "outputs": [
    {
     "name": "stdout",
     "output_type": "stream",
     "text": [
      "[[1, 4], [2, 5], [3, 6]]\n"
     ]
    }
   ],
   "source": [
    "transpose([[1,2,3],[4,5,6]])"
   ]
  },
  {
   "cell_type": "code",
   "execution_count": null,
   "metadata": {},
   "outputs": [],
   "source": []
  }
 ],
 "metadata": {
  "kernelspec": {
   "display_name": "Python 3",
   "language": "python",
   "name": "python3"
  }
 },
 "nbformat": 4,
 "nbformat_minor": 2
}
