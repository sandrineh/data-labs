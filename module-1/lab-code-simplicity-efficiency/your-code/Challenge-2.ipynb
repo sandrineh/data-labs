{
 "cells": [
  {
   "cell_type": "code",
   "execution_count": 1,
   "metadata": {},
   "outputs": [
    {
     "name": "stdout",
     "output_type": "stream",
     "text": [
      "Enter minimum string length: 3\n",
      "Enter maximum string length: 6\n",
      "How many random strings to generate? 3\n",
      "['xmxl', '0kk5', 'sx7']\n"
     ]
    }
   ],
   "source": [
    "\"\"\"\n",
    "The code below generates a given number of random strings that consists of numbers and \n",
    "lower case English letters. You can also define the range of the variable lengths of\n",
    "the strings being generated.\n",
    "\n",
    "The code is functional but has a lot of room for improvement. Use what you have learned\n",
    "about simple and efficient code, refactor the code.\n",
    "\"\"\"\n",
    "\n",
    "def RandomStringGenerator(l=12, a=['a','b','c','d','e','f','g','h','i','j','k','l','m','n','o','p','q','r','s','t','u','v','w','x','y','z','0','1','2','3','4','5','6','7','8','9']):\n",
    "    p = 0\n",
    "    s = ''\n",
    "    while p<l:\n",
    "        import random\n",
    "        s += random.choice(a)\n",
    "        p += 1\n",
    "    return s\n",
    "\n",
    "def BatchStringGenerator(n, a=8, b=12):\n",
    "    r = []\n",
    "    for i in range(n):\n",
    "        c = None\n",
    "        if a < b:\n",
    "            import random\n",
    "            c = random.choice(range(a, b))\n",
    "        elif a == b:\n",
    "            c = a\n",
    "        else:\n",
    "            import sys\n",
    "            sys.exit('Incorrect min and max string lengths. Try again.')\n",
    "        r.append(RandomStringGenerator(c))\n",
    "    return r\n",
    "\n",
    "a = input('Enter minimum string length: ')\n",
    "b = input('Enter maximum string length: ')\n",
    "n = input('How many random strings to generate? ')\n",
    "\n",
    "print(BatchStringGenerator(int(n), int(a), int(b)))\n"
   ]
  },
  {
   "cell_type": "code",
   "execution_count": 40,
   "metadata": {},
   "outputs": [],
   "source": [
    "\"\"\"\n",
    "The code below generates a given number of random strings that consists of numbers and \n",
    "lower case English letters. You can also define the range of the variable lengths of\n",
    "the strings being generated.\n",
    "\n",
    "The code is functional but has a lot of room for improvement. Use what you have learned\n",
    "about simple and efficient code, refactor the code.\n",
    "\"\"\"\n",
    "\n",
    "import random\n",
    "import sys"
   ]
  },
  {
   "cell_type": "code",
   "execution_count": 41,
   "metadata": {},
   "outputs": [],
   "source": [
    "letter_number=['a','b','c','d','e','f','g','h','i','j','k','l','m','n','o','p','q','r','s','t','u','v','w','x','y','z','0','1','2','3','4','5','6','7','8','9']"
   ]
  },
  {
   "cell_type": "code",
   "execution_count": 42,
   "metadata": {},
   "outputs": [
    {
     "name": "stdout",
     "output_type": "stream",
     "text": [
      "Enter minimum string length: 3\n",
      "Enter maximum string length: 10\n",
      "How many random strings to generate? 5\n",
      "['jwgx', '31lrw7z', 'jn6h8bv', 'rd8h0kld0e', '9n3']\n"
     ]
    }
   ],
   "source": [
    "#Plutôt que a et b, je choisis de nommer les paramètres :\n",
    "    #n pour nb de str \n",
    "    #min_length pour la taille min des strings\n",
    "    #max_length pour la taille max des strings\n",
    "\n",
    "#Je suis la convention pour le nom des fonctions    \n",
    "\n",
    "def batch_string_generator(n, min_length, max_length):\n",
    "    list_string = []\n",
    "    #gestion des cas qui renvoient une erreur hors de la boucle\n",
    "    if min_length > max_length:\n",
    "        sys.exit('Incorrect min and max string lengths. Try again.')\n",
    "        \n",
    "    for i in range(n):\n",
    "        #je simplifie la boucle et je gère le cas de min_length = max_length en ajoutant 1 au max\n",
    "        length_word = random.choice(range(min_length, max_length+1))         \n",
    "        list_string.append(random_string_generator(length_word,letter_number))\n",
    "    return list_string\n",
    "\n",
    "def random_string_generator(length_word,letter_number):\n",
    "            #je simplifie le code en faisant une list comprehension en pensant à joindre les lettres obtenues pour créer des strings.\n",
    "    return \"\".join([random.choice(letter_number) for n in range(length_word)])\n",
    "\n",
    "\n",
    "min_length = input('Enter minimum string length: ')\n",
    "max_length = input('Enter maximum string length: ')\n",
    "n = input('How many random strings to generate? ')\n",
    "\n",
    "print(batch_string_generator(int(n), int(min_length), int(max_length)))\n"
   ]
  },
  {
   "cell_type": "code",
   "execution_count": null,
   "metadata": {},
   "outputs": [],
   "source": []
  }
 ],
 "metadata": {
  "kernelspec": {
   "display_name": "Python 3",
   "language": "python",
   "name": "python3"
  },
  "language_info": {
   "codemirror_mode": {
    "name": "ipython",
    "version": 3
   },
   "file_extension": ".py",
   "mimetype": "text/x-python",
   "name": "python",
   "nbconvert_exporter": "python",
   "pygments_lexer": "ipython3",
   "version": "3.7.3"
  }
 },
 "nbformat": 4,
 "nbformat_minor": 2
}
