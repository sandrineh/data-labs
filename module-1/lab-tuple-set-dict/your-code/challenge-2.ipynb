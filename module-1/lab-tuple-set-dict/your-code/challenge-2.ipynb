{
 "cells": [
  {
   "cell_type": "markdown",
   "metadata": {},
   "source": [
    "## Challenge 2: Sets\n",
    "\n",
    "There are a lot to learn about Python Sets and the information presented in the lesson is limited due to its length. To learn Python Sets in depth you are strongly encouraged to review the W3Schools tutorial on [Python Sets Examples and Methods](https://www.w3schools.com/python/python_sets.asp) before you work on this lab. Some difficult questions in this lab have their solutions in the W3Schools tutorial.\n",
    "\n",
    "#### First, import the Python `random` libary"
   ]
  },
  {
   "cell_type": "code",
   "execution_count": 230,
   "metadata": {},
   "outputs": [],
   "source": [
    "import random"
   ]
  },
  {
   "cell_type": "markdown",
   "metadata": {},
   "source": [
    "#### In the cell below, create a list named `sample_list_1` with 80 random values. \n",
    "\n",
    "Requirements:\n",
    "\n",
    "* Each value is an integer falling between 0 and 100.\n",
    "* Each value in the list is unique.\n",
    "\n",
    "Print `sample_list_1` to review its values\n",
    "\n",
    "*Hint: use `random.sample` ([reference](https://docs.python.org/3/library/random.html#random.sample)).*"
   ]
  },
  {
   "cell_type": "code",
   "execution_count": 231,
   "metadata": {},
   "outputs": [
    {
     "name": "stdout",
     "output_type": "stream",
     "text": [
      "[0, 2, 3, 4, 5, 6, 7, 9, 11, 12, 13, 15, 17, 18, 19, 20, 22, 23, 24, 25, 27, 28, 29, 30, 31, 32, 35, 36, 37, 39, 41, 43, 44, 45, 46, 47, 48, 49, 50, 51, 52, 53, 55, 56, 57, 58, 59, 60, 61, 62, 63, 64, 65, 67, 68, 69, 71, 72, 73, 74, 76, 77, 78, 79, 82, 84, 85, 86, 87, 88, 89, 90, 91, 92, 93, 95, 97, 98, 99, 100]\n"
     ]
    }
   ],
   "source": [
    "# Your code here\n",
    "l=[i for i in range(101)]\n",
    "sample_list_1=random.sample(l,80)\n",
    "print(sorted(sample_list_1))"
   ]
  },
  {
   "cell_type": "markdown",
   "metadata": {},
   "source": [
    "#### Convert `sample_list_1` to a set called `set1`. Print the length of the set. Is its length still 80?"
   ]
  },
  {
   "cell_type": "code",
   "execution_count": 232,
   "metadata": {},
   "outputs": [
    {
     "name": "stdout",
     "output_type": "stream",
     "text": [
      "set1:  [0, 2, 3, 4, 5, 6, 7, 9, 11, 12, 13, 15, 17, 18, 19, 20, 22, 23, 24, 25, 27, 28, 29, 30, 31, 32, 35, 36, 37, 39, 41, 43, 44, 45, 46, 47, 48, 49, 50, 51, 52, 53, 55, 56, 57, 58, 59, 60, 61, 62, 63, 64, 65, 67, 68, 69, 71, 72, 73, 74, 76, 77, 78, 79, 82, 84, 85, 86, 87, 88, 89, 90, 91, 92, 93, 95, 97, 98, 99, 100]\n",
      "length:  80\n"
     ]
    }
   ],
   "source": [
    "# Your code here\n",
    "set1 = set(sample_list_1)\n",
    "print(\"set1: \",sorted(set1))\n",
    "print(\"length: \",len(set1)) #the length n'est plus de 80 items"
   ]
  },
  {
   "cell_type": "markdown",
   "metadata": {},
   "source": [
    "#### Create another list named `sample_list_2` with 80 random values.\n",
    "\n",
    "Requirements:\n",
    "\n",
    "* Each value is an integer falling between 0 and 100.\n",
    "* The values in the list don't have to be unique.\n",
    "\n",
    "*Hint: Use a FOR loop.*"
   ]
  },
  {
   "cell_type": "code",
   "execution_count": 233,
   "metadata": {},
   "outputs": [
    {
     "name": "stdout",
     "output_type": "stream",
     "text": [
      "[0, 1, 3, 5, 7, 9, 10, 10, 18, 18, 19, 22, 23, 24, 25, 25, 25, 28, 30, 31, 33, 35, 36, 38, 39, 40, 41, 41, 41, 45, 48, 51, 52, 54, 54, 57, 57, 57, 59, 60, 62, 62, 63, 63, 64, 64, 64, 66, 67, 70, 70, 71, 72, 74, 74, 74, 75, 76, 78, 78, 79, 81, 82, 82, 82, 84, 85, 86, 88, 90, 90, 92, 93, 94, 96, 97, 97, 98, 99, 99]\n",
      "length:  80\n"
     ]
    }
   ],
   "source": [
    "# Your code here\n",
    "sample_list_2=[]\n",
    "for i in l:\n",
    "    while len(sample_list_2)<80:\n",
    "        sample_list_2.append(random.choice(l))\n",
    "print(sorted(sample_list_2))\n",
    "print(\"length: \", len(sample_list_2))"
   ]
  },
  {
   "cell_type": "markdown",
   "metadata": {},
   "source": [
    "#### Convert `sample_list_2` to a set called `set2`. Print the length of the set. Is its length still 80?"
   ]
  },
  {
   "cell_type": "code",
   "execution_count": 234,
   "metadata": {},
   "outputs": [
    {
     "name": "stdout",
     "output_type": "stream",
     "text": [
      "set2:  [0, 1, 3, 5, 7, 9, 10, 18, 19, 22, 23, 24, 25, 28, 30, 31, 33, 35, 36, 38, 39, 40, 41, 45, 48, 51, 52, 54, 57, 59, 60, 62, 63, 64, 66, 67, 70, 71, 72, 74, 75, 76, 78, 79, 81, 82, 84, 85, 86, 88, 90, 92, 93, 94, 96, 97, 98, 99]\n",
      "58\n"
     ]
    }
   ],
   "source": [
    "# Your code here\n",
    "set2 = set(sample_list_2)\n",
    "print(\"set2: \",sorted(set2))\n",
    "print(len(set2)) #the length n'est plus de 80 items"
   ]
  },
  {
   "cell_type": "markdown",
   "metadata": {},
   "source": [
    "#### Identify the elements present in `set1` but not in `set2`. Assign the elements to a new set named `set3`."
   ]
  },
  {
   "cell_type": "code",
   "execution_count": 235,
   "metadata": {},
   "outputs": [
    {
     "name": "stdout",
     "output_type": "stream",
     "text": [
      "set3:  [2, 4, 6, 11, 12, 13, 15, 17, 20, 27, 29, 32, 37, 43, 44, 46, 47, 49, 50, 53, 55, 56, 58, 61, 65, 68, 69, 73, 77, 87, 89, 91, 95, 100]\n"
     ]
    }
   ],
   "source": [
    "# Your code here\n",
    "\n",
    "# c = {element for element in a if element not in b} : c = a.difference(b)\n",
    "set3 = set1.difference(set2)\n",
    "print(\"set3: \",sorted(set3))\n",
    "\n",
    "#### autre méthode ####\n",
    "#set3 = set() #je crée une liste de lettre unique\n",
    "#for x,y in zip(set1,set2):\n",
    " #   if x!=y: #si les nombres x de set 1 ne sont pas dans les nombres Y de set2 alors\n",
    "  #      set3.add(x) #j'atoute x dans set3\n"
   ]
  },
  {
   "cell_type": "markdown",
   "metadata": {},
   "source": [
    "#### Identify the elements present in `set2` but not in `set1`. Assign the elements to a new set named `set4`."
   ]
  },
  {
   "cell_type": "code",
   "execution_count": 236,
   "metadata": {},
   "outputs": [
    {
     "name": "stdout",
     "output_type": "stream",
     "text": [
      "set4:  [1, 10, 33, 38, 40, 54, 66, 70, 75, 81, 94, 96]\n"
     ]
    }
   ],
   "source": [
    "# Your code here\n",
    "\n",
    "# c = {element for element in a if element not in b} : c = a.difference(b)\n",
    "set4 = set2.difference(set1)\n",
    "print(\"set4: \",sorted(set4))\n"
   ]
  },
  {
   "cell_type": "markdown",
   "metadata": {},
   "source": [
    "#### Now Identify the elements shared between `set1` and `set2`. Assign the elements to a new set named `set5`."
   ]
  },
  {
   "cell_type": "code",
   "execution_count": 237,
   "metadata": {},
   "outputs": [
    {
     "name": "stdout",
     "output_type": "stream",
     "text": [
      "set5:  [0, 3, 5, 7, 9, 18, 19, 22, 23, 24, 25, 28, 30, 31, 35, 36, 39, 41, 45, 48, 51, 52, 57, 59, 60, 62, 63, 64, 67, 71, 72, 74, 76, 78, 79, 82, 84, 85, 86, 88, 90, 92, 93, 97, 98, 99]\n"
     ]
    }
   ],
   "source": [
    "# Your code here\n",
    "\n",
    "# c = {element for element in a if element not in b} : c = a.difference(b)\n",
    "set5 = set1.intersection(set2)\n",
    "print(\"set5: \",sorted(set5))"
   ]
  },
  {
   "cell_type": "markdown",
   "metadata": {},
   "source": [
    "#### What is the relationship among the following values:\n",
    "\n",
    "* len(set1)\n",
    "* len(set2)\n",
    "* len(set3)\n",
    "* len(set4)\n",
    "* len(set5)\n",
    "\n",
    "Use a math formular to represent that relationship. Test your formular with Python code."
   ]
  },
  {
   "cell_type": "code",
   "execution_count": 238,
   "metadata": {},
   "outputs": [],
   "source": [
    "# Your code here\n"
   ]
  },
  {
   "cell_type": "markdown",
   "metadata": {},
   "source": [
    "#### Create an empty set called `set6`."
   ]
  },
  {
   "cell_type": "code",
   "execution_count": 239,
   "metadata": {},
   "outputs": [],
   "source": [
    "# Your code here\n",
    "set6 = set()"
   ]
  },
  {
   "cell_type": "markdown",
   "metadata": {},
   "source": [
    "#### Add `set3` and `set5` to `set6` using the Python Set `update` method."
   ]
  },
  {
   "cell_type": "code",
   "execution_count": 240,
   "metadata": {},
   "outputs": [
    {
     "name": "stdout",
     "output_type": "stream",
     "text": [
      "{0, 2, 3, 4, 5, 6, 7, 9, 11, 12, 13, 15, 17, 18, 19, 20, 22, 23, 24, 25, 27, 28, 29, 30, 31, 32, 35, 36, 37, 39, 41, 43, 44, 45, 46, 47, 48, 49, 50, 51, 52, 53, 55, 56, 57, 58, 59, 60, 61, 62, 63, 64, 65, 67, 68, 69, 71, 72, 73, 74, 76, 77, 78, 79, 82, 84, 85, 86, 87, 88, 89, 90, 91, 92, 93, 95, 97, 98, 99, 100}\n"
     ]
    }
   ],
   "source": [
    "# Your code here\n",
    "set6.update(set3,set5)\n",
    "print(set6)"
   ]
  },
  {
   "cell_type": "markdown",
   "metadata": {},
   "source": [
    "#### Check if `set1` and `set6` are equal."
   ]
  },
  {
   "cell_type": "code",
   "execution_count": 241,
   "metadata": {},
   "outputs": [
    {
     "name": "stdout",
     "output_type": "stream",
     "text": [
      "same length ('length set1:', 80) ('length set6:', 80)\n",
      "same elements car nb de True =  80\n",
      "conclusion: set1 and set6 sont identiques\n"
     ]
    }
   ],
   "source": [
    "# Your code here\n",
    "\n",
    "\"\"\"pour répondre à cette question, \n",
    "    je verifie que les liste font la même taille ET qu'il y a les meme elements\"\"\"\n",
    "\n",
    "count=[count.append(True) for s1,s6 in zip(set1,set6) if s1==s6] #True car il y a les même nb dans les 2 listes\n",
    "len(count) #nb de True dans la liste.  \n",
    "\n",
    "if len(set1)==len(set6) and len(count)==len(set1):\n",
    "    print(\"same length\",(\"length set1:\",len(set1)),(\"length set6:\",len(set6)))\n",
    "    print(\"same elements car nb de True = \", len(count))\n",
    "    print(\"conclusion: set1 and set6 sont identiques\")\n",
    "    \n",
    "###autre methode###\n",
    "    #if len(set1)==len(set6): #je verifie d'abord que les liste font la même taille\n",
    "        #for s1,s6 in zip(set1,set6):   \n",
    "        #if s1!=s6:\n",
    "         #   print(False)\n",
    "        #else:\n",
    "         #   count.append(True)"
   ]
  },
  {
   "cell_type": "markdown",
   "metadata": {},
   "source": [
    "#### Check if `set1` contains `set2` using the Python Set `issubset` method. Then check if `set1` contains `set3`.*"
   ]
  },
  {
   "cell_type": "code",
   "execution_count": 242,
   "metadata": {},
   "outputs": [
    {
     "name": "stdout",
     "output_type": "stream",
     "text": [
      "z2: False\n",
      "z3: True\n"
     ]
    }
   ],
   "source": [
    "# Your code here\n",
    "#z = x.issubset(y) càd les elements de x sont dans y\n",
    "\n",
    "z2= set2.issubset(set1)\n",
    "print(\"z2:\",z2)\n",
    "\n",
    "z3 = set3.issubset(set1)\n",
    "print(\"z3:\",z3)"
   ]
  },
  {
   "cell_type": "markdown",
   "metadata": {},
   "source": [
    "#### Using the Python Set `union` method, aggregate `set3`, `set4`, and `set5`. Then aggregate `set1` and `set2`. \n",
    "\n",
    "#### Check if the aggregated values are equal."
   ]
  },
  {
   "cell_type": "code",
   "execution_count": 243,
   "metadata": {},
   "outputs": [
    {
     "name": "stdout",
     "output_type": "stream",
     "text": [
      "aggreg3 : {0, 1, 2, 3, 4, 5, 6, 7, 9, 10, 11, 12, 13, 15, 17, 18, 19, 20, 22, 23, 24, 25, 27, 28, 29, 30, 31, 32, 33, 35, 36, 37, 38, 39, 40, 41, 43, 44, 45, 46, 47, 48, 49, 50, 51, 52, 53, 54, 55, 56, 57, 58, 59, 60, 61, 62, 63, 64, 65, 66, 67, 68, 69, 70, 71, 72, 73, 74, 75, 76, 77, 78, 79, 81, 82, 84, 85, 86, 87, 88, 89, 90, 91, 92, 93, 94, 95, 96, 97, 98, 99, 100}\n",
      "aggreg1 : {0, 1, 2, 3, 4, 5, 6, 7, 9, 10, 11, 12, 13, 15, 17, 18, 19, 20, 22, 23, 24, 25, 27, 28, 29, 30, 31, 32, 33, 35, 36, 37, 38, 39, 40, 41, 43, 44, 45, 46, 47, 48, 49, 50, 51, 52, 53, 54, 55, 56, 57, 58, 59, 60, 61, 62, 63, 64, 65, 66, 67, 68, 69, 70, 71, 72, 73, 74, 75, 76, 77, 78, 79, 81, 82, 84, 85, 86, 87, 88, 89, 90, 91, 92, 93, 94, 95, 96, 97, 98, 99, 100}\n"
     ]
    }
   ],
   "source": [
    "# Your code here\n",
    "aggreg3=set3.union(set4, set5) \n",
    "print(\"aggreg3 :\", aggreg3)\n",
    "aggreg1=set1.union(set2)\n",
    "print(\"aggreg1 :\", aggreg1)"
   ]
  },
  {
   "cell_type": "markdown",
   "metadata": {},
   "source": [
    "#### Using the `pop` method, remove the first element from `set1`."
   ]
  },
  {
   "cell_type": "code",
   "execution_count": 244,
   "metadata": {},
   "outputs": [
    {
     "name": "stdout",
     "output_type": "stream",
     "text": [
      "set1 pop : {2, 3, 4, 5, 6, 7, 9, 11, 12, 13, 15, 17, 18, 19, 20, 22, 23, 24, 25, 27, 28, 29, 30, 31, 32, 35, 36, 37, 39, 41, 43, 44, 45, 46, 47, 48, 49, 50, 51, 52, 53, 55, 56, 57, 58, 59, 60, 61, 62, 63, 64, 65, 67, 68, 69, 71, 72, 73, 74, 76, 77, 78, 79, 82, 84, 85, 86, 87, 88, 89, 90, 91, 92, 93, 95, 97, 98, 99, 100}\n"
     ]
    }
   ],
   "source": [
    "# Your code here\n",
    "set1.pop()\n",
    "print(\"set1 pop :\", set1)"
   ]
  },
  {
   "cell_type": "markdown",
   "metadata": {},
   "source": [
    "#### Remove every element in the following list from `set1` if they are present in the set. Print the remaining elements.\n",
    "\n",
    "```\n",
    "list_to_remove = [1, 9, 11, 19, 21, 29, 31, 39, 41, 49, 51, 59, 61, 69, 71, 79, 81, 89, 91, 99]\n",
    "```"
   ]
  },
  {
   "cell_type": "code",
   "execution_count": 245,
   "metadata": {},
   "outputs": [
    {
     "name": "stdout",
     "output_type": "stream",
     "text": [
      "set1 apres: {2, 3, 4, 5, 6, 7, 12, 13, 15, 17, 18, 20, 22, 23, 24, 25, 27, 28, 30, 32, 35, 36, 37, 43, 44, 45, 46, 47, 48, 50, 52, 53, 55, 56, 57, 58, 60, 62, 63, 64, 65, 67, 68, 72, 73, 74, 76, 77, 78, 82, 84, 85, 86, 87, 88, 90, 92, 93, 95, 97, 98, 100}\n"
     ]
    }
   ],
   "source": [
    "# Your code here\n",
    "list_to_remove = [1, 9, 11, 19, 21, 29, 31, 39, 41, 49, 51, 59, 61, 69, 71, 79, 81, 89, 91, 99]\n",
    "\n",
    "[set1.remove(rem) for rem in list_to_remove if rem in set1]\n",
    "print(\"set1 apres:\",set1)"
   ]
  },
  {
   "cell_type": "code",
   "execution_count": null,
   "metadata": {},
   "outputs": [],
   "source": []
  },
  {
   "cell_type": "code",
   "execution_count": null,
   "metadata": {},
   "outputs": [],
   "source": []
  }
 ],
 "metadata": {
  "kernelspec": {
   "display_name": "Python 3",
   "language": "python",
   "name": "python3"
  },
  "language_info": {
   "codemirror_mode": {
    "name": "ipython",
    "version": 3
   },
   "file_extension": ".py",
   "mimetype": "text/x-python",
   "name": "python",
   "nbconvert_exporter": "python",
   "pygments_lexer": "ipython3",
   "version": "3.7.3"
  }
 },
 "nbformat": 4,
 "nbformat_minor": 2
}
