{
 "cells": [
  {
   "cell_type": "markdown",
   "metadata": {},
   "source": [
    "In the cell below, create a Python function that wraps your previous solution for the Bag of Words lab.\n",
    "\n",
    "Requirements:\n",
    "\n",
    "1. Your function should accept the following parameters:\n",
    "    * `docs` [REQUIRED] - array of document paths.\n",
    "    * `stop_words` [OPTIONAL] - array of stop words. The default value is an empty array.\n",
    "\n",
    "1. Your function should return a Python object that contains the following:\n",
    "    * `bag_of_words` - array of strings of normalized unique words in the corpus.\n",
    "    * `term_freq` - array of the term-frequency vectors."
   ]
  },
  {
   "cell_type": "code",
   "execution_count": 6,
   "metadata": {},
   "outputs": [
    {
     "name": "stdout",
     "output_type": "stream",
     "text": [
      "['ironhack is cool', 'i love ironhack', 'i am a student at ironhack']\n",
      "[[1, 1, 0, 0, 0], [1, 0, 1, 0, 0], [1, 0, 0, 1, 1]]\n"
     ]
    },
    {
     "data": {
      "text/plain": [
       "{'bag_of_words': ['ironhack', 'cool', 'love', 'a', 'student'],\n",
       " 'term_freq': [[1, 1, 0, 0, 0], [1, 0, 1, 0, 0], [1, 0, 0, 1, 1]]}"
      ]
     },
     "execution_count": 6,
     "metadata": {},
     "output_type": "execute_result"
    }
   ],
   "source": [
    "# Import required libraries\n",
    "import os.path\n",
    "import re\n",
    "\n",
    "stop_words = ['all', 'six', 'less', 'being', 'indeed', 'over','move', 'anyway', 'fifty', 'four', 'not', 'own', 'through', 'yourselves', 'go', 'where', 'mill', 'only', 'find', 'before', 'one', 'whose', 'system', 'how', 'somewhere', 'with', 'thick', 'show', 'had', 'enough', 'should', 'to', 'must', 'whom', 'seeming', 'under', 'ours', 'has', 'might', 'thereafter', 'latterly', 'do', 'them', 'his', 'around', 'than', 'get', 'very', 'de', 'none', 'cannot', 'every', 'whether', 'they', 'front', 'during', 'thus', 'now', 'him', 'nor', 'name', 'several', 'hereafter', 'always', 'who', 'cry', 'whither', 'this', 'someone', 'either', 'each', 'become', 'thereupon', 'sometime', 'side', 'two', 'therein', 'twelve', 'because', 'often', 'ten', 'our', 'eg', 'some', 'back', 'up', 'namely', 'towards', 'are', 'further', 'beyond', 'ourselves', 'yet', 'out', 'even', 'will', 'what', 'still', 'for', 'bottom', 'mine', 'since', 'please', 'forty', 'per', 'its', 'everything', 'behind', 'un', 'above', 'between', 'it', 'neither', 'seemed', 'ever', 'across', 'she', 'somehow', 'be', 'we', 'full', 'never', 'sixty', 'however', 'here', 'otherwise', 'were', 'whereupon', 'nowhere', 'although', 'found', 'alone', 're', 'along', 'fifteen', 'by', 'both', 'about', 'last', 'would', 'anything', 'via', 'many', 'could', 'thence', 'put', 'against', 'keep', 'etc', 'amount', 'became', 'ltd', 'hence', 'onto', 'or', 'con', 'among', 'already', 'co', 'afterwards', 'formerly', 'within', 'seems', 'into', 'others', 'while', 'whatever', 'except', 'down', 'hers', 'everyone', 'done', 'least', 'another', 'whoever', 'moreover', 'couldnt', 'throughout', 'anyhow', 'yourself', 'three', 'from', 'her', 'few', 'together', 'top', 'there', 'due', 'been', 'next', 'anyone', 'eleven', 'much', 'call', 'therefore', 'interest', 'then', 'thru', 'themselves', 'hundred', 'was', 'sincere', 'empty', 'more', 'himself', 'elsewhere', 'mostly', 'on', 'fire', 'am', 'becoming', 'hereby', 'amongst', 'else', 'part', 'everywhere', 'too', 'herself', 'former', 'those', 'he', 'me', 'myself', 'made', 'twenty', 'these', 'bill', 'cant', 'us', 'until', 'besides', 'nevertheless', 'below', 'anywhere', 'nine', 'can', 'of', 'your', 'toward', 'my', 'something', 'and', 'whereafter', 'whenever', 'give', 'almost', 'wherever', 'is', 'describe', 'beforehand', 'herein', 'an', 'as', 'itself', 'at', 'have', 'in', 'seem', 'whence', 'ie', 'any', 'fill', 'again', 'hasnt', 'inc', 'thereby', 'thin', 'no', 'perhaps', 'latter', 'meanwhile', 'when', 'detail', 'same', 'wherein', 'beside', 'also', 'that', 'other', 'take', 'which', 'becomes', 'you', 'if', 'nobody', 'see', 'though', 'may', 'after', 'upon', 'most', 'hereupon', 'eight', 'but', 'serious', 'nothing', 'such', 'why', 'a', 'off', 'whereby', 'third', 'i', 'whole', 'noone', 'sometimes', 'well', 'amoungst', 'yours', 'their', 'rather', 'without', 'so', 'five', 'the', 'first', 'whereas', 'once']\n",
    "docs = ['doc1.txt', 'doc2.txt', 'doc3.txt']\n",
    "\n",
    "# Define function\n",
    "def get_bow_from_docs(docs, stop_words=[]):\n",
    "    \n",
    "    # In the function, first define the variables you will use such as `corpus`, `bag_of_words`, and `term_freq`.\n",
    "    corpus=[]\n",
    "    bag_of_words=[]\n",
    "    term_freq=[]\n",
    "    \n",
    "      \n",
    "    \"\"\"\n",
    "    Loop `docs` and read the content of each doc into a string in `corpus`.\n",
    "    Remember to convert the doc content to lowercases and remove punctuation.\n",
    "    \"\"\"\n",
    "    \n",
    "    for doc in docs:    \n",
    "        f = open(os.path.join(\"..\",\"..\",'lab-string-operations','your-code',doc))\n",
    "        text = f.read()\n",
    "        corpus.append(text)\n",
    "        f.close() \n",
    "       \n",
    "    corpus = [re.sub(r'[.]','',exp.lower()) for exp in corpus]\n",
    "    print(corpus)\n",
    "\n",
    "      \n",
    "    \"\"\"\n",
    "    Loop `corpus`. Append the terms in each doc into the `bag_of_words` array. The terms in `bag_of_words` \n",
    "    should be unique which means before adding each term you need to check if it's already added to the array.\n",
    "    In addition, check if each term is in the `stop_words` array. Only append the term to `bag_of_words`\n",
    "    if it is not a stop word.\n",
    "    \"\"\"\n",
    "    for elem in corpus:\n",
    "        corpus2 = elem.split()\n",
    "        #print(corpus2)\n",
    "        for x in corpus2:\n",
    "            if x not in bag_of_words :\n",
    "                bag_of_words.append(x)               \n",
    "    #print('bag',bag_of_words) \n",
    "      \n",
    "    for stop in bag_of_words:\n",
    "        if stop in stop_words:\n",
    "            bag_of_words.remove(stop)\n",
    "        #print(\"stop\",bag_of_words)\n",
    "\n",
    "    \n",
    "    \"\"\"\n",
    "    Loop `corpus` again. For each doc string, count the number of occurrences of each term in `bag_of_words`. \n",
    "    Create an array for each doc's term frequency and append it to `term_freq`\n",
    "    \"\"\"\n",
    "    \n",
    "    for phrases in corpus:\n",
    "        corpus3 = phrases.split() \n",
    "        #print(\"corpus 3\",corpus3)\n",
    "        term_frequency = [] \n",
    "        #print(\"\\n le test commence\")\n",
    "        for mot in bag_of_words:\n",
    "            term_frequency.append(corpus3.count(mot))\n",
    "        term_freq.append(term_frequency)    \n",
    "    print(term_freq)\n",
    "    \n",
    "\n",
    "    \n",
    "    # Now return your output as an object\n",
    "    return {\n",
    "        \"bag_of_words\": bag_of_words,\n",
    "        \"term_freq\": term_freq\n",
    "    }\n",
    "get_bow_from_docs(docs, stop_words) "
   ]
  },
  {
   "cell_type": "markdown",
   "metadata": {},
   "source": [
    "Test your function without stop words. You should see the output like below:\n",
    "\n",
    "```{'bag_of_words': ['ironhack', 'is', 'cool', 'i', 'love', 'am', 'a', 'student', 'at'], 'term_freq': [[1, 1, 1, 0, 0, 0, 0, 0, 0], [1, 0, 0, 1, 1, 0, 0, 0, 0], [1, 0, 0, 1, 0, 1, 1, 1, 1]]}```"
   ]
  },
  {
   "cell_type": "code",
   "execution_count": 2,
   "metadata": {},
   "outputs": [
    {
     "name": "stdout",
     "output_type": "stream",
     "text": [
      "['ironhack is cool', 'i love ironhack', 'i am a student at ironhack']\n",
      "[[1, 1, 1, 0, 0, 0, 0, 0, 0], [1, 0, 0, 1, 1, 0, 0, 0, 0], [1, 0, 0, 1, 0, 1, 1, 1, 1]]\n",
      "{'bag_of_words': ['ironhack', 'is', 'cool', 'i', 'love', 'am', 'a', 'student', 'at'], 'term_freq': [[1, 1, 1, 0, 0, 0, 0, 0, 0], [1, 0, 0, 1, 1, 0, 0, 0, 0], [1, 0, 0, 1, 0, 1, 1, 1, 1]]}\n"
     ]
    }
   ],
   "source": [
    "# Define doc paths array\n",
    "docs = ['doc1.txt', 'doc2.txt', 'doc3.txt']\n",
    "\n",
    "# Obtain BoW from your function\n",
    "bow = get_bow_from_docs(docs)\n",
    "\n",
    "# Print BoW\n",
    "print(bow)"
   ]
  },
  {
   "cell_type": "markdown",
   "metadata": {},
   "source": [
    "If your attempt above is successful, nice work done!\n",
    "\n",
    "Now test your function again with the stop words. In the previous lab we defined the stop words in a large array. In this lab, we'll import the stop words from Scikit-Learn."
   ]
  },
  {
   "cell_type": "code",
   "execution_count": 3,
   "metadata": {},
   "outputs": [
    {
     "name": "stdout",
     "output_type": "stream",
     "text": [
      "frozenset({'may', 'down', 'then', 'top', 'he', 'however', 'nevertheless', 'such', 'not', 'detail', 'why', 'beforehand', 'everything', 'several', 'off', 'cannot', 'namely', 'of', 'etc', 'am', 'none', 'from', 'move', 'before', 'because', 'would', 'eg', 'or', 'ltd', 'those', 'many', 'thus', 'serious', 'became', 'give', 'who', 'into', 'put', 'after', 'done', 'fire', 'first', 'been', 'further', 'for', 'nor', 'has', 'via', 'ever', 'one', 'thereupon', 'your', 'six', 'name', 'couldnt', 'whereafter', 'also', 'mine', 'is', 'keep', 'should', 'still', 'might', 'sincere', 'yourself', 'seemed', 'some', 'con', 'whole', 'here', 'fill', 'though', 'empty', 'former', 'within', 'anyone', 'system', 'myself', 'per', 'around', 'hereby', 'as', 'eleven', 'both', 'their', 'anyway', 'where', 'interest', 'moreover', 'thru', 'call', 'that', 'any', 'even', 'me', 'well', 'eight', 'and', 'hasnt', 'whither', 'bill', 'could', 'much', 'therein', 'across', 'forty', 'although', 'already', 'whatever', 'between', 'them', 'these', 'someone', 'too', 'fifteen', 'above', 'whom', 'hundred', 'whence', 'will', 'afterwards', 'can', 'fifty', 'there', 'out', 'very', 'never', 'take', 'onto', 're', 'same', 'almost', 'sometimes', 'except', 'becoming', 'have', 'among', 'an', 'due', 'if', 'amongst', 'no', 'was', 'seeming', 'its', 'everywhere', 'hereafter', 'whereby', 'hereupon', 'the', 'perhaps', 'co', 'without', 'amount', 'otherwise', 'own', 'each', 'most', 'my', 'last', 'amoungst', 'i', 'herself', 'whether', 'ours', 'other', 'you', 'bottom', 'how', 'back', 'latterly', 'a', 'him', 'at', 'throughout', 'yours', 'in', 'until', 'meanwhile', 'had', 'become', 'ourselves', 'latter', 'toward', 'seems', 'than', 'five', 'along', 'enough', 'through', 'when', 'our', 'whose', 'formerly', 'what', 'whenever', 'together', 'often', 'during', 'few', 'indeed', 'more', 'they', 'while', 'over', 'herein', 'elsewhere', 'every', 'third', 'mill', 'do', 'therefore', 'ie', 'please', 'somewhere', 'whereupon', 'seem', 'we', 'ten', 'behind', 'made', 'were', 'go', 'something', 'found', 'others', 'alone', 'side', 'anything', 'else', 'yet', 'themselves', 'always', 'find', 'sixty', 'only', 'upon', 'anyhow', 'thence', 'another', 'nothing', 'with', 'inc', 'less', 'cant', 'somehow', 'part', 'wherein', 'full', 'his', 'wherever', 'be', 'beyond', 'either', 'becomes', 'everyone', 'thick', 'three', 'us', 'four', 'nine', 'against', 'about', 'by', 'it', 'hence', 'twenty', 'she', 'noone', 'see', 'thereby', 'which', 'himself', 'whoever', 'hers', 'anywhere', 'itself', 'un', 'get', 'to', 'nowhere', 'thin', 'describe', 'yourselves', 'towards', 'below', 'beside', 'next', 'front', 'nobody', 'all', 'besides', 'whereas', 'least', 'under', 'being', 'her', 'cry', 'rather', 'on', 'mostly', 'show', 'de', 'once', 'twelve', 'but', 'up', 'since', 'are', 'neither', 'this', 'so', 'sometime', 'thereafter', 'must', 'now', 'two', 'again'})\n"
     ]
    }
   ],
   "source": [
    "from sklearn.feature_extraction import stop_words\n",
    "print(stop_words.ENGLISH_STOP_WORDS)"
   ]
  },
  {
   "cell_type": "markdown",
   "metadata": {},
   "source": [
    "You should have seen a large list of words that looks like:\n",
    "\n",
    "```frozenset({'across', 'mine', 'cannot', ...})```\n",
    "\n",
    "`frozenset` is a type of Python object that is immutable. In this lab you can use it just like an array without conversion."
   ]
  },
  {
   "cell_type": "markdown",
   "metadata": {},
   "source": [
    "Next, test your function with supplying `stop_words.ENGLISH_STOP_WORDS` as the second parameter."
   ]
  },
  {
   "cell_type": "code",
   "execution_count": 5,
   "metadata": {},
   "outputs": [
    {
     "name": "stdout",
     "output_type": "stream",
     "text": [
      "['ironhack is cool', 'i love ironhack', 'i am a student at ironhack']\n",
      "[[1, 1, 0, 0, 0], [1, 0, 1, 0, 0], [1, 0, 0, 1, 1]]\n",
      "{'bag_of_words': ['ironhack', 'cool', 'love', 'a', 'student'], 'term_freq': [[1, 1, 0, 0, 0], [1, 0, 1, 0, 0], [1, 0, 0, 1, 1]]}\n"
     ]
    }
   ],
   "source": [
    "bow = get_bow_from_docs(docs, stop_words.ENGLISH_STOP_WORDS)\n",
    "\n",
    "print(bow)"
   ]
  },
  {
   "cell_type": "markdown",
   "metadata": {},
   "source": [
    "You should have seen:\n",
    "\n",
    "```{'bag_of_words': ['ironhack', 'cool', 'love', 'student'], 'term_freq': [[1, 1, 0, 0], [1, 0, 1, 0], [1, 0, 0, 1]]}```"
   ]
  },
  {
   "cell_type": "code",
   "execution_count": null,
   "metadata": {},
   "outputs": [],
   "source": []
  }
 ],
 "metadata": {
  "kernelspec": {
   "display_name": "Python 3",
   "language": "python",
   "name": "python3"
  },
  "language_info": {
   "codemirror_mode": {
    "name": "ipython",
    "version": 3
   },
   "file_extension": ".py",
   "mimetype": "text/x-python",
   "name": "python",
   "nbconvert_exporter": "python",
   "pygments_lexer": "ipython3",
   "version": "3.7.3"
  }
 },
 "nbformat": 4,
 "nbformat_minor": 2
}
