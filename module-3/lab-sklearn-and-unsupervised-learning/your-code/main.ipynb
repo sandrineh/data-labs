{
 "cells": [
  {
   "cell_type": "markdown",
   "metadata": {},
   "source": [
    "# Before your start:\n",
    "- Read the README.md file\n",
    "- Comment as much as you can and use the resources in the README.md file\n",
    "- Happy learning!\n"
   ]
  },
  {
   "cell_type": "code",
   "execution_count": 1,
   "metadata": {},
   "outputs": [],
   "source": [
    "#Import your libraries\n",
    "import pandas as pd\n",
    "import numpy as np"
   ]
  },
  {
   "cell_type": "markdown",
   "metadata": {},
   "source": [
    "# Challenge 1 -  Explore the Internal Dataset\n",
    "\n",
    "In this lab, we will start off by working with the wine dataset in scikit-learn. We will select the wine dataset and use a clustering algorithm to learn more about the functionalities of this library. \n",
    "\n",
    "We start off by loading the dataset using the `load_wine` function ([documentation](https://scikit-learn.org/stable/modules/generated/sklearn.datasets.load_wine.html)). In the cell below, we will import the function from scikit-learn."
   ]
  },
  {
   "cell_type": "code",
   "execution_count": 2,
   "metadata": {},
   "outputs": [],
   "source": [
    "from sklearn.datasets import load_wine"
   ]
  },
  {
   "cell_type": "markdown",
   "metadata": {},
   "source": [
    "In the cell below, use the `load_wine` function and assign the wine dataset to a variable called `wine`."
   ]
  },
  {
   "cell_type": "code",
   "execution_count": 3,
   "metadata": {},
   "outputs": [],
   "source": [
    "# Your code here:\n",
    "wine = load_wine()"
   ]
  },
  {
   "cell_type": "markdown",
   "metadata": {},
   "source": [
    "In the next step, list the keys of the variable `wine` to examine its contents. Note that the `load_wine` function does not return dataframes. It returns you a Python dictionary."
   ]
  },
  {
   "cell_type": "code",
   "execution_count": 4,
   "metadata": {},
   "outputs": [
    {
     "data": {
      "text/plain": [
       "dict_keys(['data', 'target', 'target_names', 'DESCR', 'feature_names'])"
      ]
     },
     "execution_count": 4,
     "metadata": {},
     "output_type": "execute_result"
    }
   ],
   "source": [
    "# Your code here:\n",
    "wine.keys()"
   ]
  },
  {
   "cell_type": "markdown",
   "metadata": {},
   "source": [
    "Next, list the feature names. These are the different characteristics of the wine. "
   ]
  },
  {
   "cell_type": "code",
   "execution_count": 5,
   "metadata": {},
   "outputs": [
    {
     "data": {
      "text/plain": [
       "['alcohol',\n",
       " 'malic_acid',\n",
       " 'ash',\n",
       " 'alcalinity_of_ash',\n",
       " 'magnesium',\n",
       " 'total_phenols',\n",
       " 'flavanoids',\n",
       " 'nonflavanoid_phenols',\n",
       " 'proanthocyanins',\n",
       " 'color_intensity',\n",
       " 'hue',\n",
       " 'od280/od315_of_diluted_wines',\n",
       " 'proline']"
      ]
     },
     "execution_count": 5,
     "metadata": {},
     "output_type": "execute_result"
    }
   ],
   "source": [
    "# Your code here:\n",
    "wine['feature_names']"
   ]
  },
  {
   "cell_type": "markdown",
   "metadata": {},
   "source": [
    "Print the description of the dataset in the cell below using the `DESCR` attribute of the `wine` variable.\n",
    "\n",
    "*Hint: If your output is ill-formatted by displaying linebreaks as `\\n`, it means you are not using the print function.*"
   ]
  },
  {
   "cell_type": "code",
   "execution_count": 6,
   "metadata": {},
   "outputs": [
    {
     "name": "stdout",
     "output_type": "stream",
     "text": [
      "\n",
      ".. _wine_dataset:\n",
      "\n",
      "Wine recognition dataset\n",
      "------------------------\n",
      "\n",
      "**Data Set Characteristics:**\n",
      "\n",
      "    :Number of Instances: 178 (50 in each of three classes)\n",
      "    :Number of Attributes: 13 numeric, predictive attributes and the class\n",
      "    :Attribute Information:\n",
      " \t\t- Alcohol\n",
      " \t\t- Malic acid\n",
      " \t\t- Ash\n",
      "\t\t- Alcalinity of ash  \n",
      " \t\t- Magnesium\n",
      "\t\t- Total phenols\n",
      " \t\t- Flavanoids\n",
      " \t\t- Nonflavanoid phenols\n",
      " \t\t- Proanthocyanins\n",
      "\t\t- Color intensity\n",
      " \t\t- Hue\n",
      " \t\t- OD280/OD315 of diluted wines\n",
      " \t\t- Proline\n",
      "\n",
      "    - class:\n",
      "            - class_0\n",
      "            - class_1\n",
      "            - class_2\n",
      "\t\t\n",
      "    :Summary Statistics:\n",
      "    \n",
      "    ============================= ==== ===== ======= =====\n",
      "                                   Min   Max   Mean     SD\n",
      "    ============================= ==== ===== ======= =====\n",
      "    Alcohol:                      11.0  14.8    13.0   0.8\n",
      "    Malic Acid:                   0.74  5.80    2.34  1.12\n",
      "    Ash:                          1.36  3.23    2.36  0.27\n",
      "    Alcalinity of Ash:            10.6  30.0    19.5   3.3\n",
      "    Magnesium:                    70.0 162.0    99.7  14.3\n",
      "    Total Phenols:                0.98  3.88    2.29  0.63\n",
      "    Flavanoids:                   0.34  5.08    2.03  1.00\n",
      "    Nonflavanoid Phenols:         0.13  0.66    0.36  0.12\n",
      "    Proanthocyanins:              0.41  3.58    1.59  0.57\n",
      "    Colour Intensity:              1.3  13.0     5.1   2.3\n",
      "    Hue:                          0.48  1.71    0.96  0.23\n",
      "    OD280/OD315 of diluted wines: 1.27  4.00    2.61  0.71\n",
      "    Proline:                       278  1680     746   315\n",
      "    ============================= ==== ===== ======= =====\n",
      "\n",
      "    :Missing Attribute Values: None\n",
      "    :Class Distribution: class_0 (59), class_1 (71), class_2 (48)\n",
      "    :Creator: R.A. Fisher\n",
      "    :Donor: Michael Marshall (MARSHALL%PLU@io.arc.nasa.gov)\n",
      "    :Date: July, 1988\n",
      "\n",
      "This is a copy of UCI ML Wine recognition datasets.\n",
      "https://archive.ics.uci.edu/ml/machine-learning-databases/wine/wine.data\n",
      "\n",
      "The data is the results of a chemical analysis of wines grown in the same\n",
      "region in Italy by three different cultivators. There are thirteen different\n",
      "measurements taken for different constituents found in the three types of\n",
      "wine.\n",
      "\n",
      "Original Owners: \n",
      "\n",
      "Forina, M. et al, PARVUS - \n",
      "An Extendible Package for Data Exploration, Classification and Correlation. \n",
      "Institute of Pharmaceutical and Food Analysis and Technologies,\n",
      "Via Brigata Salerno, 16147 Genoa, Italy.\n",
      "\n",
      "Citation:\n",
      "\n",
      "Lichman, M. (2013). UCI Machine Learning Repository\n",
      "[https://archive.ics.uci.edu/ml]. Irvine, CA: University of California,\n",
      "School of Information and Computer Science. \n",
      "\n",
      ".. topic:: References\n",
      "\n",
      "  (1) S. Aeberhard, D. Coomans and O. de Vel, \n",
      "  Comparison of Classifiers in High Dimensional Settings, \n",
      "  Tech. Rep. no. 92-02, (1992), Dept. of Computer Science and Dept. of  \n",
      "  Mathematics and Statistics, James Cook University of North Queensland. \n",
      "  (Also submitted to Technometrics). \n",
      "\n",
      "  The data was used with many others for comparing various \n",
      "  classifiers. The classes are separable, though only RDA \n",
      "  has achieved 100% correct classification. \n",
      "  (RDA : 100%, QDA 99.4%, LDA 98.9%, 1NN 96.1% (z-transformed data)) \n",
      "  (All results using the leave-one-out technique) \n",
      "\n",
      "  (2) S. Aeberhard, D. Coomans and O. de Vel, \n",
      "  \"THE CLASSIFICATION PERFORMANCE OF RDA\" \n",
      "  Tech. Rep. no. 92-01, (1992), Dept. of Computer Science and Dept. of \n",
      "  Mathematics and Statistics, James Cook University of North Queensland. \n",
      "  (Also submitted to Journal of Chemometrics).\n",
      "\n"
     ]
    }
   ],
   "source": [
    "# Your code here:\n",
    "print('\\n'+wine['DESCR'])"
   ]
  },
  {
   "cell_type": "markdown",
   "metadata": {},
   "source": [
    "#### From the description, we see that all columns are numeric. We also know that there is no missing data \n",
    "\n",
    "Let's plot the alcohol content histogram. Recall that we are working with a numpy array and will need to use a matplotlib function to produce a histogram. "
   ]
  },
  {
   "cell_type": "code",
   "execution_count": 7,
   "metadata": {},
   "outputs": [],
   "source": [
    "# imports\n",
    "%matplotlib inline\n",
    "import seaborn as sns\n",
    "import matplotlib.pyplot as plt\n"
   ]
  },
  {
   "cell_type": "code",
   "execution_count": 8,
   "metadata": {},
   "outputs": [
    {
     "data": {
      "text/plain": [
       "array([[1.423e+01, 1.710e+00, 2.430e+00, ..., 1.040e+00, 3.920e+00,\n",
       "        1.065e+03],\n",
       "       [1.320e+01, 1.780e+00, 2.140e+00, ..., 1.050e+00, 3.400e+00,\n",
       "        1.050e+03],\n",
       "       [1.316e+01, 2.360e+00, 2.670e+00, ..., 1.030e+00, 3.170e+00,\n",
       "        1.185e+03],\n",
       "       ...,\n",
       "       [1.327e+01, 4.280e+00, 2.260e+00, ..., 5.900e-01, 1.560e+00,\n",
       "        8.350e+02],\n",
       "       [1.317e+01, 2.590e+00, 2.370e+00, ..., 6.000e-01, 1.620e+00,\n",
       "        8.400e+02],\n",
       "       [1.413e+01, 4.100e+00, 2.740e+00, ..., 6.100e-01, 1.600e+00,\n",
       "        5.600e+02]])"
      ]
     },
     "execution_count": 8,
     "metadata": {},
     "output_type": "execute_result"
    }
   ],
   "source": [
    "wine['data']\n"
   ]
  },
  {
   "cell_type": "code",
   "execution_count": 9,
   "metadata": {},
   "outputs": [],
   "source": [
    "data_alcohol=[]\n",
    "for i in range(len(wine['data'])):\n",
    "    data_alcohol.append(wine['data'][i][0])"
   ]
  },
  {
   "cell_type": "code",
   "execution_count": 10,
   "metadata": {},
   "outputs": [
    {
     "data": {
      "text/plain": [
       "(array([ 1., 10., 19., 31., 21., 27., 25., 25., 17.,  2.]),\n",
       " array([11.03, 11.41, 11.79, 12.17, 12.55, 12.93, 13.31, 13.69, 14.07,\n",
       "        14.45, 14.83]),\n",
       " <a list of 10 Patch objects>)"
      ]
     },
     "execution_count": 10,
     "metadata": {},
     "output_type": "execute_result"
    },
    {
     "data": {
      "image/png": "[encoded data removed]",
      "text/plain": [
       "<Figure size 432x288 with 1 Axes>"
      ]
     },
     "metadata": {
      "needs_background": "light"
     },
     "output_type": "display_data"
    }
   ],
   "source": [
    "counts, bins = np.histogram(data_alcohol)\n",
    "plt.hist(bins[:-1], bins, weights=counts)"
   ]
  },
  {
   "cell_type": "code",
   "execution_count": 11,
   "metadata": {},
   "outputs": [
    {
     "data": {
      "text/plain": [
       "(array([ 1.,  0.,  4.,  6.,  8., 11., 14., 17., 10., 11., 15., 12., 12.,\n",
       "        13., 18.,  7., 11.,  6.,  0.,  2.]),\n",
       " array([11.03, 11.22, 11.41, 11.6 , 11.79, 11.98, 12.17, 12.36, 12.55,\n",
       "        12.74, 12.93, 13.12, 13.31, 13.5 , 13.69, 13.88, 14.07, 14.26,\n",
       "        14.45, 14.64, 14.83]),\n",
       " <a list of 20 Patch objects>)"
      ]
     },
     "execution_count": 11,
     "metadata": {},
     "output_type": "execute_result"
    },
    {
     "data": {
      "image/png": "[encoded data removed]",
      "text/plain": [
       "<Figure size 432x288 with 1 Axes>"
      ]
     },
     "metadata": {
      "needs_background": "light"
     },
     "output_type": "display_data"
    }
   ],
   "source": [
    "# Your code here:\n",
    "plt.hist(data_alcohol,bins=20)"
   ]
  },
  {
   "cell_type": "markdown",
   "metadata": {},
   "source": [
    "# Challenge 2 - Clustering the Internal Dataset\n",
    "\n",
    "In this portion of the lab, we will cluster the data to find common traits between the different wines. We will use the k-means clustering algorithm to achieve this goal.\n",
    "\n",
    "#### We start by importing k-means from scikit-learn and then proceed to create 4 clusters."
   ]
  },
  {
   "cell_type": "code",
   "execution_count": 12,
   "metadata": {},
   "outputs": [],
   "source": [
    "# imports\n",
    "from sklearn.cluster import KMeans"
   ]
  },
  {
   "cell_type": "code",
   "execution_count": 13,
   "metadata": {},
   "outputs": [],
   "source": [
    "# Your code here:\n",
    "kmeans = KMeans(n_clusters=4).fit(wine['data'])"
   ]
  },
  {
   "cell_type": "markdown",
   "metadata": {},
   "source": [
    "#### Print the cluster labels."
   ]
  },
  {
   "cell_type": "code",
   "execution_count": 14,
   "metadata": {},
   "outputs": [
    {
     "data": {
      "text/plain": [
       "array([1, 1, 2, 2, 3, 2, 2, 2, 1, 1, 2, 2, 2, 1, 2, 2, 2, 1, 2, 3, 3, 3,\n",
       "       1, 1, 3, 3, 2, 2, 1, 1, 2, 2, 1, 2, 1, 1, 1, 1, 1, 3, 3, 1, 1, 3,\n",
       "       1, 1, 1, 1, 1, 2, 1, 2, 2, 2, 1, 1, 1, 2, 2, 0, 3, 0, 3, 0, 0, 3,\n",
       "       0, 0, 3, 3, 1, 0, 0, 1, 1, 0, 0, 0, 3, 0, 0, 3, 3, 0, 0, 0, 0, 0,\n",
       "       3, 3, 0, 0, 0, 0, 0, 1, 3, 0, 3, 0, 3, 0, 0, 0, 3, 0, 0, 0, 0, 3,\n",
       "       0, 0, 3, 0, 0, 0, 0, 0, 0, 0, 3, 0, 0, 0, 0, 0, 0, 0, 0, 3, 3, 0,\n",
       "       0, 3, 3, 3, 3, 0, 3, 3, 3, 3, 0, 0, 1, 3, 0, 3, 3, 0, 0, 0, 0, 3,\n",
       "       3, 3, 0, 1, 3, 3, 0, 3, 0, 3, 3, 0, 3, 3, 3, 3, 0, 0, 3, 3, 3, 3,\n",
       "       3, 0], dtype=int32)"
      ]
     },
     "execution_count": 14,
     "metadata": {},
     "output_type": "execute_result"
    }
   ],
   "source": [
    "# Your code here:\n",
    "kmeans.labels_"
   ]
  },
  {
   "cell_type": "markdown",
   "metadata": {},
   "source": [
    "#### Compute the size of each cluster. This can be done by counting the number of occurrences of each unique label in the list above.\n",
    "\n",
    "Which is the largest cluster of the 4?"
   ]
  },
  {
   "cell_type": "code",
   "execution_count": 15,
   "metadata": {},
   "outputs": [
    {
     "data": {
      "text/plain": [
       "(array([0, 1, 2, 3], dtype=int32), array([66, 33, 23, 56]))"
      ]
     },
     "execution_count": 15,
     "metadata": {},
     "output_type": "execute_result"
    }
   ],
   "source": [
    "# Your code here:\n",
    "np.unique(kmeans.labels_, return_counts=True)"
   ]
  },
  {
   "cell_type": "code",
   "execution_count": 16,
   "metadata": {},
   "outputs": [],
   "source": [
    "# Your answer here:\n",
    "    #the firts first cluster is the largest"
   ]
  },
  {
   "cell_type": "markdown",
   "metadata": {},
   "source": [
    "#### Inspect the shape of `wine['data']`"
   ]
  },
  {
   "cell_type": "code",
   "execution_count": 17,
   "metadata": {},
   "outputs": [
    {
     "data": {
      "text/plain": [
       "(178, 13)"
      ]
     },
     "execution_count": 17,
     "metadata": {},
     "output_type": "execute_result"
    }
   ],
   "source": [
    "# Your code here:\n",
    "wine['data'].shape"
   ]
  },
  {
   "cell_type": "markdown",
   "metadata": {},
   "source": [
    "#### Inspect the first 5 records in `wine['data']`"
   ]
  },
  {
   "cell_type": "code",
   "execution_count": 18,
   "metadata": {},
   "outputs": [
    {
     "data": {
      "text/plain": [
       "array([[1.423e+01, 1.710e+00, 2.430e+00, 1.560e+01, 1.270e+02, 2.800e+00,\n",
       "        3.060e+00, 2.800e-01, 2.290e+00, 5.640e+00, 1.040e+00, 3.920e+00,\n",
       "        1.065e+03],\n",
       "       [1.320e+01, 1.780e+00, 2.140e+00, 1.120e+01, 1.000e+02, 2.650e+00,\n",
       "        2.760e+00, 2.600e-01, 1.280e+00, 4.380e+00, 1.050e+00, 3.400e+00,\n",
       "        1.050e+03],\n",
       "       [1.316e+01, 2.360e+00, 2.670e+00, 1.860e+01, 1.010e+02, 2.800e+00,\n",
       "        3.240e+00, 3.000e-01, 2.810e+00, 5.680e+00, 1.030e+00, 3.170e+00,\n",
       "        1.185e+03],\n",
       "       [1.437e+01, 1.950e+00, 2.500e+00, 1.680e+01, 1.130e+02, 3.850e+00,\n",
       "        3.490e+00, 2.400e-01, 2.180e+00, 7.800e+00, 8.600e-01, 3.450e+00,\n",
       "        1.480e+03],\n",
       "       [1.324e+01, 2.590e+00, 2.870e+00, 2.100e+01, 1.180e+02, 2.800e+00,\n",
       "        2.690e+00, 3.900e-01, 1.820e+00, 4.320e+00, 1.040e+00, 2.930e+00,\n",
       "        7.350e+02]])"
      ]
     },
     "execution_count": 18,
     "metadata": {},
     "output_type": "execute_result"
    }
   ],
   "source": [
    "# Your code here:\n",
    "wine['data'][:5]"
   ]
  },
  {
   "cell_type": "markdown",
   "metadata": {},
   "source": [
    "You now know the data object is a 2-dimensional array in which there are 178 rows and 13 columns. Each row is a data record and each column is a feature.\n",
    "\n",
    "#### What is the average ash content for each cluster? \n",
    "\n",
    "*Hints:* \n",
    "\n",
    "* *Ash* is the 3rd column.\n",
    "\n",
    "* The data object is not a Pandas dataframe so you can't apply `pandas.DataFrame.groupby`. Instead, you can use `np.average`."
   ]
  },
  {
   "cell_type": "code",
   "execution_count": 19,
   "metadata": {},
   "outputs": [
    {
     "data": {
      "text/plain": [
       "(array([ 59,  61,  63,  64,  66,  67,  71,  72,  75,  76,  77,  79,  80,\n",
       "         83,  84,  85,  86,  87,  90,  91,  92,  93,  94,  97,  99, 101,\n",
       "        102, 103, 105, 106, 107, 108, 110, 111, 113, 114, 115, 116, 117,\n",
       "        118, 119, 121, 122, 123, 124, 125, 126, 127, 128, 131, 132, 137,\n",
       "        142, 143, 146, 149, 150, 151, 152, 156, 160, 162, 165, 170, 171,\n",
       "        177]),)"
      ]
     },
     "execution_count": 19,
     "metadata": {},
     "output_type": "execute_result"
    }
   ],
   "source": [
    "np.where(kmeans.labels_==0) #donne les instancees qui ont mis dans le cluster 0"
   ]
  },
  {
   "cell_type": "code",
   "execution_count": 20,
   "metadata": {},
   "outputs": [
    {
     "data": {
      "text/plain": [
       "(2.283787878787879, 2.365757575757576, 2.5069565217391307, 2.406785714285714)"
      ]
     },
     "execution_count": 20,
     "metadata": {},
     "output_type": "execute_result"
    }
   ],
   "source": [
    "# Your code here:\n",
    "(np.average(wine['data'][:,2][np.where(kmeans.labels_==0)]),\n",
    " np.average(wine['data'][:,2][np.where(kmeans.labels_==1)]),\n",
    " np.average(wine['data'][:,2][np.where(kmeans.labels_==2)]),\n",
    " np.average(wine['data'][:,2][np.where(kmeans.labels_==3)]))"
   ]
  },
  {
   "cell_type": "code",
   "execution_count": 21,
   "metadata": {},
   "outputs": [
    {
     "data": {
      "text/plain": [
       "array([2.26, 2.37, 2.74])"
      ]
     },
     "execution_count": 21,
     "metadata": {},
     "output_type": "execute_result"
    }
   ],
   "source": [
    "# Lignes 1 2 3 et 4 pour les colonnes à partir de la colonne nommée 2\n",
    "wine['data'][-3:,2]"
   ]
  },
  {
   "cell_type": "code",
   "execution_count": 22,
   "metadata": {},
   "outputs": [],
   "source": [
    " l = list(range(10))"
   ]
  },
  {
   "cell_type": "code",
   "execution_count": 23,
   "metadata": {},
   "outputs": [
    {
     "data": {
      "text/plain": [
       "[0, 1, 2, 3, 4, 5, 6, 7, 8]"
      ]
     },
     "execution_count": 23,
     "metadata": {},
     "output_type": "execute_result"
    }
   ],
   "source": [
    "# 4 premiers\n",
    "l[:4]\n",
    "\n",
    "# 1, 2, 3, 4\n",
    "l[1:5]\n",
    "\n",
    "\n",
    "# juste le dernier\n",
    "l[-1]\n",
    "\n",
    "# juste les 3 derniers\n",
    "l[-3:]\n",
    "\n",
    "# Tous sauf le dernier\n",
    "l[:-1]\n"
   ]
  },
  {
   "cell_type": "markdown",
   "metadata": {},
   "source": [
    "# Challenge 3 - Load and Explore an External Dataset\n",
    "\n",
    "We will now load an external dataset using Pandas and use scikit learn to explore the data. In this portion of the lab, we will use a [patient dataset from Kaggle](https://www.kaggle.com/miles99/patient-admission-dataset-for-learning-data-mining). "
   ]
  },
  {
   "cell_type": "code",
   "execution_count": 24,
   "metadata": {},
   "outputs": [],
   "source": [
    "patients = pd.read_csv('../patient-admission-dataset-for-learning-data-mining.csv')"
   ]
  },
  {
   "cell_type": "markdown",
   "metadata": {},
   "source": [
    "In the next cell, print the first five rows of the data using the `head()` function."
   ]
  },
  {
   "cell_type": "code",
   "execution_count": 25,
   "metadata": {},
   "outputs": [
    {
     "data": {
      "text/html": [
       "<div>\n",
       "<style scoped>\n",
       "    .dataframe tbody tr th:only-of-type {\n",
       "        vertical-align: middle;\n",
       "    }\n",
       "\n",
       "    .dataframe tbody tr th {\n",
       "        vertical-align: top;\n",
       "    }\n",
       "\n",
       "    .dataframe thead th {\n",
       "        text-align: right;\n",
       "    }\n",
       "</style>\n",
       "<table border=\"1\" class=\"dataframe\">\n",
       "  <thead>\n",
       "    <tr style=\"text-align: right;\">\n",
       "      <th></th>\n",
       "      <th>id</th>\n",
       "      <th>patient_name</th>\n",
       "      <th>patient_email</th>\n",
       "      <th>doctor_phone</th>\n",
       "      <th>patient_gender</th>\n",
       "      <th>patient_dob</th>\n",
       "      <th>patient_diabetic</th>\n",
       "      <th>patient_allergic</th>\n",
       "      <th>patient_weight_kg</th>\n",
       "      <th>patient_height_sm</th>\n",
       "      <th>patient_nhs_number</th>\n",
       "      <th>doctor_name</th>\n",
       "      <th>appointment_date</th>\n",
       "      <th>patient_show</th>\n",
       "      <th>is_regular_visit</th>\n",
       "      <th>prescribed_medicines</th>\n",
       "      <th>diagnosis</th>\n",
       "    </tr>\n",
       "  </thead>\n",
       "  <tbody>\n",
       "    <tr>\n",
       "      <th>0</th>\n",
       "      <td>1</td>\n",
       "      <td>Celestyna Dillimore</td>\n",
       "      <td>cdillimore0@dion.ne.jp</td>\n",
       "      <td>674-914-1212</td>\n",
       "      <td>Female</td>\n",
       "      <td>10/18/2018</td>\n",
       "      <td>False</td>\n",
       "      <td>True</td>\n",
       "      <td>59</td>\n",
       "      <td>176</td>\n",
       "      <td>8.200152e+09</td>\n",
       "      <td>Sarena Waliszek</td>\n",
       "      <td>5/1/2018</td>\n",
       "      <td>True</td>\n",
       "      <td>True</td>\n",
       "      <td>triamcinolone acetonide</td>\n",
       "      <td>I669</td>\n",
       "    </tr>\n",
       "    <tr>\n",
       "      <th>1</th>\n",
       "      <td>2</td>\n",
       "      <td>Meta Michieli</td>\n",
       "      <td>mmichieli1@loc.gov</td>\n",
       "      <td>172-580-3586</td>\n",
       "      <td>Female</td>\n",
       "      <td>2/8/2018</td>\n",
       "      <td>False</td>\n",
       "      <td>True</td>\n",
       "      <td>77</td>\n",
       "      <td>186</td>\n",
       "      <td>NaN</td>\n",
       "      <td>Farris Robinet</td>\n",
       "      <td>12/7/2017</td>\n",
       "      <td>True</td>\n",
       "      <td>True</td>\n",
       "      <td>NaN</td>\n",
       "      <td>NaN</td>\n",
       "    </tr>\n",
       "    <tr>\n",
       "      <th>2</th>\n",
       "      <td>3</td>\n",
       "      <td>Cordie Sancto</td>\n",
       "      <td>csancto2@cafepress.com</td>\n",
       "      <td>794-222-5085</td>\n",
       "      <td>Female</td>\n",
       "      <td>10/9/2018</td>\n",
       "      <td>True</td>\n",
       "      <td>True</td>\n",
       "      <td>90</td>\n",
       "      <td>177</td>\n",
       "      <td>6.145594e+09</td>\n",
       "      <td>Kaspar Spitaro</td>\n",
       "      <td>10/5/2018</td>\n",
       "      <td>False</td>\n",
       "      <td>False</td>\n",
       "      <td>NaN</td>\n",
       "      <td>NaN</td>\n",
       "    </tr>\n",
       "    <tr>\n",
       "      <th>3</th>\n",
       "      <td>4</td>\n",
       "      <td>Josh De Ambrosis</td>\n",
       "      <td>jde3@amazon.co.jp</td>\n",
       "      <td>856-540-5195</td>\n",
       "      <td>Male</td>\n",
       "      <td>9/10/2018</td>\n",
       "      <td>True</td>\n",
       "      <td>True</td>\n",
       "      <td>70</td>\n",
       "      <td>150</td>\n",
       "      <td>NaN</td>\n",
       "      <td>Rafferty Fowls</td>\n",
       "      <td>10/21/2018</td>\n",
       "      <td>False</td>\n",
       "      <td>True</td>\n",
       "      <td>NaN</td>\n",
       "      <td>NaN</td>\n",
       "    </tr>\n",
       "    <tr>\n",
       "      <th>4</th>\n",
       "      <td>5</td>\n",
       "      <td>Delinda Alfonsini</td>\n",
       "      <td>dalfonsini4@opensource.org</td>\n",
       "      <td>938-978-1131</td>\n",
       "      <td>Female</td>\n",
       "      <td>2/26/2018</td>\n",
       "      <td>False</td>\n",
       "      <td>True</td>\n",
       "      <td>82</td>\n",
       "      <td>140</td>\n",
       "      <td>4.804758e+08</td>\n",
       "      <td>Glenna MacNeachtain</td>\n",
       "      <td>11/15/2018</td>\n",
       "      <td>False</td>\n",
       "      <td>False</td>\n",
       "      <td>NaN</td>\n",
       "      <td>NaN</td>\n",
       "    </tr>\n",
       "  </tbody>\n",
       "</table>\n",
       "</div>"
      ],
      "text/plain": [
       "   id         patient_name               patient_email  doctor_phone  \\\n",
       "0   1  Celestyna Dillimore      cdillimore0@dion.ne.jp  674-914-1212   \n",
       "1   2        Meta Michieli          mmichieli1@loc.gov  172-580-3586   \n",
       "2   3        Cordie Sancto      csancto2@cafepress.com  794-222-5085   \n",
       "3   4     Josh De Ambrosis           jde3@amazon.co.jp  856-540-5195   \n",
       "4   5    Delinda Alfonsini  dalfonsini4@opensource.org  938-978-1131   \n",
       "\n",
       "  patient_gender patient_dob  patient_diabetic  patient_allergic  \\\n",
       "0         Female  10/18/2018             False              True   \n",
       "1         Female    2/8/2018             False              True   \n",
       "2         Female   10/9/2018              True              True   \n",
       "3           Male   9/10/2018              True              True   \n",
       "4         Female   2/26/2018             False              True   \n",
       "\n",
       "   patient_weight_kg  patient_height_sm  patient_nhs_number  \\\n",
       "0                 59                176        8.200152e+09   \n",
       "1                 77                186                 NaN   \n",
       "2                 90                177        6.145594e+09   \n",
       "3                 70                150                 NaN   \n",
       "4                 82                140        4.804758e+08   \n",
       "\n",
       "           doctor_name appointment_date  patient_show  is_regular_visit  \\\n",
       "0      Sarena Waliszek         5/1/2018          True              True   \n",
       "1       Farris Robinet        12/7/2017          True              True   \n",
       "2       Kaspar Spitaro        10/5/2018         False             False   \n",
       "3       Rafferty Fowls       10/21/2018         False              True   \n",
       "4  Glenna MacNeachtain       11/15/2018         False             False   \n",
       "\n",
       "      prescribed_medicines diagnosis  \n",
       "0  triamcinolone acetonide      I669  \n",
       "1                      NaN       NaN  \n",
       "2                      NaN       NaN  \n",
       "3                      NaN       NaN  \n",
       "4                      NaN       NaN  "
      ]
     },
     "execution_count": 25,
     "metadata": {},
     "output_type": "execute_result"
    }
   ],
   "source": [
    "# Your code here:\n",
    "patients.head()"
   ]
  },
  {
   "cell_type": "code",
   "execution_count": 26,
   "metadata": {},
   "outputs": [
    {
     "data": {
      "text/plain": [
       "(1000, 17)"
      ]
     },
     "execution_count": 26,
     "metadata": {},
     "output_type": "execute_result"
    }
   ],
   "source": [
    "patients.shape"
   ]
  },
  {
   "cell_type": "markdown",
   "metadata": {},
   "source": [
    "Next, print the column types and check which columns have been misclassified by pandas."
   ]
  },
  {
   "cell_type": "code",
   "execution_count": 27,
   "metadata": {},
   "outputs": [
    {
     "data": {
      "text/plain": [
       "id                        int64\n",
       "patient_name             object\n",
       "patient_email            object\n",
       "doctor_phone             object\n",
       "patient_gender           object\n",
       "patient_dob              object\n",
       "patient_diabetic           bool\n",
       "patient_allergic           bool\n",
       "patient_weight_kg         int64\n",
       "patient_height_sm         int64\n",
       "patient_nhs_number      float64\n",
       "doctor_name              object\n",
       "appointment_date         object\n",
       "patient_show               bool\n",
       "is_regular_visit           bool\n",
       "prescribed_medicines     object\n",
       "diagnosis                object\n",
       "dtype: object"
      ]
     },
     "execution_count": 27,
     "metadata": {},
     "output_type": "execute_result"
    }
   ],
   "source": [
    "# Your code here:\n",
    "patients.dtypes \n",
    "# dob et appointment_date should be datetime type"
   ]
  },
  {
   "cell_type": "markdown",
   "metadata": {},
   "source": [
    "#### We can see that none of the date columns have been correctly classified. Also, some columns contain qualitative data that can be dropped.\n",
    "\n",
    "First, transform the `patient_dob` and `appointment_date` columns to datetime using the `pd.to_datetime` function."
   ]
  },
  {
   "cell_type": "code",
   "execution_count": 28,
   "metadata": {},
   "outputs": [
    {
     "data": {
      "text/plain": [
       "id                               int64\n",
       "patient_name                    object\n",
       "patient_email                   object\n",
       "doctor_phone                    object\n",
       "patient_gender                  object\n",
       "patient_dob             datetime64[ns]\n",
       "patient_diabetic                  bool\n",
       "patient_allergic                  bool\n",
       "patient_weight_kg                int64\n",
       "patient_height_sm                int64\n",
       "patient_nhs_number             float64\n",
       "doctor_name                     object\n",
       "appointment_date        datetime64[ns]\n",
       "patient_show                      bool\n",
       "is_regular_visit                  bool\n",
       "prescribed_medicines            object\n",
       "diagnosis                       object\n",
       "dtype: object"
      ]
     },
     "execution_count": 28,
     "metadata": {},
     "output_type": "execute_result"
    }
   ],
   "source": [
    "# Your code here:\n",
    "patients['patient_dob'] = pd.to_datetime(patients['patient_dob'])\n",
    "patients['appointment_date'] = pd.to_datetime(patients['appointment_date'])\n",
    "patients.dtypes "
   ]
  },
  {
   "cell_type": "markdown",
   "metadata": {},
   "source": [
    "Next, drop the `id`, `patient_name`, `patient_email`, `patient_nhs_number`, and `doctor_phone` columns. These are not quantitative columns and will not contribute to our analysis."
   ]
  },
  {
   "cell_type": "code",
   "execution_count": 29,
   "metadata": {},
   "outputs": [],
   "source": [
    "# Your code here:\n",
    "patients.drop(columns=['id', 'patient_name', 'patient_email', 'patient_nhs_number', 'doctor_phone'], inplace=True)"
   ]
  },
  {
   "cell_type": "code",
   "execution_count": 30,
   "metadata": {},
   "outputs": [
    {
     "data": {
      "text/html": [
       "<div>\n",
       "<style scoped>\n",
       "    .dataframe tbody tr th:only-of-type {\n",
       "        vertical-align: middle;\n",
       "    }\n",
       "\n",
       "    .dataframe tbody tr th {\n",
       "        vertical-align: top;\n",
       "    }\n",
       "\n",
       "    .dataframe thead th {\n",
       "        text-align: right;\n",
       "    }\n",
       "</style>\n",
       "<table border=\"1\" class=\"dataframe\">\n",
       "  <thead>\n",
       "    <tr style=\"text-align: right;\">\n",
       "      <th></th>\n",
       "      <th>patient_gender</th>\n",
       "      <th>patient_dob</th>\n",
       "      <th>patient_diabetic</th>\n",
       "      <th>patient_allergic</th>\n",
       "      <th>patient_weight_kg</th>\n",
       "      <th>patient_height_sm</th>\n",
       "      <th>doctor_name</th>\n",
       "      <th>appointment_date</th>\n",
       "      <th>patient_show</th>\n",
       "      <th>is_regular_visit</th>\n",
       "      <th>prescribed_medicines</th>\n",
       "      <th>diagnosis</th>\n",
       "    </tr>\n",
       "  </thead>\n",
       "  <tbody>\n",
       "    <tr>\n",
       "      <th>0</th>\n",
       "      <td>Female</td>\n",
       "      <td>2018-10-18</td>\n",
       "      <td>False</td>\n",
       "      <td>True</td>\n",
       "      <td>59</td>\n",
       "      <td>176</td>\n",
       "      <td>Sarena Waliszek</td>\n",
       "      <td>2018-05-01</td>\n",
       "      <td>True</td>\n",
       "      <td>True</td>\n",
       "      <td>triamcinolone acetonide</td>\n",
       "      <td>I669</td>\n",
       "    </tr>\n",
       "    <tr>\n",
       "      <th>1</th>\n",
       "      <td>Female</td>\n",
       "      <td>2018-02-08</td>\n",
       "      <td>False</td>\n",
       "      <td>True</td>\n",
       "      <td>77</td>\n",
       "      <td>186</td>\n",
       "      <td>Farris Robinet</td>\n",
       "      <td>2017-12-07</td>\n",
       "      <td>True</td>\n",
       "      <td>True</td>\n",
       "      <td>NaN</td>\n",
       "      <td>NaN</td>\n",
       "    </tr>\n",
       "    <tr>\n",
       "      <th>2</th>\n",
       "      <td>Female</td>\n",
       "      <td>2018-10-09</td>\n",
       "      <td>True</td>\n",
       "      <td>True</td>\n",
       "      <td>90</td>\n",
       "      <td>177</td>\n",
       "      <td>Kaspar Spitaro</td>\n",
       "      <td>2018-10-05</td>\n",
       "      <td>False</td>\n",
       "      <td>False</td>\n",
       "      <td>NaN</td>\n",
       "      <td>NaN</td>\n",
       "    </tr>\n",
       "    <tr>\n",
       "      <th>3</th>\n",
       "      <td>Male</td>\n",
       "      <td>2018-09-10</td>\n",
       "      <td>True</td>\n",
       "      <td>True</td>\n",
       "      <td>70</td>\n",
       "      <td>150</td>\n",
       "      <td>Rafferty Fowls</td>\n",
       "      <td>2018-10-21</td>\n",
       "      <td>False</td>\n",
       "      <td>True</td>\n",
       "      <td>NaN</td>\n",
       "      <td>NaN</td>\n",
       "    </tr>\n",
       "    <tr>\n",
       "      <th>4</th>\n",
       "      <td>Female</td>\n",
       "      <td>2018-02-26</td>\n",
       "      <td>False</td>\n",
       "      <td>True</td>\n",
       "      <td>82</td>\n",
       "      <td>140</td>\n",
       "      <td>Glenna MacNeachtain</td>\n",
       "      <td>2018-11-15</td>\n",
       "      <td>False</td>\n",
       "      <td>False</td>\n",
       "      <td>NaN</td>\n",
       "      <td>NaN</td>\n",
       "    </tr>\n",
       "  </tbody>\n",
       "</table>\n",
       "</div>"
      ],
      "text/plain": [
       "  patient_gender patient_dob  patient_diabetic  patient_allergic  \\\n",
       "0         Female  2018-10-18             False              True   \n",
       "1         Female  2018-02-08             False              True   \n",
       "2         Female  2018-10-09              True              True   \n",
       "3           Male  2018-09-10              True              True   \n",
       "4         Female  2018-02-26             False              True   \n",
       "\n",
       "   patient_weight_kg  patient_height_sm          doctor_name appointment_date  \\\n",
       "0                 59                176      Sarena Waliszek       2018-05-01   \n",
       "1                 77                186       Farris Robinet       2017-12-07   \n",
       "2                 90                177       Kaspar Spitaro       2018-10-05   \n",
       "3                 70                150       Rafferty Fowls       2018-10-21   \n",
       "4                 82                140  Glenna MacNeachtain       2018-11-15   \n",
       "\n",
       "   patient_show  is_regular_visit     prescribed_medicines diagnosis  \n",
       "0          True              True  triamcinolone acetonide      I669  \n",
       "1          True              True                      NaN       NaN  \n",
       "2         False             False                      NaN       NaN  \n",
       "3         False              True                      NaN       NaN  \n",
       "4         False             False                      NaN       NaN  "
      ]
     },
     "execution_count": 30,
     "metadata": {},
     "output_type": "execute_result"
    }
   ],
   "source": [
    "patients.head()"
   ]
  },
  {
   "cell_type": "code",
   "execution_count": 31,
   "metadata": {},
   "outputs": [
    {
     "data": {
      "text/plain": [
       "(1000, 12)"
      ]
     },
     "execution_count": 31,
     "metadata": {},
     "output_type": "execute_result"
    }
   ],
   "source": [
    "patients.shape"
   ]
  },
  {
   "cell_type": "markdown",
   "metadata": {},
   "source": [
    "Now we work on the missing data. Most ML algorithms will not perform as intended if there are missing data.\n",
    "\n",
    "In the cell below, count how many rows contain missing data in each column. You should see three columns contain missing data:\n",
    "\n",
    "* `doctor_name`: 58 missing data\n",
    "* `prescribed_medicines`: 488 missing data\n",
    "* `diagnosis`: 488 missing data"
   ]
  },
  {
   "cell_type": "code",
   "execution_count": 32,
   "metadata": {},
   "outputs": [
    {
     "data": {
      "text/plain": [
       "patient_gender            0\n",
       "patient_dob               0\n",
       "patient_diabetic          0\n",
       "patient_allergic          0\n",
       "patient_weight_kg         0\n",
       "patient_height_sm         0\n",
       "doctor_name              58\n",
       "appointment_date          0\n",
       "patient_show              0\n",
       "is_regular_visit          0\n",
       "prescribed_medicines    488\n",
       "diagnosis               488\n",
       "dtype: int64"
      ]
     },
     "execution_count": 32,
     "metadata": {},
     "output_type": "execute_result"
    }
   ],
   "source": [
    "# Your code here:\n",
    "patients.isna().sum()"
   ]
  },
  {
   "cell_type": "markdown",
   "metadata": {},
   "source": [
    "The main issues are found in the `prescribed_medicines` and `diagnosis` columns. Can we simply drop these rows?\n",
    "\n",
    "The answer is not yet. Because when there are missing data in these columns, it doesn't mean the data records are broken. Instead, it means no medication was prescribed and no diagnosis was recorded. Therefore, once we fill in the missing data these columns will be fine. But we'll revisit these columns and decide whether we will eventually drop them when we look at how many unique values are there in these categorical columns.  \n",
    "\n",
    "For the `prescribed_medicines` column, fill the missing values with the value `no prescription`. For the `diagnosis` column, fill the missing values with `no diagnosis`.\n",
    "\n",
    "*Hint: Use [`pandas.DataFrame.fillna`](https://pandas.pydata.org/pandas-docs/stable/generated/pandas.DataFrame.fillna.html).*"
   ]
  },
  {
   "cell_type": "code",
   "execution_count": 33,
   "metadata": {},
   "outputs": [],
   "source": [
    "# Your code here:\n",
    "patients['prescribed_medicines'].fillna('no prescription', inplace=True)\n",
    "patients['diagnosis'].fillna('no diagnosis', inplace=True)"
   ]
  },
  {
   "cell_type": "markdown",
   "metadata": {},
   "source": [
    "How about `doctor_name`? Since a doctor visit without a doctor name might not be meaningful, we will drop these rows."
   ]
  },
  {
   "cell_type": "code",
   "execution_count": 34,
   "metadata": {},
   "outputs": [],
   "source": [
    "# Your code here:\n",
    "#df.dropna(axis=1)\n",
    "#patients.isna().sum()\n",
    "patients = patients.dropna(axis=0)"
   ]
  },
  {
   "cell_type": "code",
   "execution_count": 35,
   "metadata": {},
   "outputs": [
    {
     "data": {
      "text/plain": [
       "(942, 12)"
      ]
     },
     "execution_count": 35,
     "metadata": {},
     "output_type": "execute_result"
    }
   ],
   "source": [
    "patients.shape"
   ]
  },
  {
   "cell_type": "markdown",
   "metadata": {},
   "source": [
    "#### Another step in preprocessing that can be performed by scikit-learn is label encoding. \n",
    "\n",
    "We have 4 columns that are of `bool` type. We would like to convert them to an integer column containing either zero or one. We can do this using [scikit-learn's label encoder](https://scikit-learn.org/stable/modules/generated/sklearn.preprocessing.LabelEncoder.html).\n",
    "\n",
    "In the cell below, import the label encoder and encode the 4 boolean columns (*patient_diabetic*, *patient_allergic*, *patient_show*, *is_regular_visit*) with `0` and `1`. "
   ]
  },
  {
   "cell_type": "code",
   "execution_count": 36,
   "metadata": {},
   "outputs": [],
   "source": [
    "# Your code here:\n",
    "from sklearn import preprocessing\n",
    "# Create a label (category) encoder object\n",
    "le = preprocessing.LabelEncoder()\n",
    "# Fit the encoder to the pandas column\n",
    "for x in ['patient_diabetic', 'patient_allergic', 'patient_show', 'is_regular_visit']:\n",
    "    patients[x] = le.fit(patients[x]).transform(patients[x]) \n"
   ]
  },
  {
   "cell_type": "code",
   "execution_count": 37,
   "metadata": {},
   "outputs": [],
   "source": [
    "# View the labels (if you want)\n",
    "    #list(le.classes_)"
   ]
  },
  {
   "cell_type": "markdown",
   "metadata": {},
   "source": [
    "Print the data dtypes to confirm those four `bool` columns are converted to `int64`."
   ]
  },
  {
   "cell_type": "code",
   "execution_count": 38,
   "metadata": {},
   "outputs": [
    {
     "data": {
      "text/plain": [
       "patient_gender                  object\n",
       "patient_dob             datetime64[ns]\n",
       "patient_diabetic                 int64\n",
       "patient_allergic                 int64\n",
       "patient_weight_kg                int64\n",
       "patient_height_sm                int64\n",
       "doctor_name                     object\n",
       "appointment_date        datetime64[ns]\n",
       "patient_show                     int64\n",
       "is_regular_visit                 int64\n",
       "prescribed_medicines            object\n",
       "diagnosis                       object\n",
       "dtype: object"
      ]
     },
     "execution_count": 38,
     "metadata": {},
     "output_type": "execute_result"
    }
   ],
   "source": [
    "# Your code here:\n",
    "patients.dtypes"
   ]
  },
  {
   "cell_type": "markdown",
   "metadata": {},
   "source": [
    "#### The last step is to handle the `object` data.\n",
    "\n",
    "There are 4 `object` columns now: `patient_gender`, `doctor_name`, `prescribed_medicines`, and `diagnosis`. The gender columns\n",
    "\n",
    "In the next cell, check the unique values of each of the `object` columns using `value_counts()`."
   ]
  },
  {
   "cell_type": "code",
   "execution_count": 39,
   "metadata": {
    "scrolled": false
   },
   "outputs": [
    {
     "data": {
      "text/plain": [
       "[Female    476\n",
       " Male      466\n",
       " Name: patient_gender, dtype: int64, Sarena Waliszek           74\n",
       " Cissy Markey              57\n",
       " Farris Robinet            55\n",
       " Flossy Canlin             55\n",
       " Jilly McGrill             53\n",
       " Glenna MacNeachtain       53\n",
       " Gabie Brafield            53\n",
       " Nerte Elmer               51\n",
       " Oralie Swaffer            49\n",
       " Kaspar Spitaro            48\n",
       " Carly SperaJillie Katt    47\n",
       " Wyn Grassett              47\n",
       " Humfried Cartmel          47\n",
       " Madelina Scurrell         46\n",
       " Rafferty Fowls            45\n",
       " Dulce McKerley            42\n",
       " Rouvin McKinstry          42\n",
       " Ryley Swallow             40\n",
       " Hermina Domeny            38\n",
       " Name: doctor_name, dtype: int64, no prescription                                                                                                         457\n",
       " ALCOHOL                                                                                                                   8\n",
       " Ibuprofen                                                                                                                 6\n",
       " Acetaminophen                                                                                                             5\n",
       " Triclosan                                                                                                                 5\n",
       " Nicotine Polacrilex                                                                                                       4\n",
       " Aluminum Zirconium Tetrachlorohydrex GLY                                                                                  4\n",
       " Glycerin                                                                                                                  3\n",
       " Octinoxate and Oxybenzone                                                                                                 3\n",
       " Oxcarbazepine                                                                                                             3\n",
       " Menthol                                                                                                                   3\n",
       " Zinc Oxide                                                                                                                3\n",
       " Sodium Fluoride                                                                                                           3\n",
       " Amlodipine Besylate                                                                                                       3\n",
       " Benzalkonium Chloride                                                                                                     3\n",
       " Hydrocodone Bitartrate and Acetaminophen                                                                                  3\n",
       " Dexamethasone                                                                                                             3\n",
       " Metformin Hydrochloride                                                                                                   3\n",
       " False Ragweed                                                                                                             2\n",
       " Potassium Chloride                                                                                                        2\n",
       " salicylic acid                                                                                                            2\n",
       " Sulfamethoxazole and Trimethoprim                                                                                         2\n",
       " GLYCERIN                                                                                                                  2\n",
       " Acetaminophen, Dextromethorphan HBr, Guaifenesin, Phenylephrine HCl                                                       2\n",
       " divalproex sodium                                                                                                         2\n",
       " Terbinafine Hydrochloride                                                                                                 2\n",
       " Diphenhydramine HCl                                                                                                       2\n",
       " Octinoxate and Titanium dioxide                                                                                           2\n",
       " Amoxicillin                                                                                                               2\n",
       " Antihemophilic Factor (Recombinant)                                                                                       2\n",
       "                                                                                                                        ... \n",
       " Lidocaine Hydrochloride-Menthol                                                                                           1\n",
       " OCTINOXATE, OCTISALATE, ZINC OXIDE, OXYBENZONE                                                                            1\n",
       " Lidocaine Hydrochloride                                                                                                   1\n",
       " Lansoprazole                                                                                                              1\n",
       " Polyethylene Glycol 3350, Sodium Sulfate Anhydrous, Sodium Bicarbonate, Sodium Chloride, Potassium Chloride               1\n",
       " Folic Acid                                                                                                                1\n",
       " Levocetirizine Dihydrochloride                                                                                            1\n",
       " albuterol sulfate                                                                                                         1\n",
       " Methyl salicylate, Menthol, Capsaicin                                                                                     1\n",
       " Apis Rhus                                                                                                                 1\n",
       " fomepizole                                                                                                                1\n",
       " OXYBENZONE, AVOBENZONE, OCTOCRYLENE                                                                                       1\n",
       " Acetaminophen, Aspirin, Caffeine                                                                                          1\n",
       " ZINC OXIDE                                                                                                                1\n",
       " Medroxyprogesterone Acetate                                                                                               1\n",
       " Potassium Iodide                                                                                                          1\n",
       " Metoclopramide Hydrochloride                                                                                              1\n",
       " amoxicillin and clavulanate potassium                                                                                     1\n",
       " Aralia racemosa, Arsenicum album, Histaminum hydrochloricum, Nux vomica, Oleum animale, Phosphorus, Silicea, Sulphur      1\n",
       " Avobenzone, Octinoxate, Octisalate, Oxybenzone                                                                            1\n",
       " Sweetgum                                                                                                                  1\n",
       " TRIHEXYPHENIDYL HYDROCHLORIDE                                                                                             1\n",
       " valsartan and hydrochlorothiazide                                                                                         1\n",
       " Hormodendrum                                                                                                              1\n",
       " Losartan Potassium                                                                                                        1\n",
       " bethanechol chloride                                                                                                      1\n",
       " aluminum hydroxide                                                                                                        1\n",
       " Pseudoephedrine Hydrochloride                                                                                             1\n",
       " phytonadione                                                                                                              1\n",
       " dextromethorphan polistirex                                                                                               1\n",
       " Name: prescribed_medicines, Length: 395, dtype: int64, no diagnosis    457\n",
       " T2169             2\n",
       " S238XXS           1\n",
       " M2441             1\n",
       " S52041C           1\n",
       " S82041K           1\n",
       " I70429            1\n",
       " H44119            1\n",
       " A849              1\n",
       " S0280XD           1\n",
       " T4271             1\n",
       " S72456Q           1\n",
       " A3685             1\n",
       " T374X3A           1\n",
       " T63414A           1\n",
       " S73129S           1\n",
       " S62235D           1\n",
       " S82035M           1\n",
       " M65232            1\n",
       " S27432            1\n",
       " S37531A           1\n",
       " T63444S           1\n",
       " S42016B           1\n",
       " H5017             1\n",
       " K754              1\n",
       " S92223A           1\n",
       " S82425B           1\n",
       " Q051              1\n",
       " S62122D           1\n",
       " M2434             1\n",
       "                ... \n",
       " S61419A           1\n",
       " S34102            1\n",
       " T39091S           1\n",
       " T6403XS           1\n",
       " S31119D           1\n",
       " M7101             1\n",
       " S92222K           1\n",
       " V110XXS           1\n",
       " M02812            1\n",
       " M2361             1\n",
       " K80               1\n",
       " G318              1\n",
       " X928              1\n",
       " E1340             1\n",
       " S52009D           1\n",
       " S62185            1\n",
       " Z451              1\n",
       " S52043K           1\n",
       " Z825              1\n",
       " B161              1\n",
       " M80871D           1\n",
       " T2682XD           1\n",
       " T8511             1\n",
       " S85102A           1\n",
       " I850              1\n",
       " A669              1\n",
       " S72445D           1\n",
       " T6306             1\n",
       " S66319A           1\n",
       " S61122            1\n",
       " Name: diagnosis, Length: 485, dtype: int64]"
      ]
     },
     "execution_count": 39,
     "metadata": {},
     "output_type": "execute_result"
    }
   ],
   "source": [
    "# Your code here:\n",
    "[patients[col].value_counts() for col in ['patient_gender', 'doctor_name', 'prescribed_medicines', 'diagnosis']]"
   ]
  },
  {
   "cell_type": "markdown",
   "metadata": {},
   "source": [
    "#### The number of unique values is large for all three columns except `patient_gender`. We will handle these columns differently.\n",
    "\n",
    "For `diagnosis`, there are too many unique values which will make ML difficult. However, we can re-encode the values to either with or without diagnosis. Remember at an earlier step we filled in the missing values of this column with *no diagnosis*? We can re-encode *no diagnosis* to `0` and all other values to `1`. In this way we can tremendously simply this column.\n",
    "\n",
    "For `prescribed_medicines`, we can drop this column because it is perfectly correlated with `diagnosis`. Whenever there is no diagnosis, there is no prescribed medicine. So we don't need to keep this duplicated data.\n",
    "\n",
    "How about `doctor_name`? There are not excessive unique values but still quite many (19). We may either drop or keep it but keeping it will make the analysis more complicated. So due to the length of this lab let's drop it.\n",
    "\n",
    "How about `gender`? This one is easy. Just like re-encoding the boolean values, we can re-encode gender to `0` and `1` because there are only 2 unique values.\n",
    "\n",
    "In the next cells, do the following:\n",
    "\n",
    "1. Create a new column called `diagnosis_int` that has `0` and `1` based on the values in `diagnosis`.\n",
    "\n",
    "1. Create a new column called `patient_gender_int` that has `0` and `1` based on the values in `patient_gender`.\n",
    "\n",
    "1. Drop the following columns: `doctor_name`, `diagnosis`, `prescribed_medicines`, and `patient_gender`."
   ]
  },
  {
   "cell_type": "code",
   "execution_count": 40,
   "metadata": {},
   "outputs": [],
   "source": [
    "# Your code here:\n",
    "patients=patients.assign(diagnosis_int = np.where(patients.diagnosis=='no diagnosis',0,1))\n",
    "patients=patients.assign(patient_gender_int = np.where(patients.patient_gender=='Male',0,1))\n",
    "patients.drop(columns=['doctor_name','diagnosis','patient_gender','prescribed_medicines'],inplace=True)"
   ]
  },
  {
   "cell_type": "code",
   "execution_count": 87,
   "metadata": {},
   "outputs": [
    {
     "data": {
      "text/plain": [
       "1    476\n",
       "0    466\n",
       "Name: patient_gender_int, dtype: int64"
      ]
     },
     "execution_count": 87,
     "metadata": {},
     "output_type": "execute_result"
    }
   ],
   "source": [
    "patients.patient_gender_int.value_counts()"
   ]
  },
  {
   "cell_type": "markdown",
   "metadata": {},
   "source": [
    "Let's look at the head again to ensure the re-encoding and dropping are successful:"
   ]
  },
  {
   "cell_type": "code",
   "execution_count": 41,
   "metadata": {},
   "outputs": [
    {
     "data": {
      "text/html": [
       "<div>\n",
       "<style scoped>\n",
       "    .dataframe tbody tr th:only-of-type {\n",
       "        vertical-align: middle;\n",
       "    }\n",
       "\n",
       "    .dataframe tbody tr th {\n",
       "        vertical-align: top;\n",
       "    }\n",
       "\n",
       "    .dataframe thead th {\n",
       "        text-align: right;\n",
       "    }\n",
       "</style>\n",
       "<table border=\"1\" class=\"dataframe\">\n",
       "  <thead>\n",
       "    <tr style=\"text-align: right;\">\n",
       "      <th></th>\n",
       "      <th>patient_dob</th>\n",
       "      <th>patient_diabetic</th>\n",
       "      <th>patient_allergic</th>\n",
       "      <th>patient_weight_kg</th>\n",
       "      <th>patient_height_sm</th>\n",
       "      <th>appointment_date</th>\n",
       "      <th>patient_show</th>\n",
       "      <th>is_regular_visit</th>\n",
       "      <th>diagnosis_int</th>\n",
       "      <th>patient_gender_int</th>\n",
       "    </tr>\n",
       "  </thead>\n",
       "  <tbody>\n",
       "    <tr>\n",
       "      <th>0</th>\n",
       "      <td>2018-10-18</td>\n",
       "      <td>0</td>\n",
       "      <td>1</td>\n",
       "      <td>59</td>\n",
       "      <td>176</td>\n",
       "      <td>2018-05-01</td>\n",
       "      <td>1</td>\n",
       "      <td>1</td>\n",
       "      <td>1</td>\n",
       "      <td>1</td>\n",
       "    </tr>\n",
       "    <tr>\n",
       "      <th>1</th>\n",
       "      <td>2018-02-08</td>\n",
       "      <td>0</td>\n",
       "      <td>1</td>\n",
       "      <td>77</td>\n",
       "      <td>186</td>\n",
       "      <td>2017-12-07</td>\n",
       "      <td>1</td>\n",
       "      <td>1</td>\n",
       "      <td>0</td>\n",
       "      <td>1</td>\n",
       "    </tr>\n",
       "    <tr>\n",
       "      <th>2</th>\n",
       "      <td>2018-10-09</td>\n",
       "      <td>1</td>\n",
       "      <td>1</td>\n",
       "      <td>90</td>\n",
       "      <td>177</td>\n",
       "      <td>2018-10-05</td>\n",
       "      <td>0</td>\n",
       "      <td>0</td>\n",
       "      <td>0</td>\n",
       "      <td>1</td>\n",
       "    </tr>\n",
       "    <tr>\n",
       "      <th>3</th>\n",
       "      <td>2018-09-10</td>\n",
       "      <td>1</td>\n",
       "      <td>1</td>\n",
       "      <td>70</td>\n",
       "      <td>150</td>\n",
       "      <td>2018-10-21</td>\n",
       "      <td>0</td>\n",
       "      <td>1</td>\n",
       "      <td>0</td>\n",
       "      <td>0</td>\n",
       "    </tr>\n",
       "    <tr>\n",
       "      <th>4</th>\n",
       "      <td>2018-02-26</td>\n",
       "      <td>0</td>\n",
       "      <td>1</td>\n",
       "      <td>82</td>\n",
       "      <td>140</td>\n",
       "      <td>2018-11-15</td>\n",
       "      <td>0</td>\n",
       "      <td>0</td>\n",
       "      <td>0</td>\n",
       "      <td>1</td>\n",
       "    </tr>\n",
       "  </tbody>\n",
       "</table>\n",
       "</div>"
      ],
      "text/plain": [
       "  patient_dob  patient_diabetic  patient_allergic  patient_weight_kg  \\\n",
       "0  2018-10-18                 0                 1                 59   \n",
       "1  2018-02-08                 0                 1                 77   \n",
       "2  2018-10-09                 1                 1                 90   \n",
       "3  2018-09-10                 1                 1                 70   \n",
       "4  2018-02-26                 0                 1                 82   \n",
       "\n",
       "   patient_height_sm appointment_date  patient_show  is_regular_visit  \\\n",
       "0                176       2018-05-01             1                 1   \n",
       "1                186       2017-12-07             1                 1   \n",
       "2                177       2018-10-05             0                 0   \n",
       "3                150       2018-10-21             0                 1   \n",
       "4                140       2018-11-15             0                 0   \n",
       "\n",
       "   diagnosis_int  patient_gender_int  \n",
       "0              1                   1  \n",
       "1              0                   1  \n",
       "2              0                   1  \n",
       "3              0                   0  \n",
       "4              0                   1  "
      ]
     },
     "execution_count": 41,
     "metadata": {},
     "output_type": "execute_result"
    }
   ],
   "source": [
    "# Your code here:\n",
    "patients.head()"
   ]
  },
  {
   "cell_type": "markdown",
   "metadata": {},
   "source": [
    "An interesting observation is that all patients are no older than 2 years. However, their weights and heights indicate that they are adults. This cannot be true. Therefore, we can either trust the weight and height columns or the DOB column. Since there are other columns that indicate that these are adults (they have emails, some have diabetes) we will drop the `patient_dob` column. We will also drop the `appointment_date` column since it has too many unique values to transform to a dummy variable. Drop the two columns in the cell below."
   ]
  },
  {
   "cell_type": "code",
   "execution_count": 42,
   "metadata": {},
   "outputs": [
    {
     "data": {
      "text/html": [
       "<div>\n",
       "<style scoped>\n",
       "    .dataframe tbody tr th:only-of-type {\n",
       "        vertical-align: middle;\n",
       "    }\n",
       "\n",
       "    .dataframe tbody tr th {\n",
       "        vertical-align: top;\n",
       "    }\n",
       "\n",
       "    .dataframe thead th {\n",
       "        text-align: right;\n",
       "    }\n",
       "</style>\n",
       "<table border=\"1\" class=\"dataframe\">\n",
       "  <thead>\n",
       "    <tr style=\"text-align: right;\">\n",
       "      <th></th>\n",
       "      <th>patient_diabetic</th>\n",
       "      <th>patient_allergic</th>\n",
       "      <th>patient_weight_kg</th>\n",
       "      <th>patient_height_sm</th>\n",
       "      <th>patient_show</th>\n",
       "      <th>is_regular_visit</th>\n",
       "      <th>diagnosis_int</th>\n",
       "      <th>patient_gender_int</th>\n",
       "    </tr>\n",
       "  </thead>\n",
       "  <tbody>\n",
       "    <tr>\n",
       "      <th>0</th>\n",
       "      <td>0</td>\n",
       "      <td>1</td>\n",
       "      <td>59</td>\n",
       "      <td>176</td>\n",
       "      <td>1</td>\n",
       "      <td>1</td>\n",
       "      <td>1</td>\n",
       "      <td>1</td>\n",
       "    </tr>\n",
       "    <tr>\n",
       "      <th>1</th>\n",
       "      <td>0</td>\n",
       "      <td>1</td>\n",
       "      <td>77</td>\n",
       "      <td>186</td>\n",
       "      <td>1</td>\n",
       "      <td>1</td>\n",
       "      <td>0</td>\n",
       "      <td>1</td>\n",
       "    </tr>\n",
       "    <tr>\n",
       "      <th>2</th>\n",
       "      <td>1</td>\n",
       "      <td>1</td>\n",
       "      <td>90</td>\n",
       "      <td>177</td>\n",
       "      <td>0</td>\n",
       "      <td>0</td>\n",
       "      <td>0</td>\n",
       "      <td>1</td>\n",
       "    </tr>\n",
       "    <tr>\n",
       "      <th>3</th>\n",
       "      <td>1</td>\n",
       "      <td>1</td>\n",
       "      <td>70</td>\n",
       "      <td>150</td>\n",
       "      <td>0</td>\n",
       "      <td>1</td>\n",
       "      <td>0</td>\n",
       "      <td>0</td>\n",
       "    </tr>\n",
       "    <tr>\n",
       "      <th>4</th>\n",
       "      <td>0</td>\n",
       "      <td>1</td>\n",
       "      <td>82</td>\n",
       "      <td>140</td>\n",
       "      <td>0</td>\n",
       "      <td>0</td>\n",
       "      <td>0</td>\n",
       "      <td>1</td>\n",
       "    </tr>\n",
       "  </tbody>\n",
       "</table>\n",
       "</div>"
      ],
      "text/plain": [
       "   patient_diabetic  patient_allergic  patient_weight_kg  patient_height_sm  \\\n",
       "0                 0                 1                 59                176   \n",
       "1                 0                 1                 77                186   \n",
       "2                 1                 1                 90                177   \n",
       "3                 1                 1                 70                150   \n",
       "4                 0                 1                 82                140   \n",
       "\n",
       "   patient_show  is_regular_visit  diagnosis_int  patient_gender_int  \n",
       "0             1                 1              1                   1  \n",
       "1             1                 1              0                   1  \n",
       "2             0                 0              0                   1  \n",
       "3             0                 1              0                   0  \n",
       "4             0                 0              0                   1  "
      ]
     },
     "execution_count": 42,
     "metadata": {},
     "output_type": "execute_result"
    }
   ],
   "source": [
    "# Your code here:\n",
    "patients.drop(columns=['patient_dob','appointment_date'],inplace=True)\n",
    "patients.head()"
   ]
  },
  {
   "cell_type": "markdown",
   "metadata": {},
   "source": [
    "#### Our data is now ready for clustering. Let's use k-means again.\n",
    "\n",
    "We start by initializing and fitting a model in the cell below. Call this model patients_cluster."
   ]
  },
  {
   "cell_type": "code",
   "execution_count": 43,
   "metadata": {},
   "outputs": [],
   "source": [
    "# Your code here:\n",
    "patients_cluster = KMeans(n_clusters=4).fit(patients)"
   ]
  },
  {
   "cell_type": "markdown",
   "metadata": {},
   "source": [
    "Attach the labels to the dataframe. Do this by accessing the `labels_` in the `patients_cluster` model and assign them to a new column in `patients` that you will call `labels`."
   ]
  },
  {
   "cell_type": "code",
   "execution_count": 44,
   "metadata": {},
   "outputs": [],
   "source": [
    "# Your code here:\n",
    "patients['labels']=patients_cluster.labels_"
   ]
  },
  {
   "cell_type": "markdown",
   "metadata": {},
   "source": [
    "Now using a `groupby`, find the mean of every variable in `patients` and group by the `labels` column. This summary will allow us to see how the patients differ between the clusters. Your output should look similar to the image below.\n",
    "\n",
    "![groupby mean](../groupby-mean.png)\n",
    "\n",
    "Additionally, add a comment to describe which columns have the largest difference between clusters."
   ]
  },
  {
   "cell_type": "code",
   "execution_count": 63,
   "metadata": {},
   "outputs": [
    {
     "data": {
      "text/html": [
       "<div>\n",
       "<style scoped>\n",
       "    .dataframe tbody tr th:only-of-type {\n",
       "        vertical-align: middle;\n",
       "    }\n",
       "\n",
       "    .dataframe tbody tr th {\n",
       "        vertical-align: top;\n",
       "    }\n",
       "\n",
       "    .dataframe thead th {\n",
       "        text-align: right;\n",
       "    }\n",
       "</style>\n",
       "<table border=\"1\" class=\"dataframe\">\n",
       "  <thead>\n",
       "    <tr style=\"text-align: right;\">\n",
       "      <th></th>\n",
       "      <th>patient_diabetic</th>\n",
       "      <th>patient_allergic</th>\n",
       "      <th>patient_weight_kg</th>\n",
       "      <th>patient_height_sm</th>\n",
       "      <th>patient_show</th>\n",
       "      <th>is_regular_visit</th>\n",
       "      <th>diagnosis_int</th>\n",
       "      <th>patient_gender_int</th>\n",
       "    </tr>\n",
       "    <tr>\n",
       "      <th>labels</th>\n",
       "      <th></th>\n",
       "      <th></th>\n",
       "      <th></th>\n",
       "      <th></th>\n",
       "      <th></th>\n",
       "      <th></th>\n",
       "      <th></th>\n",
       "      <th></th>\n",
       "    </tr>\n",
       "  </thead>\n",
       "  <tbody>\n",
       "    <tr>\n",
       "      <th>0</th>\n",
       "      <td>0.490119</td>\n",
       "      <td>0.490119</td>\n",
       "      <td>94.003953</td>\n",
       "      <td>178.640316</td>\n",
       "      <td>0.505929</td>\n",
       "      <td>0.529644</td>\n",
       "      <td>0.513834</td>\n",
       "      <td>0.541502</td>\n",
       "    </tr>\n",
       "    <tr>\n",
       "      <th>1</th>\n",
       "      <td>0.506494</td>\n",
       "      <td>0.493506</td>\n",
       "      <td>65.432900</td>\n",
       "      <td>152.354978</td>\n",
       "      <td>0.510823</td>\n",
       "      <td>0.558442</td>\n",
       "      <td>0.506494</td>\n",
       "      <td>0.445887</td>\n",
       "    </tr>\n",
       "    <tr>\n",
       "      <th>2</th>\n",
       "      <td>0.552511</td>\n",
       "      <td>0.525114</td>\n",
       "      <td>97.557078</td>\n",
       "      <td>153.319635</td>\n",
       "      <td>0.488584</td>\n",
       "      <td>0.502283</td>\n",
       "      <td>0.593607</td>\n",
       "      <td>0.479452</td>\n",
       "    </tr>\n",
       "    <tr>\n",
       "      <th>3</th>\n",
       "      <td>0.510460</td>\n",
       "      <td>0.531381</td>\n",
       "      <td>62.832636</td>\n",
       "      <td>176.995816</td>\n",
       "      <td>0.472803</td>\n",
       "      <td>0.497908</td>\n",
       "      <td>0.451883</td>\n",
       "      <td>0.548117</td>\n",
       "    </tr>\n",
       "  </tbody>\n",
       "</table>\n",
       "</div>"
      ],
      "text/plain": [
       "        patient_diabetic  patient_allergic  patient_weight_kg  \\\n",
       "labels                                                          \n",
       "0               0.490119          0.490119          94.003953   \n",
       "1               0.506494          0.493506          65.432900   \n",
       "2               0.552511          0.525114          97.557078   \n",
       "3               0.510460          0.531381          62.832636   \n",
       "\n",
       "        patient_height_sm  patient_show  is_regular_visit  diagnosis_int  \\\n",
       "labels                                                                     \n",
       "0              178.640316      0.505929          0.529644       0.513834   \n",
       "1              152.354978      0.510823          0.558442       0.506494   \n",
       "2              153.319635      0.488584          0.502283       0.593607   \n",
       "3              176.995816      0.472803          0.497908       0.451883   \n",
       "\n",
       "        patient_gender_int  \n",
       "labels                      \n",
       "0                 0.541502  \n",
       "1                 0.445887  \n",
       "2                 0.479452  \n",
       "3                 0.548117  "
      ]
     },
     "execution_count": 63,
     "metadata": {},
     "output_type": "execute_result"
    }
   ],
   "source": [
    "# Your code here:\n",
    "patients_labels=patients.groupby('labels').agg('mean')\n",
    "patients_labels"
   ]
  },
  {
   "cell_type": "code",
   "execution_count": 80,
   "metadata": {},
   "outputs": [
    {
     "data": {
      "text/plain": [
       "[0, 1, 2, 3]"
      ]
     },
     "execution_count": 80,
     "metadata": {},
     "output_type": "execute_result"
    }
   ],
   "source": [
    "# Your comment here:\n",
    "    #Les patients du cluster 2 ont en moyenne plus de risque de diabète. On pourrait penser qu'il s'agit le plus souvent d'hommes de taille \n",
    "        #en dessous de la moyenne avec un poids plus important que la moyenne par rapport à cette taille.\n",
    "    #Les patients du cluster 0, sont un peu moins enclins à avoir le diabète. Se serait surtout des femmes, avec une taille au-dessus de la moyenne\n"
   ]
  },
  {
   "cell_type": "markdown",
   "metadata": {},
   "source": [
    "# Bonus Challenge: Visualize K-Means Clusters\n",
    "\n",
    "How did k-means cluster the data? You can obtain an intuitive view with a scatter plot. Generate a 2-d cluster plot below using `matplotlib`. You need to choose 2 of the features from your cleaned and transformed dataset, and use color to represent the cluster label generated from k-means.\n",
    "\n",
    "If the scatter plot does not make any sense to you, it means the features you chose to visualize are not the right ones. You should be able to see 4 clear clusters with different colors in your visualization that suggests how k-means had clustered your data.\n",
    "\n",
    "![Cluster Visualization](../clusters.png)"
   ]
  },
  {
   "cell_type": "code",
   "execution_count": 47,
   "metadata": {},
   "outputs": [
    {
     "data": {
      "text/plain": [
       "<matplotlib.collections.PathCollection at 0x118cde748>"
      ]
     },
     "execution_count": 47,
     "metadata": {},
     "output_type": "execute_result"
    },
    {
     "data": {
      "image/png": "[encoded data removed]",
      "text/plain": [
       "<Figure size 432x288 with 1 Axes>"
      ]
     },
     "metadata": {
      "needs_background": "light"
     },
     "output_type": "display_data"
    }
   ],
   "source": [
    "# Your code here:\n",
    "plt.scatter(patients.patient_weight_kg, patients.patient_height_sm, c=patients.labels)"
   ]
  },
  {
   "cell_type": "markdown",
   "metadata": {},
   "source": [
    "Additionally, you can visualize the clusters in 3-D scatter plot. Give it a try below."
   ]
  },
  {
   "cell_type": "code",
   "execution_count": 59,
   "metadata": {},
   "outputs": [],
   "source": [
    "# Your code here:\n",
    "# import library for 3D plotting\n",
    "from mpl_toolkits import mplot3d\n",
    "\n",
    "# magic function for interactive plot\n",
    "%matplotlib notebook"
   ]
  },
  {
   "cell_type": "code",
   "execution_count": 86,
   "metadata": {},
   "outputs": [
    {
     "data": {
      "application/javascript": [
       "/* Put everything inside the global mpl namespace */\n",
       "window.mpl = {};\n",
       "\n",
       "\n",
       "mpl.get_websocket_type = function() {\n",
       "    if (typeof(WebSocket) !== 'undefined') {\n",
       "        return WebSocket;\n",
       "    } else if (typeof(MozWebSocket) !== 'undefined') {\n",
       "        return MozWebSocket;\n",
       "    } else {\n",
       "        alert('Your browser does not have WebSocket support.' +\n",
       "              'Please try Chrome, Safari or Firefox ≥ 6. ' +\n",
       "              'Firefox 4 and 5 are also supported but you ' +\n",
       "              'have to enable WebSockets in about:config.');\n",
       "    };\n",
       "}\n",
       "\n",
       "mpl.figure = function(figure_id, websocket, ondownload, parent_element) {\n",
       "    this.id = figure_id;\n",
       "\n",
       "    this.ws = websocket;\n",
       "\n",
       "    this.supports_binary = (this.ws.binaryType != undefined);\n",
       "\n",
       "    if (!this.supports_binary) {\n",
       "        var warnings = document.getElementById(\"mpl-warnings\");\n",
       "        if (warnings) {\n",
       "            warnings.style.display = 'block';\n",
       "            warnings.textContent = (\n",
       "                \"This browser does not support binary websocket messages. \" +\n",
       "                    \"Performance may be slow.\");\n",
       "        }\n",
       "    }\n",
       "\n",
       "    this.imageObj = new Image();\n",
       "\n",
       "    this.context = undefined;\n",
       "    this.message = undefined;\n",
       "    this.canvas = undefined;\n",
       "    this.rubberband_canvas = undefined;\n",
       "    this.rubberband_context = undefined;\n",
       "    this.format_dropdown = undefined;\n",
       "\n",
       "    this.image_mode = 'full';\n",
       "\n",
       "    this.root = $('<div/>');\n",
       "    this._root_extra_style(this.root)\n",
       "    this.root.attr('style', 'display: inline-block');\n",
       "\n",
       "    $(parent_element).append(this.root);\n",
       "\n",
       "    this._init_header(this);\n",
       "    this._init_canvas(this);\n",
       "    this._init_toolbar(this);\n",
       "\n",
       "    var fig = this;\n",
       "\n",
       "    this.waiting = false;\n",
       "\n",
       "    this.ws.onopen =  function () {\n",
       "            fig.send_message(\"supports_binary\", {value: fig.supports_binary});\n",
       "            fig.send_message(\"send_image_mode\", {});\n",
       "            if (mpl.ratio != 1) {\n",
       "                fig.send_message(\"set_dpi_ratio\", {'dpi_ratio': mpl.ratio});\n",
       "            }\n",
       "            fig.send_message(\"refresh\", {});\n",
       "        }\n",
       "\n",
       "    this.imageObj.onload = function() {\n",
       "            if (fig.image_mode == 'full') {\n",
       "                // Full images could contain transparency (where diff images\n",
       "                // almost always do), so we need to clear the canvas so that\n",
       "                // there is no ghosting.\n",
       "                fig.context.clearRect(0, 0, fig.canvas.width, fig.canvas.height);\n",
       "            }\n",
       "            fig.context.drawImage(fig.imageObj, 0, 0);\n",
       "        };\n",
       "\n",
       "    this.imageObj.onunload = function() {\n",
       "        fig.ws.close();\n",
       "    }\n",
       "\n",
       "    this.ws.onmessage = this._make_on_message_function(this);\n",
       "\n",
       "    this.ondownload = ondownload;\n",
       "}\n",
       "\n",
       "mpl.figure.prototype._init_header = function() {\n",
       "    var titlebar = $(\n",
       "        '<div class=\"ui-dialog-titlebar ui-widget-header ui-corner-all ' +\n",
       "        'ui-helper-clearfix\"/>');\n",
       "    var titletext = $(\n",
       "        '<div class=\"ui-dialog-title\" style=\"width: 100%; ' +\n",
       "        'text-align: center; padding: 3px;\"/>');\n",
       "    titlebar.append(titletext)\n",
       "    this.root.append(titlebar);\n",
       "    this.header = titletext[0];\n",
       "}\n",
       "\n",
       "\n",
       "\n",
       "mpl.figure.prototype._canvas_extra_style = function(canvas_div) {\n",
       "\n",
       "}\n",
       "\n",
       "\n",
       "mpl.figure.prototype._root_extra_style = function(canvas_div) {\n",
       "\n",
       "}\n",
       "\n",
       "mpl.figure.prototype._init_canvas = function() {\n",
       "    var fig = this;\n",
       "\n",
       "    var canvas_div = $('<div/>');\n",
       "\n",
       "    canvas_div.attr('style', 'position: relative; clear: both; outline: 0');\n",
       "\n",
       "    function canvas_keyboard_event(event) {\n",
       "        return fig.key_event(event, event['data']);\n",
       "    }\n",
       "\n",
       "    canvas_div.keydown('key_press', canvas_keyboard_event);\n",
       "    canvas_div.keyup('key_release', canvas_keyboard_event);\n",
       "    this.canvas_div = canvas_div\n",
       "    this._canvas_extra_style(canvas_div)\n",
       "    this.root.append(canvas_div);\n",
       "\n",
       "    var canvas = $('<canvas/>');\n",
       "    canvas.addClass('mpl-canvas');\n",
       "    canvas.attr('style', \"left: 0; top: 0; z-index: 0; outline: 0\")\n",
       "\n",
       "    this.canvas = canvas[0];\n",
       "    this.context = canvas[0].getContext(\"2d\");\n",
       "\n",
       "    var backingStore = this.context.backingStorePixelRatio ||\n",
       "\tthis.context.webkitBackingStorePixelRatio ||\n",
       "\tthis.context.mozBackingStorePixelRatio ||\n",
       "\tthis.context.msBackingStorePixelRatio ||\n",
       "\tthis.context.oBackingStorePixelRatio ||\n",
       "\tthis.context.backingStorePixelRatio || 1;\n",
       "\n",
       "    mpl.ratio = (window.devicePixelRatio || 1) / backingStore;\n",
       "\n",
       "    var rubberband = $('<canvas/>');\n",
       "    rubberband.attr('style', \"position: absolute; left: 0; top: 0; z-index: 1;\")\n",
       "\n",
       "    var pass_mouse_events = true;\n",
       "\n",
       "    canvas_div.resizable({\n",
       "        start: function(event, ui) {\n",
       "            pass_mouse_events = false;\n",
       "        },\n",
       "        resize: function(event, ui) {\n",
       "            fig.request_resize(ui.size.width, ui.size.height);\n",
       "        },\n",
       "        stop: function(event, ui) {\n",
       "            pass_mouse_events = true;\n",
       "            fig.request_resize(ui.size.width, ui.size.height);\n",
       "        },\n",
       "    });\n",
       "\n",
       "    function mouse_event_fn(event) {\n",
       "        if (pass_mouse_events)\n",
       "            return fig.mouse_event(event, event['data']);\n",
       "    }\n",
       "\n",
       "    rubberband.mousedown('button_press', mouse_event_fn);\n",
       "    rubberband.mouseup('button_release', mouse_event_fn);\n",
       "    // Throttle sequential mouse events to 1 every 20ms.\n",
       "    rubberband.mousemove('motion_notify', mouse_event_fn);\n",
       "\n",
       "    rubberband.mouseenter('figure_enter', mouse_event_fn);\n",
       "    rubberband.mouseleave('figure_leave', mouse_event_fn);\n",
       "\n",
       "    canvas_div.on(\"wheel\", function (event) {\n",
       "        event = event.originalEvent;\n",
       "        event['data'] = 'scroll'\n",
       "        if (event.deltaY < 0) {\n",
       "            event.step = 1;\n",
       "        } else {\n",
       "            event.step = -1;\n",
       "        }\n",
       "        mouse_event_fn(event);\n",
       "    });\n",
       "\n",
       "    canvas_div.append(canvas);\n",
       "    canvas_div.append(rubberband);\n",
       "\n",
       "    this.rubberband = rubberband;\n",
       "    this.rubberband_canvas = rubberband[0];\n",
       "    this.rubberband_context = rubberband[0].getContext(\"2d\");\n",
       "    this.rubberband_context.strokeStyle = \"#000000\";\n",
       "\n",
       "    this._resize_canvas = function(width, height) {\n",
       "        // Keep the size of the canvas, canvas container, and rubber band\n",
       "        // canvas in synch.\n",
       "        canvas_div.css('width', width)\n",
       "        canvas_div.css('height', height)\n",
       "\n",
       "        canvas.attr('width', width * mpl.ratio);\n",
       "        canvas.attr('height', height * mpl.ratio);\n",
       "        canvas.attr('style', 'width: ' + width + 'px; height: ' + height + 'px;');\n",
       "\n",
       "        rubberband.attr('width', width);\n",
       "        rubberband.attr('height', height);\n",
       "    }\n",
       "\n",
       "    // Set the figure to an initial 600x600px, this will subsequently be updated\n",
       "    // upon first draw.\n",
       "    this._resize_canvas(600, 600);\n",
       "\n",
       "    // Disable right mouse context menu.\n",
       "    $(this.rubberband_canvas).bind(\"contextmenu\",function(e){\n",
       "        return false;\n",
       "    });\n",
       "\n",
       "    function set_focus () {\n",
       "        canvas.focus();\n",
       "        canvas_div.focus();\n",
       "    }\n",
       "\n",
       "    window.setTimeout(set_focus, 100);\n",
       "}\n",
       "\n",
       "mpl.figure.prototype._init_toolbar = function() {\n",
       "    var fig = this;\n",
       "\n",
       "    var nav_element = $('<div/>')\n",
       "    nav_element.attr('style', 'width: 100%');\n",
       "    this.root.append(nav_element);\n",
       "\n",
       "    // Define a callback function for later on.\n",
       "    function toolbar_event(event) {\n",
       "        return fig.toolbar_button_onclick(event['data']);\n",
       "    }\n",
       "    function toolbar_mouse_event(event) {\n",
       "        return fig.toolbar_button_onmouseover(event['data']);\n",
       "    }\n",
       "\n",
       "    for(var toolbar_ind in mpl.toolbar_items) {\n",
       "        var name = mpl.toolbar_items[toolbar_ind][0];\n",
       "        var tooltip = mpl.toolbar_items[toolbar_ind][1];\n",
       "        var image = mpl.toolbar_items[toolbar_ind][2];\n",
       "        var method_name = mpl.toolbar_items[toolbar_ind][3];\n",
       "\n",
       "        if (!name) {\n",
       "            // put a spacer in here.\n",
       "            continue;\n",
       "        }\n",
       "        var button = $('<button/>');\n",
       "        button.addClass('ui-button ui-widget ui-state-default ui-corner-all ' +\n",
       "                        'ui-button-icon-only');\n",
       "        button.attr('role', 'button');\n",
       "        button.attr('aria-disabled', 'false');\n",
       "        button.click(method_name, toolbar_event);\n",
       "        button.mouseover(tooltip, toolbar_mouse_event);\n",
       "\n",
       "        var icon_img = $('<span/>');\n",
       "        icon_img.addClass('ui-button-icon-primary ui-icon');\n",
       "        icon_img.addClass(image);\n",
       "        icon_img.addClass('ui-corner-all');\n",
       "\n",
       "        var tooltip_span = $('<span/>');\n",
       "        tooltip_span.addClass('ui-button-text');\n",
       "        tooltip_span.html(tooltip);\n",
       "\n",
       "        button.append(icon_img);\n",
       "        button.append(tooltip_span);\n",
       "\n",
       "        nav_element.append(button);\n",
       "    }\n",
       "\n",
       "    var fmt_picker_span = $('<span/>');\n",
       "\n",
       "    var fmt_picker = $('<select/>');\n",
       "    fmt_picker.addClass('mpl-toolbar-option ui-widget ui-widget-content');\n",
       "    fmt_picker_span.append(fmt_picker);\n",
       "    nav_element.append(fmt_picker_span);\n",
       "    this.format_dropdown = fmt_picker[0];\n",
       "\n",
       "    for (var ind in mpl.extensions) {\n",
       "        var fmt = mpl.extensions[ind];\n",
       "        var option = $(\n",
       "            '<option/>', {selected: fmt === mpl.default_extension}).html(fmt);\n",
       "        fmt_picker.append(option)\n",
       "    }\n",
       "\n",
       "    // Add hover states to the ui-buttons\n",
       "    $( \".ui-button\" ).hover(\n",
       "        function() { $(this).addClass(\"ui-state-hover\");},\n",
       "        function() { $(this).removeClass(\"ui-state-hover\");}\n",
       "    );\n",
       "\n",
       "    var status_bar = $('<span class=\"mpl-message\"/>');\n",
       "    nav_element.append(status_bar);\n",
       "    this.message = status_bar[0];\n",
       "}\n",
       "\n",
       "mpl.figure.prototype.request_resize = function(x_pixels, y_pixels) {\n",
       "    // Request matplotlib to resize the figure. Matplotlib will then trigger a resize in the client,\n",
       "    // which will in turn request a refresh of the image.\n",
       "    this.send_message('resize', {'width': x_pixels, 'height': y_pixels});\n",
       "}\n",
       "\n",
       "mpl.figure.prototype.send_message = function(type, properties) {\n",
       "    properties['type'] = type;\n",
       "    properties['figure_id'] = this.id;\n",
       "    this.ws.send(JSON.stringify(properties));\n",
       "}\n",
       "\n",
       "mpl.figure.prototype.send_draw_message = function() {\n",
       "    if (!this.waiting) {\n",
       "        this.waiting = true;\n",
       "        this.ws.send(JSON.stringify({type: \"draw\", figure_id: this.id}));\n",
       "    }\n",
       "}\n",
       "\n",
       "\n",
       "mpl.figure.prototype.handle_save = function(fig, msg) {\n",
       "    var format_dropdown = fig.format_dropdown;\n",
       "    var format = format_dropdown.options[format_dropdown.selectedIndex].value;\n",
       "    fig.ondownload(fig, format);\n",
       "}\n",
       "\n",
       "\n",
       "mpl.figure.prototype.handle_resize = function(fig, msg) {\n",
       "    var size = msg['size'];\n",
       "    if (size[0] != fig.canvas.width || size[1] != fig.canvas.height) {\n",
       "        fig._resize_canvas(size[0], size[1]);\n",
       "        fig.send_message(\"refresh\", {});\n",
       "    };\n",
       "}\n",
       "\n",
       "mpl.figure.prototype.handle_rubberband = function(fig, msg) {\n",
       "    var x0 = msg['x0'] / mpl.ratio;\n",
       "    var y0 = (fig.canvas.height - msg['y0']) / mpl.ratio;\n",
       "    var x1 = msg['x1'] / mpl.ratio;\n",
       "    var y1 = (fig.canvas.height - msg['y1']) / mpl.ratio;\n",
       "    x0 = Math.floor(x0) + 0.5;\n",
       "    y0 = Math.floor(y0) + 0.5;\n",
       "    x1 = Math.floor(x1) + 0.5;\n",
       "    y1 = Math.floor(y1) + 0.5;\n",
       "    var min_x = Math.min(x0, x1);\n",
       "    var min_y = Math.min(y0, y1);\n",
       "    var width = Math.abs(x1 - x0);\n",
       "    var height = Math.abs(y1 - y0);\n",
       "\n",
       "    fig.rubberband_context.clearRect(\n",
       "        0, 0, fig.canvas.width, fig.canvas.height);\n",
       "\n",
       "    fig.rubberband_context.strokeRect(min_x, min_y, width, height);\n",
       "}\n",
       "\n",
       "mpl.figure.prototype.handle_figure_label = function(fig, msg) {\n",
       "    // Updates the figure title.\n",
       "    fig.header.textContent = msg['label'];\n",
       "}\n",
       "\n",
       "mpl.figure.prototype.handle_cursor = function(fig, msg) {\n",
       "    var cursor = msg['cursor'];\n",
       "    switch(cursor)\n",
       "    {\n",
       "    case 0:\n",
       "        cursor = 'pointer';\n",
       "        break;\n",
       "    case 1:\n",
       "        cursor = 'default';\n",
       "        break;\n",
       "    case 2:\n",
       "        cursor = 'crosshair';\n",
       "        break;\n",
       "    case 3:\n",
       "        cursor = 'move';\n",
       "        break;\n",
       "    }\n",
       "    fig.rubberband_canvas.style.cursor = cursor;\n",
       "}\n",
       "\n",
       "mpl.figure.prototype.handle_message = function(fig, msg) {\n",
       "    fig.message.textContent = msg['message'];\n",
       "}\n",
       "\n",
       "mpl.figure.prototype.handle_draw = function(fig, msg) {\n",
       "    // Request the server to send over a new figure.\n",
       "    fig.send_draw_message();\n",
       "}\n",
       "\n",
       "mpl.figure.prototype.handle_image_mode = function(fig, msg) {\n",
       "    fig.image_mode = msg['mode'];\n",
       "}\n",
       "\n",
       "mpl.figure.prototype.updated_canvas_event = function() {\n",
       "    // Called whenever the canvas gets updated.\n",
       "    this.send_message(\"ack\", {});\n",
       "}\n",
       "\n",
       "// A function to construct a web socket function for onmessage handling.\n",
       "// Called in the figure constructor.\n",
       "mpl.figure.prototype._make_on_message_function = function(fig) {\n",
       "    return function socket_on_message(evt) {\n",
       "        if (evt.data instanceof Blob) {\n",
       "            /* FIXME: We get \"Resource interpreted as Image but\n",
       "             * transferred with MIME type text/plain:\" errors on\n",
       "             * Chrome.  But how to set the MIME type?  It doesn't seem\n",
       "             * to be part of the websocket stream */\n",
       "            evt.data.type = \"image/png\";\n",
       "\n",
       "            /* Free the memory for the previous frames */\n",
       "            if (fig.imageObj.src) {\n",
       "                (window.URL || window.webkitURL).revokeObjectURL(\n",
       "                    fig.imageObj.src);\n",
       "            }\n",
       "\n",
       "            fig.imageObj.src = (window.URL || window.webkitURL).createObjectURL(\n",
       "                evt.data);\n",
       "            fig.updated_canvas_event();\n",
       "            fig.waiting = false;\n",
       "            return;\n",
       "        }\n",
       "        else if (typeof evt.data === 'string' && evt.data.slice(0, 21) == \"data:image/png;base64\") {\n",
       "            fig.imageObj.src = evt.data;\n",
       "            fig.updated_canvas_event();\n",
       "            fig.waiting = false;\n",
       "            return;\n",
       "        }\n",
       "\n",
       "        var msg = JSON.parse(evt.data);\n",
       "        var msg_type = msg['type'];\n",
       "\n",
       "        // Call the  \"handle_{type}\" callback, which takes\n",
       "        // the figure and JSON message as its only arguments.\n",
       "        try {\n",
       "            var callback = fig[\"handle_\" + msg_type];\n",
       "        } catch (e) {\n",
       "            console.log(\"No handler for the '\" + msg_type + \"' message type: \", msg);\n",
       "            return;\n",
       "        }\n",
       "\n",
       "        if (callback) {\n",
       "            try {\n",
       "                // console.log(\"Handling '\" + msg_type + \"' message: \", msg);\n",
       "                callback(fig, msg);\n",
       "            } catch (e) {\n",
       "                console.log(\"Exception inside the 'handler_\" + msg_type + \"' callback:\", e, e.stack, msg);\n",
       "            }\n",
       "        }\n",
       "    };\n",
       "}\n",
       "\n",
       "// from http://stackoverflow.com/questions/1114465/getting-mouse-location-in-canvas\n",
       "mpl.findpos = function(e) {\n",
       "    //this section is from http://www.quirksmode.org/js/events_properties.html\n",
       "    var targ;\n",
       "    if (!e)\n",
       "        e = window.event;\n",
       "    if (e.target)\n",
       "        targ = e.target;\n",
       "    else if (e.srcElement)\n",
       "        targ = e.srcElement;\n",
       "    if (targ.nodeType == 3) // defeat Safari bug\n",
       "        targ = targ.parentNode;\n",
       "\n",
       "    // jQuery normalizes the pageX and pageY\n",
       "    // pageX,Y are the mouse positions relative to the document\n",
       "    // offset() returns the position of the element relative to the document\n",
       "    var x = e.pageX - $(targ).offset().left;\n",
       "    var y = e.pageY - $(targ).offset().top;\n",
       "\n",
       "    return {\"x\": x, \"y\": y};\n",
       "};\n",
       "\n",
       "/*\n",
       " * return a copy of an object with only non-object keys\n",
       " * we need this to avoid circular references\n",
       " * http://stackoverflow.com/a/24161582/3208463\n",
       " */\n",
       "function simpleKeys (original) {\n",
       "  return Object.keys(original).reduce(function (obj, key) {\n",
       "    if (typeof original[key] !== 'object')\n",
       "        obj[key] = original[key]\n",
       "    return obj;\n",
       "  }, {});\n",
       "}\n",
       "\n",
       "mpl.figure.prototype.mouse_event = function(event, name) {\n",
       "    var canvas_pos = mpl.findpos(event)\n",
       "\n",
       "    if (name === 'button_press')\n",
       "    {\n",
       "        this.canvas.focus();\n",
       "        this.canvas_div.focus();\n",
       "    }\n",
       "\n",
       "    var x = canvas_pos.x * mpl.ratio;\n",
       "    var y = canvas_pos.y * mpl.ratio;\n",
       "\n",
       "    this.send_message(name, {x: x, y: y, button: event.button,\n",
       "                             step: event.step,\n",
       "                             guiEvent: simpleKeys(event)});\n",
       "\n",
       "    /* This prevents the web browser from automatically changing to\n",
       "     * the text insertion cursor when the button is pressed.  We want\n",
       "     * to control all of the cursor setting manually through the\n",
       "     * 'cursor' event from matplotlib */\n",
       "    event.preventDefault();\n",
       "    return false;\n",
       "}\n",
       "\n",
       "mpl.figure.prototype._key_event_extra = function(event, name) {\n",
       "    // Handle any extra behaviour associated with a key event\n",
       "}\n",
       "\n",
       "mpl.figure.prototype.key_event = function(event, name) {\n",
       "\n",
       "    // Prevent repeat events\n",
       "    if (name == 'key_press')\n",
       "    {\n",
       "        if (event.which === this._key)\n",
       "            return;\n",
       "        else\n",
       "            this._key = event.which;\n",
       "    }\n",
       "    if (name == 'key_release')\n",
       "        this._key = null;\n",
       "\n",
       "    var value = '';\n",
       "    if (event.ctrlKey && event.which != 17)\n",
       "        value += \"ctrl+\";\n",
       "    if (event.altKey && event.which != 18)\n",
       "        value += \"alt+\";\n",
       "    if (event.shiftKey && event.which != 16)\n",
       "        value += \"shift+\";\n",
       "\n",
       "    value += 'k';\n",
       "    value += event.which.toString();\n",
       "\n",
       "    this._key_event_extra(event, name);\n",
       "\n",
       "    this.send_message(name, {key: value,\n",
       "                             guiEvent: simpleKeys(event)});\n",
       "    return false;\n",
       "}\n",
       "\n",
       "mpl.figure.prototype.toolbar_button_onclick = function(name) {\n",
       "    if (name == 'download') {\n",
       "        this.handle_save(this, null);\n",
       "    } else {\n",
       "        this.send_message(\"toolbar_button\", {name: name});\n",
       "    }\n",
       "};\n",
       "\n",
       "mpl.figure.prototype.toolbar_button_onmouseover = function(tooltip) {\n",
       "    this.message.textContent = tooltip;\n",
       "};\n",
       "mpl.toolbar_items = [[\"Home\", \"Reset original view\", \"fa fa-home icon-home\", \"home\"], [\"Back\", \"Back to previous view\", \"fa fa-arrow-left icon-arrow-left\", \"back\"], [\"Forward\", \"Forward to next view\", \"fa fa-arrow-right icon-arrow-right\", \"forward\"], [\"\", \"\", \"\", \"\"], [\"Pan\", \"Pan axes with left mouse, zoom with right\", \"fa fa-arrows icon-move\", \"pan\"], [\"Zoom\", \"Zoom to rectangle\", \"fa fa-square-o icon-check-empty\", \"zoom\"], [\"\", \"\", \"\", \"\"], [\"Download\", \"Download plot\", \"fa fa-floppy-o icon-save\", \"download\"]];\n",
       "\n",
       "mpl.extensions = [\"eps\", \"pdf\", \"png\", \"ps\", \"raw\", \"svg\"];\n",
       "\n",
       "mpl.default_extension = \"png\";var comm_websocket_adapter = function(comm) {\n",
       "    // Create a \"websocket\"-like object which calls the given IPython comm\n",
       "    // object with the appropriate methods. Currently this is a non binary\n",
       "    // socket, so there is still some room for performance tuning.\n",
       "    var ws = {};\n",
       "\n",
       "    ws.close = function() {\n",
       "        comm.close()\n",
       "    };\n",
       "    ws.send = function(m) {\n",
       "        //console.log('sending', m);\n",
       "        comm.send(m);\n",
       "    };\n",
       "    // Register the callback with on_msg.\n",
       "    comm.on_msg(function(msg) {\n",
       "        //console.log('receiving', msg['content']['data'], msg);\n",
       "        // Pass the mpl event to the overridden (by mpl) onmessage function.\n",
       "        ws.onmessage(msg['content']['data'])\n",
       "    });\n",
       "    return ws;\n",
       "}\n",
       "\n",
       "mpl.mpl_figure_comm = function(comm, msg) {\n",
       "    // This is the function which gets called when the mpl process\n",
       "    // starts-up an IPython Comm through the \"matplotlib\" channel.\n",
       "\n",
       "    var id = msg.content.data.id;\n",
       "    // Get hold of the div created by the display call when the Comm\n",
       "    // socket was opened in Python.\n",
       "    var element = $(\"#\" + id);\n",
       "    var ws_proxy = comm_websocket_adapter(comm)\n",
       "\n",
       "    function ondownload(figure, format) {\n",
       "        window.open(figure.imageObj.src);\n",
       "    }\n",
       "\n",
       "    var fig = new mpl.figure(id, ws_proxy,\n",
       "                           ondownload,\n",
       "                           element.get(0));\n",
       "\n",
       "    // Call onopen now - mpl needs it, as it is assuming we've passed it a real\n",
       "    // web socket which is closed, not our websocket->open comm proxy.\n",
       "    ws_proxy.onopen();\n",
       "\n",
       "    fig.parent_element = element.get(0);\n",
       "    fig.cell_info = mpl.find_output_cell(\"<div id='\" + id + \"'></div>\");\n",
       "    if (!fig.cell_info) {\n",
       "        console.error(\"Failed to find cell for figure\", id, fig);\n",
       "        return;\n",
       "    }\n",
       "\n",
       "    var output_index = fig.cell_info[2]\n",
       "    var cell = fig.cell_info[0];\n",
       "\n",
       "};\n",
       "\n",
       "mpl.figure.prototype.handle_close = function(fig, msg) {\n",
       "    var width = fig.canvas.width/mpl.ratio\n",
       "    fig.root.unbind('remove')\n",
       "\n",
       "    // Update the output cell to use the data from the current canvas.\n",
       "    fig.push_to_output();\n",
       "    var dataURL = fig.canvas.toDataURL();\n",
       "    // Re-enable the keyboard manager in IPython - without this line, in FF,\n",
       "    // the notebook keyboard shortcuts fail.\n",
       "    IPython.keyboard_manager.enable()\n",
       "    $(fig.parent_element).html('<img src=\"' + dataURL + '\" width=\"' + width + '\">');\n",
       "    fig.close_ws(fig, msg);\n",
       "}\n",
       "\n",
       "mpl.figure.prototype.close_ws = function(fig, msg){\n",
       "    fig.send_message('closing', msg);\n",
       "    // fig.ws.close()\n",
       "}\n",
       "\n",
       "mpl.figure.prototype.push_to_output = function(remove_interactive) {\n",
       "    // Turn the data on the canvas into data in the output cell.\n",
       "    var width = this.canvas.width/mpl.ratio\n",
       "    var dataURL = this.canvas.toDataURL();\n",
       "    this.cell_info[1]['text/html'] = '<img src=\"' + dataURL + '\" width=\"' + width + '\">';\n",
       "}\n",
       "\n",
       "mpl.figure.prototype.updated_canvas_event = function() {\n",
       "    // Tell IPython that the notebook contents must change.\n",
       "    IPython.notebook.set_dirty(true);\n",
       "    this.send_message(\"ack\", {});\n",
       "    var fig = this;\n",
       "    // Wait a second, then push the new image to the DOM so\n",
       "    // that it is saved nicely (might be nice to debounce this).\n",
       "    setTimeout(function () { fig.push_to_output() }, 1000);\n",
       "}\n",
       "\n",
       "mpl.figure.prototype._init_toolbar = function() {\n",
       "    var fig = this;\n",
       "\n",
       "    var nav_element = $('<div/>')\n",
       "    nav_element.attr('style', 'width: 100%');\n",
       "    this.root.append(nav_element);\n",
       "\n",
       "    // Define a callback function for later on.\n",
       "    function toolbar_event(event) {\n",
       "        return fig.toolbar_button_onclick(event['data']);\n",
       "    }\n",
       "    function toolbar_mouse_event(event) {\n",
       "        return fig.toolbar_button_onmouseover(event['data']);\n",
       "    }\n",
       "\n",
       "    for(var toolbar_ind in mpl.toolbar_items){\n",
       "        var name = mpl.toolbar_items[toolbar_ind][0];\n",
       "        var tooltip = mpl.toolbar_items[toolbar_ind][1];\n",
       "        var image = mpl.toolbar_items[toolbar_ind][2];\n",
       "        var method_name = mpl.toolbar_items[toolbar_ind][3];\n",
       "\n",
       "        if (!name) { continue; };\n",
       "\n",
       "        var button = $('<button class=\"btn btn-default\" href=\"#\" title=\"' + name + '\"><i class=\"fa ' + image + ' fa-lg\"></i></button>');\n",
       "        button.click(method_name, toolbar_event);\n",
       "        button.mouseover(tooltip, toolbar_mouse_event);\n",
       "        nav_element.append(button);\n",
       "    }\n",
       "\n",
       "    // Add the status bar.\n",
       "    var status_bar = $('<span class=\"mpl-message\" style=\"text-align:right; float: right;\"/>');\n",
       "    nav_element.append(status_bar);\n",
       "    this.message = status_bar[0];\n",
       "\n",
       "    // Add the close button to the window.\n",
       "    var buttongrp = $('<div class=\"btn-group inline pull-right\"></div>');\n",
       "    var button = $('<button class=\"btn btn-mini btn-primary\" href=\"#\" title=\"Stop Interaction\"><i class=\"fa fa-power-off icon-remove icon-large\"></i></button>');\n",
       "    button.click(function (evt) { fig.handle_close(fig, {}); } );\n",
       "    button.mouseover('Stop Interaction', toolbar_mouse_event);\n",
       "    buttongrp.append(button);\n",
       "    var titlebar = this.root.find($('.ui-dialog-titlebar'));\n",
       "    titlebar.prepend(buttongrp);\n",
       "}\n",
       "\n",
       "mpl.figure.prototype._root_extra_style = function(el){\n",
       "    var fig = this\n",
       "    el.on(\"remove\", function(){\n",
       "\tfig.close_ws(fig, {});\n",
       "    });\n",
       "}\n",
       "\n",
       "mpl.figure.prototype._canvas_extra_style = function(el){\n",
       "    // this is important to make the div 'focusable\n",
       "    el.attr('tabindex', 0)\n",
       "    // reach out to IPython and tell the keyboard manager to turn it's self\n",
       "    // off when our div gets focus\n",
       "\n",
       "    // location in version 3\n",
       "    if (IPython.notebook.keyboard_manager) {\n",
       "        IPython.notebook.keyboard_manager.register_events(el);\n",
       "    }\n",
       "    else {\n",
       "        // location in version 2\n",
       "        IPython.keyboard_manager.register_events(el);\n",
       "    }\n",
       "\n",
       "}\n",
       "\n",
       "mpl.figure.prototype._key_event_extra = function(event, name) {\n",
       "    var manager = IPython.notebook.keyboard_manager;\n",
       "    if (!manager)\n",
       "        manager = IPython.keyboard_manager;\n",
       "\n",
       "    // Check for shift+enter\n",
       "    if (event.shiftKey && event.which == 13) {\n",
       "        this.canvas_div.blur();\n",
       "        event.shiftKey = false;\n",
       "        // Send a \"J\" for go to next cell\n",
       "        event.which = 74;\n",
       "        event.keyCode = 74;\n",
       "        manager.command_mode();\n",
       "        manager.handle_keydown(event);\n",
       "    }\n",
       "}\n",
       "\n",
       "mpl.figure.prototype.handle_save = function(fig, msg) {\n",
       "    fig.ondownload(fig, null);\n",
       "}\n",
       "\n",
       "\n",
       "mpl.find_output_cell = function(html_output) {\n",
       "    // Return the cell and output element which can be found *uniquely* in the notebook.\n",
       "    // Note - this is a bit hacky, but it is done because the \"notebook_saving.Notebook\"\n",
       "    // IPython event is triggered only after the cells have been serialised, which for\n",
       "    // our purposes (turning an active figure into a static one), is too late.\n",
       "    var cells = IPython.notebook.get_cells();\n",
       "    var ncells = cells.length;\n",
       "    for (var i=0; i<ncells; i++) {\n",
       "        var cell = cells[i];\n",
       "        if (cell.cell_type === 'code'){\n",
       "            for (var j=0; j<cell.output_area.outputs.length; j++) {\n",
       "                var data = cell.output_area.outputs[j];\n",
       "                if (data.data) {\n",
       "                    // IPython >= 3 moved mimebundle to data attribute of output\n",
       "                    data = data.data;\n",
       "                }\n",
       "                if (data['text/html'] == html_output) {\n",
       "                    return [cell, data, j];\n",
       "                }\n",
       "            }\n",
       "        }\n",
       "    }\n",
       "}\n",
       "\n",
       "// Register the function which deals with the matplotlib target/channel.\n",
       "// The kernel may be null if the page has been refreshed.\n",
       "if (IPython.notebook.kernel != null) {\n",
       "    IPython.notebook.kernel.comm_manager.register_target('matplotlib', mpl.mpl_figure_comm);\n",
       "}\n"
      ],
      "text/plain": [
       "<IPython.core.display.Javascript object>"
      ]
     },
     "metadata": {},
     "output_type": "display_data"
    },
    {
     "data": {
      "text/html": [
       "<img src=\"data:image/png;base64,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\" width=\"648\">"
      ],
      "text/plain": [
       "<IPython.core.display.HTML object>"
      ]
     },
     "metadata": {},
     "output_type": "display_data"
    }
   ],
   "source": [
    "# plotting results into a nice 3D graph\n",
    "fig = plt.figure('K-Means Patients Dataset', figsize=(9,9))\n",
    "ax = plt.axes(projection = '3d')\n",
    "sc=ax.scatter3D(xs=patients.patient_weight_kg, ys= patients.patient_height_sm, zs=patients.patient_allergic, \n",
    "                c=patients.labels, s=15, marker='H')\n",
    "ax.set_xlabel('Weight')\n",
    "ax.set_ylabel('Height')\n",
    "ax.set_zlabel('Allergic')\n",
    "plt.show()"
   ]
  },
  {
   "cell_type": "code",
   "execution_count": null,
   "metadata": {},
   "outputs": [],
   "source": []
  }
 ],
 "metadata": {
  "kernelspec": {
   "display_name": "Python 3",
   "language": "python",
   "name": "python3"
  }
 },
 "nbformat": 4,
 "nbformat_minor": 2
}
