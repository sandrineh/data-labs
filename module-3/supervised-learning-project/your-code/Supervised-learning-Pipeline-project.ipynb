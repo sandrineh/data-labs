{
 "cells": [
  {
   "cell_type": "markdown",
   "metadata": {},
   "source": [
    "#### PIPELINE\n",
    "- qd on fait du ML 2 partie train/test\n",
    "- pipeline est un objet où on met les étapes du train (normalizasion, PCA, Split, cross, grid, le modèle choisi,...)\n",
    "- on peut accéder indépendamment à chacun des objets.\n",
    "- gain de tps\n",
    "- on accède à tous les objets dans pipeline.</n>\n",
    "\n",
    "- il est possible d'utiliser la fonction Transform pour utiliser les meilleurs paramètre sélectionnefr par le Grid."
   ]
  },
  {
   "cell_type": "code",
   "execution_count": 132,
   "metadata": {},
   "outputs": [],
   "source": [
    "#Phase 1: Load Dataset\n",
    "\n",
    "#For reading the CSV file into a Pandas dataframe, we use this function again (which we have already used in previous lessons):\n",
    "\n",
    "import pandas.io\n",
    "\n",
    "#\n",
    "# DECLARATION PART\n",
    "#\n",
    "PIPELINEPATH= \"ser2_pipeline.pickle\"\n",
    "DATASETPATH= \"dataset/adult.data\"\n",
    "\n",
    "def readCsvToDataFrame(path, row_with_column_names):\n",
    "    theDataFrame= pandas.read_csv(path, header=row_with_column_names)\n",
    "    return theDataFrame"
   ]
  },
  {
   "cell_type": "code",
   "execution_count": 25,
   "metadata": {},
   "outputs": [],
   "source": [
    "#And we invoke like this:\n",
    "\n",
    "adult_data = readCsvToDataFrame(DATASETPATH, None)\n",
    "adult_data.columns=['age','workclass','fnlwgt','education','education-num','marital-status','occupation','relationship','race','sex','capital-gain','capital-loss','hours-per-week','native-country','income']\n"
   ]
  },
  {
   "cell_type": "code",
   "execution_count": 26,
   "metadata": {},
   "outputs": [],
   "source": [
    "def show_df_info(dataframe):\n",
    "    # get the data type\n",
    "    print(type(dataframe))\n",
    "    print(\"amount of entries is %s\" % dataframe.size)\n",
    "    print(\"dimensions= %i\" % dataframe.ndim)\n",
    "    print(\"shape is \", end=\"\")\n",
    "    print(dataframe.shape)\n",
    "    print(\"axes: \", end=\"\")\n",
    "    print(dataframe.axes)\n",
    "    print(\"data types of columns:\")\n",
    "    print(dataframe.dtypes)\n",
    "    print(\"features: %s\" % dataframe.columns)"
   ]
  },
  {
   "cell_type": "code",
   "execution_count": 27,
   "metadata": {},
   "outputs": [
    {
     "name": "stdout",
     "output_type": "stream",
     "text": [
      "<class 'pandas.core.frame.DataFrame'>\n",
      "amount of entries is 488415\n",
      "dimensions= 2\n",
      "shape is (32561, 15)\n",
      "axes: [RangeIndex(start=0, stop=32561, step=1), Index(['age', 'workclass', 'fnlwgt', 'education', 'education-num',\n",
      "       'marital-status', 'occupation', 'relationship', 'race', 'sex',\n",
      "       'capital-gain', 'capital-loss', 'hours-per-week', 'native-country',\n",
      "       'income'],\n",
      "      dtype='object')]\n",
      "data types of columns:\n",
      "age                int64\n",
      "workclass         object\n",
      "fnlwgt             int64\n",
      "education         object\n",
      "education-num      int64\n",
      "marital-status    object\n",
      "occupation        object\n",
      "relationship      object\n",
      "race              object\n",
      "sex               object\n",
      "capital-gain       int64\n",
      "capital-loss       int64\n",
      "hours-per-week     int64\n",
      "native-country    object\n",
      "income            object\n",
      "dtype: object\n",
      "features: Index(['age', 'workclass', 'fnlwgt', 'education', 'education-num',\n",
      "       'marital-status', 'occupation', 'relationship', 'race', 'sex',\n",
      "       'capital-gain', 'capital-loss', 'hours-per-week', 'native-country',\n",
      "       'income'],\n",
      "      dtype='object')\n"
     ]
    },
    {
     "data": {
      "text/html": [
       "<div>\n",
       "<style scoped>\n",
       "    .dataframe tbody tr th:only-of-type {\n",
       "        vertical-align: middle;\n",
       "    }\n",
       "\n",
       "    .dataframe tbody tr th {\n",
       "        vertical-align: top;\n",
       "    }\n",
       "\n",
       "    .dataframe thead th {\n",
       "        text-align: right;\n",
       "    }\n",
       "</style>\n",
       "<table border=\"1\" class=\"dataframe\">\n",
       "  <thead>\n",
       "    <tr style=\"text-align: right;\">\n",
       "      <th></th>\n",
       "      <th>age</th>\n",
       "      <th>workclass</th>\n",
       "      <th>fnlwgt</th>\n",
       "      <th>education</th>\n",
       "      <th>education-num</th>\n",
       "      <th>marital-status</th>\n",
       "      <th>occupation</th>\n",
       "      <th>relationship</th>\n",
       "      <th>race</th>\n",
       "      <th>sex</th>\n",
       "      <th>capital-gain</th>\n",
       "      <th>capital-loss</th>\n",
       "      <th>hours-per-week</th>\n",
       "      <th>native-country</th>\n",
       "      <th>income</th>\n",
       "    </tr>\n",
       "  </thead>\n",
       "  <tbody>\n",
       "    <tr>\n",
       "      <th>0</th>\n",
       "      <td>39</td>\n",
       "      <td>State-gov</td>\n",
       "      <td>77516</td>\n",
       "      <td>Bachelors</td>\n",
       "      <td>13</td>\n",
       "      <td>Never-married</td>\n",
       "      <td>Adm-clerical</td>\n",
       "      <td>Not-in-family</td>\n",
       "      <td>White</td>\n",
       "      <td>Male</td>\n",
       "      <td>2174</td>\n",
       "      <td>0</td>\n",
       "      <td>40</td>\n",
       "      <td>United-States</td>\n",
       "      <td>&lt;=50K</td>\n",
       "    </tr>\n",
       "    <tr>\n",
       "      <th>1</th>\n",
       "      <td>50</td>\n",
       "      <td>Self-emp-not-inc</td>\n",
       "      <td>83311</td>\n",
       "      <td>Bachelors</td>\n",
       "      <td>13</td>\n",
       "      <td>Married-civ-spouse</td>\n",
       "      <td>Exec-managerial</td>\n",
       "      <td>Husband</td>\n",
       "      <td>White</td>\n",
       "      <td>Male</td>\n",
       "      <td>0</td>\n",
       "      <td>0</td>\n",
       "      <td>13</td>\n",
       "      <td>United-States</td>\n",
       "      <td>&lt;=50K</td>\n",
       "    </tr>\n",
       "    <tr>\n",
       "      <th>2</th>\n",
       "      <td>38</td>\n",
       "      <td>Private</td>\n",
       "      <td>215646</td>\n",
       "      <td>HS-grad</td>\n",
       "      <td>9</td>\n",
       "      <td>Divorced</td>\n",
       "      <td>Handlers-cleaners</td>\n",
       "      <td>Not-in-family</td>\n",
       "      <td>White</td>\n",
       "      <td>Male</td>\n",
       "      <td>0</td>\n",
       "      <td>0</td>\n",
       "      <td>40</td>\n",
       "      <td>United-States</td>\n",
       "      <td>&lt;=50K</td>\n",
       "    </tr>\n",
       "    <tr>\n",
       "      <th>3</th>\n",
       "      <td>53</td>\n",
       "      <td>Private</td>\n",
       "      <td>234721</td>\n",
       "      <td>11th</td>\n",
       "      <td>7</td>\n",
       "      <td>Married-civ-spouse</td>\n",
       "      <td>Handlers-cleaners</td>\n",
       "      <td>Husband</td>\n",
       "      <td>Black</td>\n",
       "      <td>Male</td>\n",
       "      <td>0</td>\n",
       "      <td>0</td>\n",
       "      <td>40</td>\n",
       "      <td>United-States</td>\n",
       "      <td>&lt;=50K</td>\n",
       "    </tr>\n",
       "    <tr>\n",
       "      <th>4</th>\n",
       "      <td>28</td>\n",
       "      <td>Private</td>\n",
       "      <td>338409</td>\n",
       "      <td>Bachelors</td>\n",
       "      <td>13</td>\n",
       "      <td>Married-civ-spouse</td>\n",
       "      <td>Prof-specialty</td>\n",
       "      <td>Wife</td>\n",
       "      <td>Black</td>\n",
       "      <td>Female</td>\n",
       "      <td>0</td>\n",
       "      <td>0</td>\n",
       "      <td>40</td>\n",
       "      <td>Cuba</td>\n",
       "      <td>&lt;=50K</td>\n",
       "    </tr>\n",
       "  </tbody>\n",
       "</table>\n",
       "</div>"
      ],
      "text/plain": [
       "   age          workclass  fnlwgt   education  education-num  \\\n",
       "0   39          State-gov   77516   Bachelors             13   \n",
       "1   50   Self-emp-not-inc   83311   Bachelors             13   \n",
       "2   38            Private  215646     HS-grad              9   \n",
       "3   53            Private  234721        11th              7   \n",
       "4   28            Private  338409   Bachelors             13   \n",
       "\n",
       "        marital-status          occupation    relationship    race      sex  \\\n",
       "0        Never-married        Adm-clerical   Not-in-family   White     Male   \n",
       "1   Married-civ-spouse     Exec-managerial         Husband   White     Male   \n",
       "2             Divorced   Handlers-cleaners   Not-in-family   White     Male   \n",
       "3   Married-civ-spouse   Handlers-cleaners         Husband   Black     Male   \n",
       "4   Married-civ-spouse      Prof-specialty            Wife   Black   Female   \n",
       "\n",
       "   capital-gain  capital-loss  hours-per-week  native-country  income  \n",
       "0          2174             0              40   United-States   <=50K  \n",
       "1             0             0              13   United-States   <=50K  \n",
       "2             0             0              40   United-States   <=50K  \n",
       "3             0             0              40   United-States   <=50K  \n",
       "4             0             0              40            Cuba   <=50K  "
      ]
     },
     "execution_count": 27,
     "metadata": {},
     "output_type": "execute_result"
    }
   ],
   "source": [
    "show_df_info(adult_data)\n",
    "adult_data.head(5)"
   ]
  },
  {
   "cell_type": "code",
   "execution_count": 28,
   "metadata": {},
   "outputs": [
    {
     "data": {
      "image/png": "[encoded data removed]",
      "text/plain": [
       "<Figure size 648x504 with 2 Axes>"
      ]
     },
     "metadata": {
      "needs_background": "light"
     },
     "output_type": "display_data"
    }
   ],
   "source": [
    "import numpy as np\n",
    "import pandas as pd\n",
    "\n",
    "%matplotlib inline\n",
    "import seaborn as sns\n",
    "import matplotlib.pyplot as plt\n",
    "\n",
    "#Data_cleaning\n",
    "adult_data_num = adult_data.select_dtypes(include=['int64'])\n",
    "adult_data_num_corr = adult_data_num.corr()\n",
    "\n",
    "# Set up the matplotlib figure\n",
    "fig, ax = plt.subplots(figsize=(9, 7))\n",
    "\n",
    "# Generate a custom diverging colormap #\n",
    "cmap=\"YlGnBu\"\n",
    "\n",
    "# Draw the heatmap with the mask and correct aspect ratio (mask=mask)\n",
    "ax = sns.heatmap(adult_data_num_corr, cmap=cmap, annot=True, annot_kws={\"size\": 10},square=True, linewidths=.5)"
   ]
  },
  {
   "cell_type": "code",
   "execution_count": 29,
   "metadata": {},
   "outputs": [
    {
     "data": {
      "text/plain": [
       "0"
      ]
     },
     "execution_count": 29,
     "metadata": {},
     "output_type": "execute_result"
    },
    {
     "data": {
      "image/png": "[encoded data removed]",
      "text/plain": [
       "<Figure size 432x288 with 1 Axes>"
      ]
     },
     "metadata": {
      "needs_background": "light"
     },
     "output_type": "display_data"
    }
   ],
   "source": [
    "#regroupement des pays par continent dès lors que ce n’est pas les USA qui représentent 89,5% des répondants.\n",
    "#Pour les lignes NC, je les supprime. Ca fera 583 lignes en moins sur 32561. On travaillera donc avec 31898 lignes.\n",
    "America=[' Cuba', ' Jamaica', ' Mexico',' Puerto-Rico', ' Honduras',' Canada',' Columbia',' Ecuador',' Haiti', ' Dominican-Republic',' Guatemala', ' Peru', ' Outlying-US(Guam-USVI-etc)', ' Trinadad&Tobago', ' Nicaragua',' El-Salvador']\n",
    "Asia = [' India',' Iran', ' Philippines',' Cambodia', ' Thailand',' Laos',' Taiwan', ' China', ' Japan',' Vietnam', ' Hong']\n",
    "Europe =[' England', ' Germany',' Italy', ' Poland',' Portugal',' France', ' Yugoslavia',' Scotland', ' Greece', ' Ireland', ' Hungary', ' Holand-Netherlands']\n",
    "adult_data = adult_data.assign(group_country=adult_data['native-country'].map(lambda x: 'America' if x in America else ('Asia' if x in Asia else ('Europe' if x in Europe else x))))\n",
    "adult_data.drop(adult_data[adult_data['group_country'] ==' ?'].index, inplace = True )\n",
    "adult_data.drop(adult_data[adult_data['group_country'] ==' South'].index, inplace = True )\n",
    "adult_data.drop(columns = 'native-country',inplace = True)\n",
    "\n",
    "# Je passe cette colonne en ordinal pour plus faciliter les calculs.\n",
    "adult_data['income_ordinal'] = adult_data['income'].map(lambda x: 1 if x==' >50K' else 0)\n",
    "\n",
    "sns.countplot(x='income',data=adult_data)\n",
    "\n",
    "plt.title('Distribution Income')\n",
    "plt.xlabel('Income')\n",
    "plt.ylabel('Nb of persons')\n",
    "\n",
    "adult_data.isna().sum().sum()"
   ]
  },
  {
   "cell_type": "code",
   "execution_count": 34,
   "metadata": {},
   "outputs": [],
   "source": [
    "#Phase 2: Slice the Dataset\n",
    "\n",
    "# y pour la Target\n",
    "y= adult_data[\"income_ordinal\"]\n",
    "\n",
    "# X pour les Features\n",
    "X = pd.get_dummies(adult_data.drop(columns=['income_ordinal','income']))"
   ]
  },
  {
   "cell_type": "markdown",
   "metadata": {},
   "source": [
    "### 1. Split des données en training (80%) et testing (20%) .\n",
    "Je réalise un split classique de type 80% pour le training et 20% pour le test."
   ]
  },
  {
   "cell_type": "code",
   "execution_count": 35,
   "metadata": {},
   "outputs": [
    {
     "data": {
      "text/plain": [
       "((25518, 70), (6380, 70), (25518,), (6380,))"
      ]
     },
     "execution_count": 35,
     "metadata": {},
     "output_type": "execute_result"
    }
   ],
   "source": [
    "from sklearn.model_selection import train_test_split\n",
    "\n",
    "X_train, X_test, y_train, y_test = train_test_split(X,y ,train_size=0.80, test_size=0.20)\n",
    "X_train.shape, X_test.shape, y_train.shape, y_test.shape"
   ]
  },
  {
   "cell_type": "code",
   "execution_count": 59,
   "metadata": {},
   "outputs": [],
   "source": [
    "#Phase 3: Create the Pipeline\n",
    "\n",
    "#This is the code snippet that creates the Scikit-learn pipeline:\n",
    "from sklearn import tree, pipeline, preprocessing\n",
    "from sklearn.model_selection import cross_val_score\n",
    "from sklearn import metrics\n",
    "from sklearn.model_selection import GridSearchCV\n",
    "from sklearn.linear_model import LogisticRegression\n",
    "from sklearn.tree import DecisionTreeClassifier\n"
   ]
  },
  {
   "cell_type": "code",
   "execution_count": 124,
   "metadata": {
    "scrolled": true
   },
   "outputs": [
    {
     "name": "stdout",
     "output_type": "stream",
     "text": [
      "Best parameter (CV score=0.855): \n",
      " best_params:  {'dec_tree_model__criterion': 'gini', 'dec_tree_model__max_depth': 10, 'dec_tree_model__splitter': 'best'}\n",
      "Best parameter (CV score=0.853): \n",
      " best_params:  {'logreg__C': 1000.0, 'logreg__penalty': 'l1'}\n",
      "\n",
      "  Le modèle dec_tree_model performe 81.6483393936117\n",
      "\n",
      "  Le modèle logreg performe 79.63007776162523\n"
     ]
    }
   ],
   "source": [
    "#Create Pipeline With Model Selection Search Space\n",
    "# Create a pipeline\n",
    "models=[('dec_tree_model', DecisionTreeClassifier()),('logreg',LogisticRegression(solver='liblinear'))]\n",
    "\n",
    "# Create space of candidate learning algorithms and their hyperparameters\n",
    "search_params = [{'dec_tree_model__criterion': ['gini','entropy'],\n",
    "                 'dec_tree_model__max_depth': [5,10,50,None],\n",
    "                 'dec_tree_model__splitter':['best','random']},\n",
    "               {'logreg__penalty': ['l1', 'l2'],\n",
    "                 'logreg__C': np.logspace(-3,3,7)}]\n",
    "\n",
    "best_para=[]\n",
    "for model,params in zip(models,search_params):\n",
    "    pipe = pipeline.Pipeline(steps=[model])   \n",
    "    searchg = GridSearchCV(pipe, params, iid=False, cv=5)\n",
    "    searchg.fit(X_train, y_train)\n",
    "    print(\"Best parameter (CV score=%0.3f):\" % searchg.best_score_,'\\n best_params: ',searchg.best_params_)\n",
    "    best_para.append(searchg.best_params_)\n",
    "    \n",
    "for model,params in zip(models,best_para):\n",
    "    pipe = pipeline.Pipeline(steps=[model])  \n",
    "    pipe.fit(X_train, y_train)\n",
    "    print('\\n',f' Le modèle {model[0]} performe ' + str(cross_val_score(pipe, X_train, y_train,scoring='accuracy', cv = 10).mean()*100))\n",
    "\n"
   ]
  },
  {
   "cell_type": "code",
   "execution_count": 133,
   "metadata": {},
   "outputs": [
    {
     "data": {
      "text/plain": [
       "['ser2_pipeline.pickle']"
      ]
     },
     "execution_count": 133,
     "metadata": {},
     "output_type": "execute_result"
    }
   ],
   "source": [
    "## PHASE 6: SAVE PIPELINE\n",
    "from sklearn.externals import joblib\n",
    "\n",
    "# the whole pipeline in one single file\n",
    "joblib.dump(pipe, PIPELINEPATH, compress = 1)\n",
    "\n"
   ]
  },
  {
   "cell_type": "code",
   "execution_count": 134,
   "metadata": {},
   "outputs": [],
   "source": [
    "## PHASE 7: LOAD THE PIPELINE\n",
    "# read the file and deserialize the pipeline\n",
    "pipeline_loaded = joblib.load(PIPELINEPATH)\n"
   ]
  },
  {
   "cell_type": "code",
   "execution_count": 135,
   "metadata": {},
   "outputs": [
    {
     "ename": "TypeError",
     "evalue": "%i format: a number is required, not numpy.ndarray",
     "output_type": "error",
     "traceback": [
      "\u001b[0;31m---------------------------------------------------------------------------\u001b[0m",
      "\u001b[0;31mTypeError\u001b[0m                                 Traceback (most recent call last)",
      "\u001b[0;32m<ipython-input-135-3ae0798dafe7>\u001b[0m in \u001b[0;36m<module>\u001b[0;34m\u001b[0m\n\u001b[1;32m      3\u001b[0m \u001b[0;34m\u001b[0m\u001b[0m\n\u001b[1;32m      4\u001b[0m \u001b[0mresult\u001b[0m\u001b[0;34m=\u001b[0m \u001b[0mpipeline_loaded\u001b[0m\u001b[0;34m.\u001b[0m\u001b[0mpredict\u001b[0m\u001b[0;34m(\u001b[0m\u001b[0mX_test\u001b[0m\u001b[0;34m)\u001b[0m\u001b[0;34m\u001b[0m\u001b[0;34m\u001b[0m\u001b[0m\n\u001b[0;32m----> 5\u001b[0;31m \u001b[0mprint\u001b[0m\u001b[0;34m(\u001b[0m\u001b[0;34m\"class label is %i\"\u001b[0m \u001b[0;34m%\u001b[0m \u001b[0mresult\u001b[0m\u001b[0;34m)\u001b[0m\u001b[0;34m\u001b[0m\u001b[0;34m\u001b[0m\u001b[0m\n\u001b[0m\u001b[1;32m      6\u001b[0m \u001b[0;34m\u001b[0m\u001b[0m\n\u001b[1;32m      7\u001b[0m \u001b[0mprint\u001b[0m\u001b[0;34m(\u001b[0m\u001b[0;34m\"--- end of execution ---\"\u001b[0m\u001b[0;34m)\u001b[0m\u001b[0;34m\u001b[0m\u001b[0;34m\u001b[0m\u001b[0m\n",
      "\u001b[0;31mTypeError\u001b[0m: %i format: a number is required, not numpy.ndarray"
     ]
    }
   ],
   "source": [
    "## PHASE 8: CLASSIFY NEW INSTANCES\n",
    "# create new random problem instance\n",
    "\n",
    "result= pipeline_loaded.predict(X_test)\n",
    "print(\"class label is %i\" % result)\n",
    "\n",
    "print(\"--- end of execution ---\")"
   ]
  },
  {
   "cell_type": "code",
   "execution_count": null,
   "metadata": {},
   "outputs": [],
   "source": []
  }
 ],
 "metadata": {
  "kernelspec": {
   "display_name": "Python 3",
   "language": "python",
   "name": "python3"
  },
  "language_info": {
   "codemirror_mode": {
    "name": "ipython",
    "version": 3
   },
   "file_extension": ".py",
   "mimetype": "text/x-python",
   "name": "python",
   "nbconvert_exporter": "python",
   "pygments_lexer": "ipython3",
   "version": "3.7.5"
  }
 },
 "nbformat": 4,
 "nbformat_minor": 2
}
