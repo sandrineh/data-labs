{
 "cells": [
  {
   "cell_type": "markdown",
   "metadata": {},
   "source": [
    "# Download the data\n",
    "# Take a Quick Look at the Data Structure\n",
    "- Head\n",
    "- Info\n",
    "- Describe\n",
    "- Histogram on numerical features\n",
    "# Create a Test Set\n",
    "housing_train, housing_test = train_test_split(housing_data, test_size=0.2)\n",
    "housing_train.shape, housing_test.shape\n",
    "# Discover and Visualize the Data to Gain Insights\n",
    "## Visualizing Geographical Data\n",
    "## Looking for Correlations\n",
    "## Experimenting with Feature Engineering\n",
    "housing_train_df = housing_train_df.assign(rooms_per_household=housing_train_df[\"total_rooms\"]/housing_train_df[\"households\"])\n",
    "\n",
    "# Data Preparation\n",
    "## Variable Encoding\n",
    "# il n'y a qu'une variable de type catégoriel, on peut donc utiliser la méthode du One-hot encoding pour obtenir des variables numériques\n",
    "housing_train_df = pd.get_dummies(housing_train_df)\n",
    "\n",
    "## Data Cleaning (missing values handling)\n",
    "# Check a class called Imputer in Scikit Learn with parameter \"median\"\n",
    "from sklearn.impute import SimpleImputer\n",
    "\n",
    "    #imputation par la moyenne\n",
    "imp = SimpleImputer(missing_values=np.nan, strategy='median')\n",
    "housing_train_df_imp = imp.fit_transform(housing_train_df)\n",
    "housing_train_df= pd.DataFrame(housing_train_df_imp, columns=housing_train_df.columns)\n",
    "housing_train_df.head()\n",
    "\n",
    "## Feature engineering\n",
    "## Feature Scaling\n",
    "Feature Scaling est une étape nécessaire voire indispensable de remise à niveau de caractéristiques de notre modèle de Machine Learning. Pourquoi ? et bien tout simplement car derrière chaque algorithme se cache des formules mathématiques. Et ces formules mathématiques n’apprécient guère les variations d’échelle de valeurs entre chaque caractéristiques. Et ça c’est tout particulièrement vrai en ce qui concerne la descente de gradient !\n",
    "\n",
    "    Si vous ne faites rien vous allez observer des lenteurs d’apprentissage et des performances amoindries.\n",
    "\n",
    "Prenons un exemple. Imaginez que vous travaillez sur une modélisation autour de données immobilières. Vous aurez des caractéristiques du type : prix, surface, nombre de pièces, etc. Bien sur les échelles de valeurs de ces données sont totalement différentes selon les caractéristiques. Néanmoins vous allez devoir les traiter via le même algorithme. Votre algorithme va en effet devoir mixer des prix de [0 … 100000]€, des surfaces de [0 … 300] m2, des nombres de pièces allant de [1 .. 10] pièces. \n",
    "\n",
    "La mise à l’échelle consiste donc à mettre au même niveaux ces données.\n",
    "\n",
    "#### StandardScaler()\n",
    "\n",
    "Cette technique part du principe que les données sont normalement distribuées. La fonction va recalculer chaque caractéristiques (Cf. formule ci-dessous) afin que les données soient centré autour de 0 et avec un Ecart-Type de 1.\n",
    "\n",
    "<img src=\"standardscaler.jpg\">\n",
    "\n",
    "mean(x) : Moyenne\n",
    "\n",
    "stdev(x) : « Standard Deviation » en Anglais signifie Ecart-Type\n",
    "\n",
    "# Check StandardScaler in Scikit Learn\n",
    "# your code\n",
    "from sklearn.preprocessing import StandardScaler\n",
    "scaler = StandardScaler()\n",
    "\n",
    "scaled_df = scaler.fit_transform(x_train)\n",
    "x_train = pd.DataFrame(scaled_df, columns=x_train.columns)\n",
    "\n",
    "x_train.head()\n",
    "\n",
    "# Select and Train a Model\n",
    "## Training and Evaluating on the Training Set\n",
    "Try :\n",
    "- Linear Regression\n",
    "- Decision Tree Regression\n",
    "- Random Forest Regression\n",
    "(check Scikit Learn)\n",
    "\n",
    "With Performance Metric = RMSE\n",
    "\n",
    "from sklearn import linear_model\n",
    "from sklearn.linear_model import LinearRegression\n",
    "from sklearn.metrics import mean_squared_error, r2_score\n",
    "\n",
    "from sklearn.tree import DecisionTreeRegressor\n",
    "\n",
    "from sklearn.ensemble import RandomForestRegressor\n",
    "\n",
    "## Model Evaluation Using Cross-Validation\n",
    "from sklearn.model_selection import cross_val_score\n",
    "\n",
    "scores = cross_val_score(lin_reg, x_train, y_train, cv=10, scoring='neg_mean_squared_error')\n",
    "\n",
    "x_test, y_test\n",
    "\n",
    "- separer les features de la target (X et Y)\n",
    "- le get dummies => dans une autre DF\n",
    "- le cleaning imp.transform()\n",
    "- ajout des colonnes\n",
    "- le scaler\n",
    "\n",
    "Une bonne pratique tout mettre dans une fonction. => on peut faire plusieurs test avec différents bout de datatset\n",
    "\n",
    "### Travail sur le test set\n"
   ]
  },
  {
   "cell_type": "markdown",
   "metadata": {},
   "source": [
    "# Intro\n",
    "\n",
    "Le dataset sur lequel j'ai travaillé provient du UCI Machine Learning Repository.<br/> \n",
    "<b>Source :</b> <a>https://archive.ics.uci.edu/ml/datasets/census+income</a>.<br/>\n",
    "Les données du set proviennent du recensement de 1994 aux Etats-unis. L’objectif sera ici de prédire si le revenu d’un individu est de plus 50K$ ou pas (grâce à la variable « Income »). <br/> \n",
    "Comme il n'y a que 2 résultats possible, la méthode de ML sera celle de classification : régression logistic, SVM, forest tree etc…<br/> \n",
    "On pourra tester plusieurs de ces modèles pour déterminer le plus efficace."
   ]
  },
  {
   "cell_type": "code",
   "execution_count": 1,
   "metadata": {},
   "outputs": [],
   "source": [
    "# Importation des librairies:\n",
    "\n",
    "import numpy as np\n",
    "import pandas as pd\n",
    "\n",
    "%matplotlib inline\n",
    "import seaborn as sns\n",
    "import matplotlib.pyplot as plt"
   ]
  },
  {
   "cell_type": "markdown",
   "metadata": {},
   "source": [
    "# Analyse et nettoyage du dataset\n",
    "La première étape est d’analyser les données et de les nettoyer <br/>"
   ]
  },
  {
   "cell_type": "code",
   "execution_count": 2,
   "metadata": {},
   "outputs": [],
   "source": [
    "adult_data = pd.DataFrame(pd.read_csv('dataset/adult.data', header=None))\n",
    "adult_data.columns=['age','workclass','fnlwgt','education','education-num','marital-status','occupation','relationship','race','sex','capital-gain','capital-loss','hours-per-week','native-country','income']"
   ]
  },
  {
   "cell_type": "code",
   "execution_count": 3,
   "metadata": {},
   "outputs": [
    {
     "data": {
      "text/html": [
       "<div>\n",
       "<style scoped>\n",
       "    .dataframe tbody tr th:only-of-type {\n",
       "        vertical-align: middle;\n",
       "    }\n",
       "\n",
       "    .dataframe tbody tr th {\n",
       "        vertical-align: top;\n",
       "    }\n",
       "\n",
       "    .dataframe thead th {\n",
       "        text-align: right;\n",
       "    }\n",
       "</style>\n",
       "<table border=\"1\" class=\"dataframe\">\n",
       "  <thead>\n",
       "    <tr style=\"text-align: right;\">\n",
       "      <th></th>\n",
       "      <th>age</th>\n",
       "      <th>workclass</th>\n",
       "      <th>fnlwgt</th>\n",
       "      <th>education</th>\n",
       "      <th>education-num</th>\n",
       "      <th>marital-status</th>\n",
       "      <th>occupation</th>\n",
       "      <th>relationship</th>\n",
       "      <th>race</th>\n",
       "      <th>sex</th>\n",
       "      <th>capital-gain</th>\n",
       "      <th>capital-loss</th>\n",
       "      <th>hours-per-week</th>\n",
       "      <th>native-country</th>\n",
       "      <th>income</th>\n",
       "    </tr>\n",
       "  </thead>\n",
       "  <tbody>\n",
       "    <tr>\n",
       "      <th>0</th>\n",
       "      <td>39</td>\n",
       "      <td>State-gov</td>\n",
       "      <td>77516</td>\n",
       "      <td>Bachelors</td>\n",
       "      <td>13</td>\n",
       "      <td>Never-married</td>\n",
       "      <td>Adm-clerical</td>\n",
       "      <td>Not-in-family</td>\n",
       "      <td>White</td>\n",
       "      <td>Male</td>\n",
       "      <td>2174</td>\n",
       "      <td>0</td>\n",
       "      <td>40</td>\n",
       "      <td>United-States</td>\n",
       "      <td>&lt;=50K</td>\n",
       "    </tr>\n",
       "    <tr>\n",
       "      <th>1</th>\n",
       "      <td>50</td>\n",
       "      <td>Self-emp-not-inc</td>\n",
       "      <td>83311</td>\n",
       "      <td>Bachelors</td>\n",
       "      <td>13</td>\n",
       "      <td>Married-civ-spouse</td>\n",
       "      <td>Exec-managerial</td>\n",
       "      <td>Husband</td>\n",
       "      <td>White</td>\n",
       "      <td>Male</td>\n",
       "      <td>0</td>\n",
       "      <td>0</td>\n",
       "      <td>13</td>\n",
       "      <td>United-States</td>\n",
       "      <td>&lt;=50K</td>\n",
       "    </tr>\n",
       "    <tr>\n",
       "      <th>2</th>\n",
       "      <td>38</td>\n",
       "      <td>Private</td>\n",
       "      <td>215646</td>\n",
       "      <td>HS-grad</td>\n",
       "      <td>9</td>\n",
       "      <td>Divorced</td>\n",
       "      <td>Handlers-cleaners</td>\n",
       "      <td>Not-in-family</td>\n",
       "      <td>White</td>\n",
       "      <td>Male</td>\n",
       "      <td>0</td>\n",
       "      <td>0</td>\n",
       "      <td>40</td>\n",
       "      <td>United-States</td>\n",
       "      <td>&lt;=50K</td>\n",
       "    </tr>\n",
       "    <tr>\n",
       "      <th>3</th>\n",
       "      <td>53</td>\n",
       "      <td>Private</td>\n",
       "      <td>234721</td>\n",
       "      <td>11th</td>\n",
       "      <td>7</td>\n",
       "      <td>Married-civ-spouse</td>\n",
       "      <td>Handlers-cleaners</td>\n",
       "      <td>Husband</td>\n",
       "      <td>Black</td>\n",
       "      <td>Male</td>\n",
       "      <td>0</td>\n",
       "      <td>0</td>\n",
       "      <td>40</td>\n",
       "      <td>United-States</td>\n",
       "      <td>&lt;=50K</td>\n",
       "    </tr>\n",
       "    <tr>\n",
       "      <th>4</th>\n",
       "      <td>28</td>\n",
       "      <td>Private</td>\n",
       "      <td>338409</td>\n",
       "      <td>Bachelors</td>\n",
       "      <td>13</td>\n",
       "      <td>Married-civ-spouse</td>\n",
       "      <td>Prof-specialty</td>\n",
       "      <td>Wife</td>\n",
       "      <td>Black</td>\n",
       "      <td>Female</td>\n",
       "      <td>0</td>\n",
       "      <td>0</td>\n",
       "      <td>40</td>\n",
       "      <td>Cuba</td>\n",
       "      <td>&lt;=50K</td>\n",
       "    </tr>\n",
       "  </tbody>\n",
       "</table>\n",
       "</div>"
      ],
      "text/plain": [
       "   age          workclass  fnlwgt   education  education-num  \\\n",
       "0   39          State-gov   77516   Bachelors             13   \n",
       "1   50   Self-emp-not-inc   83311   Bachelors             13   \n",
       "2   38            Private  215646     HS-grad              9   \n",
       "3   53            Private  234721        11th              7   \n",
       "4   28            Private  338409   Bachelors             13   \n",
       "\n",
       "        marital-status          occupation    relationship    race      sex  \\\n",
       "0        Never-married        Adm-clerical   Not-in-family   White     Male   \n",
       "1   Married-civ-spouse     Exec-managerial         Husband   White     Male   \n",
       "2             Divorced   Handlers-cleaners   Not-in-family   White     Male   \n",
       "3   Married-civ-spouse   Handlers-cleaners         Husband   Black     Male   \n",
       "4   Married-civ-spouse      Prof-specialty            Wife   Black   Female   \n",
       "\n",
       "   capital-gain  capital-loss  hours-per-week  native-country  income  \n",
       "0          2174             0              40   United-States   <=50K  \n",
       "1             0             0              13   United-States   <=50K  \n",
       "2             0             0              40   United-States   <=50K  \n",
       "3             0             0              40   United-States   <=50K  \n",
       "4             0             0              40            Cuba   <=50K  "
      ]
     },
     "execution_count": 3,
     "metadata": {},
     "output_type": "execute_result"
    }
   ],
   "source": [
    "adult_data.head()"
   ]
  },
  {
   "cell_type": "code",
   "execution_count": 4,
   "metadata": {},
   "outputs": [
    {
     "data": {
      "text/plain": [
       "(32561, 15)"
      ]
     },
     "execution_count": 4,
     "metadata": {},
     "output_type": "execute_result"
    }
   ],
   "source": [
    "adult_data.shape"
   ]
  },
  {
   "cell_type": "code",
   "execution_count": 5,
   "metadata": {},
   "outputs": [
    {
     "name": "stdout",
     "output_type": "stream",
     "text": [
      "<class 'pandas.core.frame.DataFrame'>\n",
      "RangeIndex: 32561 entries, 0 to 32560\n",
      "Data columns (total 15 columns):\n",
      "age               32561 non-null int64\n",
      "workclass         32561 non-null object\n",
      "fnlwgt            32561 non-null int64\n",
      "education         32561 non-null object\n",
      "education-num     32561 non-null int64\n",
      "marital-status    32561 non-null object\n",
      "occupation        32561 non-null object\n",
      "relationship      32561 non-null object\n",
      "race              32561 non-null object\n",
      "sex               32561 non-null object\n",
      "capital-gain      32561 non-null int64\n",
      "capital-loss      32561 non-null int64\n",
      "hours-per-week    32561 non-null int64\n",
      "native-country    32561 non-null object\n",
      "income            32561 non-null object\n",
      "dtypes: int64(6), object(9)\n",
      "memory usage: 3.7+ MB\n"
     ]
    }
   ],
   "source": [
    "adult_data.info()"
   ]
  },
  {
   "cell_type": "code",
   "execution_count": 6,
   "metadata": {},
   "outputs": [],
   "source": [
    "#select les ligne <50k puis occupation avec unique idem >50k puis \n",
    "    #adult_data[adult_data['income']==' <=50K'].occupation.unique()\n",
    "    #adult_data[adult_data['income']==' >50K'].occupation.unique()"
   ]
  },
  {
   "cell_type": "markdown",
   "metadata": {},
   "source": [
    "La dataset contient  32561 lignes et 15 colonnes qui pour la suite pourraient se diviser ainsi : \n",
    "   - 6 variables sont numériques, les 9 autres sont catégorielles.\n",
    "   - 14 sont les features \n",
    "   - 1 la target. "
   ]
  },
  {
   "cell_type": "markdown",
   "metadata": {},
   "source": [
    "#### FEATURES\n",
    "- 'age',\n",
    "- 'workclass': Private, Self-emp-not-inc, Self-emp-inc, Federal-gov, Local-gov, State-gov, Without-pay, Never-worked.\n",
    "- 'fnlwgt': continuous.\n",
    "- 'education': Bachelors, Some-college, 11th, HS-grad, Prof-school, Assoc-acdm, Assoc-voc, 9th, 7th-8th, 12th, Masters, 1st-4th, 10th, Doctorate, 5th-6th, Preschool.\n",
    "- 'education-num': continuous.\n",
    "- 'marital-status': Married-civ-spouse, Divorced, Never-married, Separated, Widowed, Married-spouse-absent, Married-AF-spouse.\n",
    "- 'occupation': Tech-support, Craft-repair, Other-service, Sales, Exec-managerial, Prof-specialty, Handlers-cleaners, Machine-op-inspct, Adm-clerical, Farming-fishing, Transport-moving, Priv-house-serv, Protective-serv, Armed-Forces.\n",
    "- 'relationship': Wife, Own-child, Husband, Not-in-family, Other-relative, Unmarried.\n",
    "- 'race': White, Asian-Pac-Islander, Amer-Indian-Eskimo, Other, Black.\n",
    "- 'sex': Female, Male.\n",
    "- 'capital-gain': continuous.\n",
    "- 'capital-loss': continuous.\n",
    "- 'hours-per-week': continuous.\n",
    "- 'native-country': United-States, Cambodia, England, Puerto-Rico, Canada, Germany, Outlying-US(Guam-USVI-etc), India, Japan, Greece, South, China, Cuba, Iran, Honduras, Philippines, Italy, Poland, Jamaica, Vietnam, Mexico, Portugal, Ireland, France, Dominican-Republic, Laos, Ecuador, Taiwan, Haiti, Columbia, Hungary, Guatemala, Nicaragua, Scotland, Thailand, Yugoslavia, El-Salvador, Trinadad&Tobago, Peru, Hong, Holand-Netherlands.\n",
    "\n",
    "#### TARGET\n",
    "- 'income' : >50K, <=50K"
   ]
  },
  {
   "cell_type": "markdown",
   "metadata": {},
   "source": [
    "Après recherche, la variable \"fnlwgt\" représente le poids final, qui correspond au « nombre d'unités de la population cible représentées par l'unité répondante ». </br>\n",
    "\n",
    "La variable \"education_num\" correspond au nombre total d'années d'études, elle est la représentation numérique de la variable éducation. Je peux tout de même faire un table de corrélation pour confirmer cette info.</br>\n",
    "\n",
    "La variable \"relationship\" représente de la personne interrogée au sein de la famille. </br>\n",
    "\"capital_gain\" et \"capital_loss\" sont des revenus autres que le salaire.</br>\n",
    "\n",
    "Pour la suite du travail, on pourra supprimer la variable « education » puisque nous avons sa représentation numérique. Ce qui nous évitera pour cette variable de passer par l’étape get_dummies."
   ]
  },
  {
   "cell_type": "markdown",
   "metadata": {},
   "source": [
    "### Correlation des valeurs numériques \n",
    "Pour supprimer d'éventuelles colonnes qui auraient un effet sur le modèle."
   ]
  },
  {
   "cell_type": "code",
   "execution_count": 7,
   "metadata": {},
   "outputs": [
    {
     "data": {
      "image/png": "[encoded data removed]",
      "text/plain": [
       "<Figure size 648x504 with 2 Axes>"
      ]
     },
     "metadata": {
      "needs_background": "light"
     },
     "output_type": "display_data"
    }
   ],
   "source": [
    "import seaborn as sns\n",
    "import matplotlib.pyplot as plt\n",
    "\n",
    "adult_data_num = adult_data.select_dtypes(include=['int64'])\n",
    "adult_data_num_corr = adult_data_num.corr()\n",
    "\n",
    "# Set up the matplotlib figure\n",
    "fig, ax = plt.subplots(figsize=(9, 7))\n",
    "\n",
    "# Generate a custom diverging colormap #\n",
    "cmap=\"YlGnBu\"\n",
    "\n",
    "# Draw the heatmap with the mask and correct aspect ratio (mask=mask)\n",
    "ax = sns.heatmap(adult_data_num_corr, cmap=cmap, annot=True, annot_kws={\"size\": 10},square=True, linewidths=.5)"
   ]
  },
  {
   "cell_type": "markdown",
   "metadata": {},
   "source": [
    "Les variables les plus corrélées sont celles qui dans le graph ont un grand nombre de cases à la couleur très sombre. Ici, les variables numériques ne sont pas corrélées entre elles."
   ]
  },
  {
   "cell_type": "markdown",
   "metadata": {},
   "source": [
    "### La variable \"native-country\""
   ]
  },
  {
   "cell_type": "code",
   "execution_count": 8,
   "metadata": {},
   "outputs": [
    {
     "name": "stdout",
     "output_type": "stream",
     "text": [
      "Nb de pays: 42\n"
     ]
    },
    {
     "data": {
      "text/plain": [
       "(None,  United-States                 29170\n",
       "  Mexico                          643\n",
       "  ?                               583\n",
       "  Philippines                     198\n",
       "  Germany                         137\n",
       "  Canada                          121\n",
       "  Puerto-Rico                     114\n",
       "  El-Salvador                     106\n",
       "  India                           100\n",
       "  Cuba                             95\n",
       "  England                          90\n",
       "  Jamaica                          81\n",
       "  South                            80\n",
       "  China                            75\n",
       "  Italy                            73\n",
       "  Dominican-Republic               70\n",
       "  Vietnam                          67\n",
       "  Guatemala                        64\n",
       "  Japan                            62\n",
       "  Poland                           60\n",
       "  Columbia                         59\n",
       "  Taiwan                           51\n",
       "  Haiti                            44\n",
       "  Iran                             43\n",
       "  Portugal                         37\n",
       "  Nicaragua                        34\n",
       "  Peru                             31\n",
       "  France                           29\n",
       "  Greece                           29\n",
       "  Ecuador                          28\n",
       "  Ireland                          24\n",
       "  Hong                             20\n",
       "  Cambodia                         19\n",
       "  Trinadad&Tobago                  19\n",
       "  Laos                             18\n",
       "  Thailand                         18\n",
       "  Yugoslavia                       16\n",
       "  Outlying-US(Guam-USVI-etc)       14\n",
       "  Honduras                         13\n",
       "  Hungary                          13\n",
       "  Scotland                         12\n",
       "  Holand-Netherlands                1\n",
       " Name: native-country, dtype: int64)"
      ]
     },
     "execution_count": 8,
     "metadata": {},
     "output_type": "execute_result"
    }
   ],
   "source": [
    "print('Nb de pays:',adult_data['native-country'].value_counts().count()) ,adult_data['native-country'].value_counts()"
   ]
  },
  {
   "cell_type": "code",
   "execution_count": 9,
   "metadata": {},
   "outputs": [
    {
     "data": {
      "text/plain": [
       " United-States                 89.585701\n",
       " Mexico                         1.974755\n",
       " ?                              1.790486\n",
       " Philippines                    0.608089\n",
       " Germany                        0.420749\n",
       " Canada                         0.371610\n",
       " Puerto-Rico                    0.350112\n",
       " El-Salvador                    0.325543\n",
       " India                          0.307116\n",
       " Cuba                           0.291760\n",
       " England                        0.276404\n",
       " Jamaica                        0.248764\n",
       " South                          0.245693\n",
       " China                          0.230337\n",
       " Italy                          0.224195\n",
       " Dominican-Republic             0.214981\n",
       " Vietnam                        0.205768\n",
       " Guatemala                      0.196554\n",
       " Japan                          0.190412\n",
       " Poland                         0.184270\n",
       " Columbia                       0.181198\n",
       " Taiwan                         0.156629\n",
       " Haiti                          0.135131\n",
       " Iran                           0.132060\n",
       " Portugal                       0.113633\n",
       " Nicaragua                      0.104419\n",
       " Peru                           0.095206\n",
       " France                         0.089064\n",
       " Greece                         0.089064\n",
       " Ecuador                        0.085992\n",
       " Ireland                        0.073708\n",
       " Hong                           0.061423\n",
       " Cambodia                       0.058352\n",
       " Trinadad&Tobago                0.058352\n",
       " Laos                           0.055281\n",
       " Thailand                       0.055281\n",
       " Yugoslavia                     0.049139\n",
       " Outlying-US(Guam-USVI-etc)     0.042996\n",
       " Honduras                       0.039925\n",
       " Hungary                        0.039925\n",
       " Scotland                       0.036854\n",
       " Holand-Netherlands             0.003071\n",
       "Name: native-country, dtype: float64"
      ]
     },
     "execution_count": 9,
     "metadata": {},
     "output_type": "execute_result"
    }
   ],
   "source": [
    "adult_data['native-country'].value_counts()/len(adult_data)*100"
   ]
  },
  {
   "cell_type": "markdown",
   "metadata": {},
   "source": [
    "Pour ce qui est de la variable « Country », on compte 42 entrées : 40 pays,  1 'South'et 1 de type NC (« ? »).<br/>\n",
    "On peut pour cette colonne par exemple créer une nouvelle variable qui regrouperait les pays par continent dès lors que ce n’est pas les USA qui représentent 89,5% des répondants. <br/>Pour les lignes NC, je vais les supprimer. Ca fera 583 lignes en moins sur 32561. On travaillera donc avec 31898 lignes."
   ]
  },
  {
   "cell_type": "code",
   "execution_count": 10,
   "metadata": {},
   "outputs": [
    {
     "data": {
      "text/plain": [
       "array([' United-States', ' Cuba', ' Jamaica', ' India', ' ?', ' Mexico',\n",
       "       ' South', ' Puerto-Rico', ' Honduras', ' England', ' Canada',\n",
       "       ' Germany', ' Iran', ' Philippines', ' Italy', ' Poland',\n",
       "       ' Columbia', ' Cambodia', ' Thailand', ' Ecuador', ' Laos',\n",
       "       ' Taiwan', ' Haiti', ' Portugal', ' Dominican-Republic',\n",
       "       ' El-Salvador', ' France', ' Guatemala', ' China', ' Japan',\n",
       "       ' Yugoslavia', ' Peru', ' Outlying-US(Guam-USVI-etc)', ' Scotland',\n",
       "       ' Trinadad&Tobago', ' Greece', ' Nicaragua', ' Vietnam', ' Hong',\n",
       "       ' Ireland', ' Hungary', ' Holand-Netherlands'], dtype=object)"
      ]
     },
     "execution_count": 10,
     "metadata": {},
     "output_type": "execute_result"
    }
   ],
   "source": [
    "adult_data['native-country'].unique()"
   ]
  },
  {
   "cell_type": "code",
   "execution_count": 11,
   "metadata": {},
   "outputs": [
    {
     "data": {
      "text/plain": [
       " United-States    29170\n",
       "America            1536\n",
       "Asia                671\n",
       " ?                  583\n",
       "Europe              521\n",
       " South               80\n",
       "Name: group_country, dtype: int64"
      ]
     },
     "execution_count": 11,
     "metadata": {},
     "output_type": "execute_result"
    }
   ],
   "source": [
    "America=[' Cuba', ' Jamaica', ' Mexico',' Puerto-Rico', ' Honduras',' Canada',' Columbia',' Ecuador',' Haiti', ' Dominican-Republic',' Guatemala', ' Peru', ' Outlying-US(Guam-USVI-etc)', ' Trinadad&Tobago', ' Nicaragua',' El-Salvador']\n",
    "Asia = [' India',' Iran', ' Philippines',' Cambodia', ' Thailand',' Laos',' Taiwan', ' China', ' Japan',' Vietnam', ' Hong']\n",
    "Europe =[' England', ' Germany',' Italy', ' Poland',' Portugal',' France', ' Yugoslavia',' Scotland', ' Greece', ' Ireland', ' Hungary', ' Holand-Netherlands']\n",
    "adult_data = adult_data.assign(group_country=adult_data['native-country'].map(lambda x: 'America' if x in America else ('Asia' if x in Asia else ('Europe' if x in Europe else x))))\n",
    "adult_data['group_country'].value_counts()"
   ]
  },
  {
   "cell_type": "markdown",
   "metadata": {},
   "source": [
    "Je vais peux ensuite supprimer la colonne 'native-country' et les lignes contenant \"?\" et \"South\" dont on ne sait pas à quoi cela se réfère."
   ]
  },
  {
   "cell_type": "code",
   "execution_count": 12,
   "metadata": {},
   "outputs": [],
   "source": [
    "adult_data.drop(adult_data[adult_data['group_country'] ==' ?'].index, inplace = True )\n",
    "adult_data.drop(adult_data[adult_data['group_country'] ==' South'].index, inplace = True )\n"
   ]
  },
  {
   "cell_type": "code",
   "execution_count": 13,
   "metadata": {},
   "outputs": [
    {
     "data": {
      "text/plain": [
       " United-States    29170\n",
       "America            1536\n",
       "Asia                671\n",
       "Europe              521\n",
       "Name: group_country, dtype: int64"
      ]
     },
     "execution_count": 13,
     "metadata": {},
     "output_type": "execute_result"
    }
   ],
   "source": [
    "adult_data['group_country'].value_counts()"
   ]
  },
  {
   "cell_type": "code",
   "execution_count": 14,
   "metadata": {},
   "outputs": [],
   "source": [
    "adult_data.drop(columns = 'native-country',inplace = True)"
   ]
  },
  {
   "cell_type": "code",
   "execution_count": 15,
   "metadata": {},
   "outputs": [
    {
     "data": {
      "text/html": [
       "<div>\n",
       "<style scoped>\n",
       "    .dataframe tbody tr th:only-of-type {\n",
       "        vertical-align: middle;\n",
       "    }\n",
       "\n",
       "    .dataframe tbody tr th {\n",
       "        vertical-align: top;\n",
       "    }\n",
       "\n",
       "    .dataframe thead th {\n",
       "        text-align: right;\n",
       "    }\n",
       "</style>\n",
       "<table border=\"1\" class=\"dataframe\">\n",
       "  <thead>\n",
       "    <tr style=\"text-align: right;\">\n",
       "      <th></th>\n",
       "      <th>age</th>\n",
       "      <th>workclass</th>\n",
       "      <th>fnlwgt</th>\n",
       "      <th>education</th>\n",
       "      <th>education-num</th>\n",
       "      <th>marital-status</th>\n",
       "      <th>occupation</th>\n",
       "      <th>relationship</th>\n",
       "      <th>race</th>\n",
       "      <th>sex</th>\n",
       "      <th>capital-gain</th>\n",
       "      <th>capital-loss</th>\n",
       "      <th>hours-per-week</th>\n",
       "      <th>income</th>\n",
       "      <th>group_country</th>\n",
       "    </tr>\n",
       "  </thead>\n",
       "  <tbody>\n",
       "    <tr>\n",
       "      <th>0</th>\n",
       "      <td>39</td>\n",
       "      <td>State-gov</td>\n",
       "      <td>77516</td>\n",
       "      <td>Bachelors</td>\n",
       "      <td>13</td>\n",
       "      <td>Never-married</td>\n",
       "      <td>Adm-clerical</td>\n",
       "      <td>Not-in-family</td>\n",
       "      <td>White</td>\n",
       "      <td>Male</td>\n",
       "      <td>2174</td>\n",
       "      <td>0</td>\n",
       "      <td>40</td>\n",
       "      <td>&lt;=50K</td>\n",
       "      <td>United-States</td>\n",
       "    </tr>\n",
       "    <tr>\n",
       "      <th>1</th>\n",
       "      <td>50</td>\n",
       "      <td>Self-emp-not-inc</td>\n",
       "      <td>83311</td>\n",
       "      <td>Bachelors</td>\n",
       "      <td>13</td>\n",
       "      <td>Married-civ-spouse</td>\n",
       "      <td>Exec-managerial</td>\n",
       "      <td>Husband</td>\n",
       "      <td>White</td>\n",
       "      <td>Male</td>\n",
       "      <td>0</td>\n",
       "      <td>0</td>\n",
       "      <td>13</td>\n",
       "      <td>&lt;=50K</td>\n",
       "      <td>United-States</td>\n",
       "    </tr>\n",
       "    <tr>\n",
       "      <th>2</th>\n",
       "      <td>38</td>\n",
       "      <td>Private</td>\n",
       "      <td>215646</td>\n",
       "      <td>HS-grad</td>\n",
       "      <td>9</td>\n",
       "      <td>Divorced</td>\n",
       "      <td>Handlers-cleaners</td>\n",
       "      <td>Not-in-family</td>\n",
       "      <td>White</td>\n",
       "      <td>Male</td>\n",
       "      <td>0</td>\n",
       "      <td>0</td>\n",
       "      <td>40</td>\n",
       "      <td>&lt;=50K</td>\n",
       "      <td>United-States</td>\n",
       "    </tr>\n",
       "    <tr>\n",
       "      <th>3</th>\n",
       "      <td>53</td>\n",
       "      <td>Private</td>\n",
       "      <td>234721</td>\n",
       "      <td>11th</td>\n",
       "      <td>7</td>\n",
       "      <td>Married-civ-spouse</td>\n",
       "      <td>Handlers-cleaners</td>\n",
       "      <td>Husband</td>\n",
       "      <td>Black</td>\n",
       "      <td>Male</td>\n",
       "      <td>0</td>\n",
       "      <td>0</td>\n",
       "      <td>40</td>\n",
       "      <td>&lt;=50K</td>\n",
       "      <td>United-States</td>\n",
       "    </tr>\n",
       "    <tr>\n",
       "      <th>4</th>\n",
       "      <td>28</td>\n",
       "      <td>Private</td>\n",
       "      <td>338409</td>\n",
       "      <td>Bachelors</td>\n",
       "      <td>13</td>\n",
       "      <td>Married-civ-spouse</td>\n",
       "      <td>Prof-specialty</td>\n",
       "      <td>Wife</td>\n",
       "      <td>Black</td>\n",
       "      <td>Female</td>\n",
       "      <td>0</td>\n",
       "      <td>0</td>\n",
       "      <td>40</td>\n",
       "      <td>&lt;=50K</td>\n",
       "      <td>America</td>\n",
       "    </tr>\n",
       "  </tbody>\n",
       "</table>\n",
       "</div>"
      ],
      "text/plain": [
       "   age          workclass  fnlwgt   education  education-num  \\\n",
       "0   39          State-gov   77516   Bachelors             13   \n",
       "1   50   Self-emp-not-inc   83311   Bachelors             13   \n",
       "2   38            Private  215646     HS-grad              9   \n",
       "3   53            Private  234721        11th              7   \n",
       "4   28            Private  338409   Bachelors             13   \n",
       "\n",
       "        marital-status          occupation    relationship    race      sex  \\\n",
       "0        Never-married        Adm-clerical   Not-in-family   White     Male   \n",
       "1   Married-civ-spouse     Exec-managerial         Husband   White     Male   \n",
       "2             Divorced   Handlers-cleaners   Not-in-family   White     Male   \n",
       "3   Married-civ-spouse   Handlers-cleaners         Husband   Black     Male   \n",
       "4   Married-civ-spouse      Prof-specialty            Wife   Black   Female   \n",
       "\n",
       "   capital-gain  capital-loss  hours-per-week  income   group_country  \n",
       "0          2174             0              40   <=50K   United-States  \n",
       "1             0             0              13   <=50K   United-States  \n",
       "2             0             0              40   <=50K   United-States  \n",
       "3             0             0              40   <=50K   United-States  \n",
       "4             0             0              40   <=50K         America  "
      ]
     },
     "execution_count": 15,
     "metadata": {},
     "output_type": "execute_result"
    }
   ],
   "source": [
    "adult_data.head()"
   ]
  },
  {
   "cell_type": "code",
   "execution_count": 16,
   "metadata": {},
   "outputs": [],
   "source": [
    "### La variable 'fnlwgt'"
   ]
  },
  {
   "cell_type": "code",
   "execution_count": 17,
   "metadata": {},
   "outputs": [],
   "source": [
    "#adult_data['fnlwgt'].value_counts()"
   ]
  },
  {
   "cell_type": "code",
   "execution_count": 18,
   "metadata": {},
   "outputs": [],
   "source": [
    "#Pour la variable \"fnlwgt\", il y a 21648 valeurs différentes. Difficile d'y voir une utilité. Je vais donc supprimer cette colonne.\n"
   ]
  },
  {
   "cell_type": "code",
   "execution_count": 19,
   "metadata": {},
   "outputs": [],
   "source": [
    "#adult_data=adult_data.drop(columns = 'fnlwgt')"
   ]
  },
  {
   "cell_type": "code",
   "execution_count": 20,
   "metadata": {},
   "outputs": [],
   "source": [
    "#adult_data.head()"
   ]
  },
  {
   "cell_type": "code",
   "execution_count": 21,
   "metadata": {},
   "outputs": [
    {
     "data": {
      "text/plain": [
       "(31898, 15)"
      ]
     },
     "execution_count": 21,
     "metadata": {},
     "output_type": "execute_result"
    }
   ],
   "source": [
    "adult_data.shape"
   ]
  },
  {
   "cell_type": "markdown",
   "metadata": {},
   "source": [
    "### La variable : Income\n",
    "Je regarde la distribution de la Target."
   ]
  },
  {
   "cell_type": "code",
   "execution_count": 22,
   "metadata": {},
   "outputs": [
    {
     "name": "stdout",
     "output_type": "stream",
     "text": [
      "income\n",
      " <=50K    24219\n",
      " >50K      7679\n",
      "dtype: int64\n"
     ]
    }
   ],
   "source": [
    "print(adult_data.groupby('income').size())"
   ]
  },
  {
   "cell_type": "markdown",
   "metadata": {},
   "source": [
    "Je passe cette colonne en ordinal pour plus faciliter les calculs."
   ]
  },
  {
   "cell_type": "code",
   "execution_count": 23,
   "metadata": {},
   "outputs": [
    {
     "data": {
      "text/plain": [
       "0    24219\n",
       "1     7679\n",
       "Name: income_ordinal, dtype: int64"
      ]
     },
     "execution_count": 23,
     "metadata": {},
     "output_type": "execute_result"
    }
   ],
   "source": [
    "adult_data['income_ordinal'] = adult_data['income'].map(lambda x: 1 if x==' >50K' else 0)\n",
    "adult_data['income_ordinal'].value_counts()"
   ]
  },
  {
   "cell_type": "code",
   "execution_count": 24,
   "metadata": {},
   "outputs": [
    {
     "data": {
      "text/html": [
       "<div>\n",
       "<style scoped>\n",
       "    .dataframe tbody tr th:only-of-type {\n",
       "        vertical-align: middle;\n",
       "    }\n",
       "\n",
       "    .dataframe tbody tr th {\n",
       "        vertical-align: top;\n",
       "    }\n",
       "\n",
       "    .dataframe thead th {\n",
       "        text-align: right;\n",
       "    }\n",
       "</style>\n",
       "<table border=\"1\" class=\"dataframe\">\n",
       "  <thead>\n",
       "    <tr style=\"text-align: right;\">\n",
       "      <th></th>\n",
       "      <th>age</th>\n",
       "      <th>workclass</th>\n",
       "      <th>fnlwgt</th>\n",
       "      <th>education</th>\n",
       "      <th>education-num</th>\n",
       "      <th>marital-status</th>\n",
       "      <th>occupation</th>\n",
       "      <th>relationship</th>\n",
       "      <th>race</th>\n",
       "      <th>sex</th>\n",
       "      <th>capital-gain</th>\n",
       "      <th>capital-loss</th>\n",
       "      <th>hours-per-week</th>\n",
       "      <th>income</th>\n",
       "      <th>group_country</th>\n",
       "      <th>income_ordinal</th>\n",
       "    </tr>\n",
       "  </thead>\n",
       "  <tbody>\n",
       "    <tr>\n",
       "      <th>0</th>\n",
       "      <td>39</td>\n",
       "      <td>State-gov</td>\n",
       "      <td>77516</td>\n",
       "      <td>Bachelors</td>\n",
       "      <td>13</td>\n",
       "      <td>Never-married</td>\n",
       "      <td>Adm-clerical</td>\n",
       "      <td>Not-in-family</td>\n",
       "      <td>White</td>\n",
       "      <td>Male</td>\n",
       "      <td>2174</td>\n",
       "      <td>0</td>\n",
       "      <td>40</td>\n",
       "      <td>&lt;=50K</td>\n",
       "      <td>United-States</td>\n",
       "      <td>0</td>\n",
       "    </tr>\n",
       "    <tr>\n",
       "      <th>1</th>\n",
       "      <td>50</td>\n",
       "      <td>Self-emp-not-inc</td>\n",
       "      <td>83311</td>\n",
       "      <td>Bachelors</td>\n",
       "      <td>13</td>\n",
       "      <td>Married-civ-spouse</td>\n",
       "      <td>Exec-managerial</td>\n",
       "      <td>Husband</td>\n",
       "      <td>White</td>\n",
       "      <td>Male</td>\n",
       "      <td>0</td>\n",
       "      <td>0</td>\n",
       "      <td>13</td>\n",
       "      <td>&lt;=50K</td>\n",
       "      <td>United-States</td>\n",
       "      <td>0</td>\n",
       "    </tr>\n",
       "    <tr>\n",
       "      <th>2</th>\n",
       "      <td>38</td>\n",
       "      <td>Private</td>\n",
       "      <td>215646</td>\n",
       "      <td>HS-grad</td>\n",
       "      <td>9</td>\n",
       "      <td>Divorced</td>\n",
       "      <td>Handlers-cleaners</td>\n",
       "      <td>Not-in-family</td>\n",
       "      <td>White</td>\n",
       "      <td>Male</td>\n",
       "      <td>0</td>\n",
       "      <td>0</td>\n",
       "      <td>40</td>\n",
       "      <td>&lt;=50K</td>\n",
       "      <td>United-States</td>\n",
       "      <td>0</td>\n",
       "    </tr>\n",
       "    <tr>\n",
       "      <th>3</th>\n",
       "      <td>53</td>\n",
       "      <td>Private</td>\n",
       "      <td>234721</td>\n",
       "      <td>11th</td>\n",
       "      <td>7</td>\n",
       "      <td>Married-civ-spouse</td>\n",
       "      <td>Handlers-cleaners</td>\n",
       "      <td>Husband</td>\n",
       "      <td>Black</td>\n",
       "      <td>Male</td>\n",
       "      <td>0</td>\n",
       "      <td>0</td>\n",
       "      <td>40</td>\n",
       "      <td>&lt;=50K</td>\n",
       "      <td>United-States</td>\n",
       "      <td>0</td>\n",
       "    </tr>\n",
       "    <tr>\n",
       "      <th>4</th>\n",
       "      <td>28</td>\n",
       "      <td>Private</td>\n",
       "      <td>338409</td>\n",
       "      <td>Bachelors</td>\n",
       "      <td>13</td>\n",
       "      <td>Married-civ-spouse</td>\n",
       "      <td>Prof-specialty</td>\n",
       "      <td>Wife</td>\n",
       "      <td>Black</td>\n",
       "      <td>Female</td>\n",
       "      <td>0</td>\n",
       "      <td>0</td>\n",
       "      <td>40</td>\n",
       "      <td>&lt;=50K</td>\n",
       "      <td>America</td>\n",
       "      <td>0</td>\n",
       "    </tr>\n",
       "  </tbody>\n",
       "</table>\n",
       "</div>"
      ],
      "text/plain": [
       "   age          workclass  fnlwgt   education  education-num  \\\n",
       "0   39          State-gov   77516   Bachelors             13   \n",
       "1   50   Self-emp-not-inc   83311   Bachelors             13   \n",
       "2   38            Private  215646     HS-grad              9   \n",
       "3   53            Private  234721        11th              7   \n",
       "4   28            Private  338409   Bachelors             13   \n",
       "\n",
       "        marital-status          occupation    relationship    race      sex  \\\n",
       "0        Never-married        Adm-clerical   Not-in-family   White     Male   \n",
       "1   Married-civ-spouse     Exec-managerial         Husband   White     Male   \n",
       "2             Divorced   Handlers-cleaners   Not-in-family   White     Male   \n",
       "3   Married-civ-spouse   Handlers-cleaners         Husband   Black     Male   \n",
       "4   Married-civ-spouse      Prof-specialty            Wife   Black   Female   \n",
       "\n",
       "   capital-gain  capital-loss  hours-per-week  income   group_country  \\\n",
       "0          2174             0              40   <=50K   United-States   \n",
       "1             0             0              13   <=50K   United-States   \n",
       "2             0             0              40   <=50K   United-States   \n",
       "3             0             0              40   <=50K   United-States   \n",
       "4             0             0              40   <=50K         America   \n",
       "\n",
       "   income_ordinal  \n",
       "0               0  \n",
       "1               0  \n",
       "2               0  \n",
       "3               0  \n",
       "4               0  "
      ]
     },
     "execution_count": 24,
     "metadata": {},
     "output_type": "execute_result"
    }
   ],
   "source": [
    "adult_data.head()"
   ]
  },
  {
   "cell_type": "markdown",
   "metadata": {},
   "source": [
    "### Les valeurs manquantes"
   ]
  },
  {
   "cell_type": "markdown",
   "metadata": {},
   "source": [
    "Pour les autres variables, je n'ai rien vu de particulier. Mis à part qu'il faudra vérifier s'il n'y a pas de valeurs manquantes.\n"
   ]
  },
  {
   "cell_type": "code",
   "execution_count": 25,
   "metadata": {},
   "outputs": [
    {
     "data": {
      "text/plain": [
       "0"
      ]
     },
     "execution_count": 25,
     "metadata": {},
     "output_type": "execute_result"
    }
   ],
   "source": [
    "adult_data.isna().sum().sum()"
   ]
  },
  {
   "cell_type": "markdown",
   "metadata": {},
   "source": [
    "Il n'y a pas de valeurs manquantes. Je peux passer à la partie ML"
   ]
  },
  {
   "cell_type": "markdown",
   "metadata": {},
   "source": [
    "## ML "
   ]
  },
  {
   "cell_type": "markdown",
   "metadata": {},
   "source": [
    "Je sépare les variables en Features et Target"
   ]
  },
  {
   "cell_type": "code",
   "execution_count": 26,
   "metadata": {},
   "outputs": [],
   "source": [
    "# y pour la Target\n",
    "y= adult_data[\"income_ordinal\"]\n",
    "\n",
    "# X pour les Features\n",
    "X=adult_data.drop(columns=['income_ordinal','income'])"
   ]
  },
  {
   "cell_type": "markdown",
   "metadata": {},
   "source": [
    "Je peux maintenant créer des variables ordinales depuis les variables catégorielles pour les Features."
   ]
  },
  {
   "cell_type": "code",
   "execution_count": 27,
   "metadata": {},
   "outputs": [
    {
     "data": {
      "text/html": [
       "<div>\n",
       "<style scoped>\n",
       "    .dataframe tbody tr th:only-of-type {\n",
       "        vertical-align: middle;\n",
       "    }\n",
       "\n",
       "    .dataframe tbody tr th {\n",
       "        vertical-align: top;\n",
       "    }\n",
       "\n",
       "    .dataframe thead th {\n",
       "        text-align: right;\n",
       "    }\n",
       "</style>\n",
       "<table border=\"1\" class=\"dataframe\">\n",
       "  <thead>\n",
       "    <tr style=\"text-align: right;\">\n",
       "      <th></th>\n",
       "      <th>age</th>\n",
       "      <th>fnlwgt</th>\n",
       "      <th>education-num</th>\n",
       "      <th>capital-gain</th>\n",
       "      <th>capital-loss</th>\n",
       "      <th>hours-per-week</th>\n",
       "      <th>workclass_ ?</th>\n",
       "      <th>workclass_ Federal-gov</th>\n",
       "      <th>workclass_ Local-gov</th>\n",
       "      <th>workclass_ Never-worked</th>\n",
       "      <th>...</th>\n",
       "      <th>race_ Asian-Pac-Islander</th>\n",
       "      <th>race_ Black</th>\n",
       "      <th>race_ Other</th>\n",
       "      <th>race_ White</th>\n",
       "      <th>sex_ Female</th>\n",
       "      <th>sex_ Male</th>\n",
       "      <th>group_country_ United-States</th>\n",
       "      <th>group_country_America</th>\n",
       "      <th>group_country_Asia</th>\n",
       "      <th>group_country_Europe</th>\n",
       "    </tr>\n",
       "  </thead>\n",
       "  <tbody>\n",
       "    <tr>\n",
       "      <th>0</th>\n",
       "      <td>39</td>\n",
       "      <td>77516</td>\n",
       "      <td>13</td>\n",
       "      <td>2174</td>\n",
       "      <td>0</td>\n",
       "      <td>40</td>\n",
       "      <td>0</td>\n",
       "      <td>0</td>\n",
       "      <td>0</td>\n",
       "      <td>0</td>\n",
       "      <td>...</td>\n",
       "      <td>0</td>\n",
       "      <td>0</td>\n",
       "      <td>0</td>\n",
       "      <td>1</td>\n",
       "      <td>0</td>\n",
       "      <td>1</td>\n",
       "      <td>1</td>\n",
       "      <td>0</td>\n",
       "      <td>0</td>\n",
       "      <td>0</td>\n",
       "    </tr>\n",
       "    <tr>\n",
       "      <th>1</th>\n",
       "      <td>50</td>\n",
       "      <td>83311</td>\n",
       "      <td>13</td>\n",
       "      <td>0</td>\n",
       "      <td>0</td>\n",
       "      <td>13</td>\n",
       "      <td>0</td>\n",
       "      <td>0</td>\n",
       "      <td>0</td>\n",
       "      <td>0</td>\n",
       "      <td>...</td>\n",
       "      <td>0</td>\n",
       "      <td>0</td>\n",
       "      <td>0</td>\n",
       "      <td>1</td>\n",
       "      <td>0</td>\n",
       "      <td>1</td>\n",
       "      <td>1</td>\n",
       "      <td>0</td>\n",
       "      <td>0</td>\n",
       "      <td>0</td>\n",
       "    </tr>\n",
       "    <tr>\n",
       "      <th>2</th>\n",
       "      <td>38</td>\n",
       "      <td>215646</td>\n",
       "      <td>9</td>\n",
       "      <td>0</td>\n",
       "      <td>0</td>\n",
       "      <td>40</td>\n",
       "      <td>0</td>\n",
       "      <td>0</td>\n",
       "      <td>0</td>\n",
       "      <td>0</td>\n",
       "      <td>...</td>\n",
       "      <td>0</td>\n",
       "      <td>0</td>\n",
       "      <td>0</td>\n",
       "      <td>1</td>\n",
       "      <td>0</td>\n",
       "      <td>1</td>\n",
       "      <td>1</td>\n",
       "      <td>0</td>\n",
       "      <td>0</td>\n",
       "      <td>0</td>\n",
       "    </tr>\n",
       "    <tr>\n",
       "      <th>3</th>\n",
       "      <td>53</td>\n",
       "      <td>234721</td>\n",
       "      <td>7</td>\n",
       "      <td>0</td>\n",
       "      <td>0</td>\n",
       "      <td>40</td>\n",
       "      <td>0</td>\n",
       "      <td>0</td>\n",
       "      <td>0</td>\n",
       "      <td>0</td>\n",
       "      <td>...</td>\n",
       "      <td>0</td>\n",
       "      <td>1</td>\n",
       "      <td>0</td>\n",
       "      <td>0</td>\n",
       "      <td>0</td>\n",
       "      <td>1</td>\n",
       "      <td>1</td>\n",
       "      <td>0</td>\n",
       "      <td>0</td>\n",
       "      <td>0</td>\n",
       "    </tr>\n",
       "    <tr>\n",
       "      <th>4</th>\n",
       "      <td>28</td>\n",
       "      <td>338409</td>\n",
       "      <td>13</td>\n",
       "      <td>0</td>\n",
       "      <td>0</td>\n",
       "      <td>40</td>\n",
       "      <td>0</td>\n",
       "      <td>0</td>\n",
       "      <td>0</td>\n",
       "      <td>0</td>\n",
       "      <td>...</td>\n",
       "      <td>0</td>\n",
       "      <td>1</td>\n",
       "      <td>0</td>\n",
       "      <td>0</td>\n",
       "      <td>1</td>\n",
       "      <td>0</td>\n",
       "      <td>0</td>\n",
       "      <td>1</td>\n",
       "      <td>0</td>\n",
       "      <td>0</td>\n",
       "    </tr>\n",
       "  </tbody>\n",
       "</table>\n",
       "<p>5 rows × 70 columns</p>\n",
       "</div>"
      ],
      "text/plain": [
       "   age  fnlwgt  education-num  capital-gain  capital-loss  hours-per-week  \\\n",
       "0   39   77516             13          2174             0              40   \n",
       "1   50   83311             13             0             0              13   \n",
       "2   38  215646              9             0             0              40   \n",
       "3   53  234721              7             0             0              40   \n",
       "4   28  338409             13             0             0              40   \n",
       "\n",
       "   workclass_ ?  workclass_ Federal-gov  workclass_ Local-gov  \\\n",
       "0             0                       0                     0   \n",
       "1             0                       0                     0   \n",
       "2             0                       0                     0   \n",
       "3             0                       0                     0   \n",
       "4             0                       0                     0   \n",
       "\n",
       "   workclass_ Never-worked  ...  race_ Asian-Pac-Islander  race_ Black  \\\n",
       "0                        0  ...                         0            0   \n",
       "1                        0  ...                         0            0   \n",
       "2                        0  ...                         0            0   \n",
       "3                        0  ...                         0            1   \n",
       "4                        0  ...                         0            1   \n",
       "\n",
       "   race_ Other  race_ White  sex_ Female  sex_ Male  \\\n",
       "0            0            1            0          1   \n",
       "1            0            1            0          1   \n",
       "2            0            1            0          1   \n",
       "3            0            0            0          1   \n",
       "4            0            0            1          0   \n",
       "\n",
       "   group_country_ United-States  group_country_America  group_country_Asia  \\\n",
       "0                             1                      0                   0   \n",
       "1                             1                      0                   0   \n",
       "2                             1                      0                   0   \n",
       "3                             1                      0                   0   \n",
       "4                             0                      1                   0   \n",
       "\n",
       "   group_country_Europe  \n",
       "0                     0  \n",
       "1                     0  \n",
       "2                     0  \n",
       "3                     0  \n",
       "4                     0  \n",
       "\n",
       "[5 rows x 70 columns]"
      ]
     },
     "execution_count": 27,
     "metadata": {},
     "output_type": "execute_result"
    }
   ],
   "source": [
    "X = pd.get_dummies(X)\n",
    "X.head()"
   ]
  },
  {
   "cell_type": "markdown",
   "metadata": {},
   "source": [
    "### 1. Split des données en training (80%) et testing (20%) .\n",
    "Je réalise un split classique de type 80% pour le training et 20% pour le test."
   ]
  },
  {
   "cell_type": "code",
   "execution_count": 28,
   "metadata": {},
   "outputs": [
    {
     "data": {
      "text/plain": [
       "((25518, 70), (6380, 70), (25518,), (6380,))"
      ]
     },
     "execution_count": 28,
     "metadata": {},
     "output_type": "execute_result"
    }
   ],
   "source": [
    "from sklearn.model_selection import train_test_split\n",
    "\n",
    "X_train, X_test, y_train, y_test = train_test_split(X,y ,train_size=0.80, test_size=0.20)\n",
    "\n",
    "X_train.shape, X_test.shape, y_train.shape, y_test.shape"
   ]
  },
  {
   "cell_type": "markdown",
   "metadata": {},
   "source": [
    "## 2. Sélection du modèle via la Cross-Validation\n",
    "\n",
    "Je décide de passer par la méthode de cross-validation pour choisir mon modèle de prédiction. <br/>\n",
    "\n",
    "La validation croisée en français est une méthode qui permet d'estimer les performances de généralisation de plusieurs modèles à partir de l’ensemble d’apprentissage. Cette estimation pourra être comparée à l’estimation obtenue sur l’ensemble de test mis de côté au départ. <br/>\n",
    "\n",
    "La cross validation consiste à recommencer sur plusieurs découpages train/test différents du jeu de données initial de manière à s’assurer que la prédiction est stable et éviter d'overfitting."
   ]
  },
  {
   "cell_type": "code",
   "execution_count": 29,
   "metadata": {},
   "outputs": [
    {
     "name": "stdout",
     "output_type": "stream",
     "text": [
      "Liste des scores existants dans le module sklearn:\n",
      "\n",
      " dict_keys(['explained_variance', 'r2', 'max_error', 'neg_median_absolute_error', 'neg_mean_absolute_error', 'neg_mean_squared_error', 'neg_mean_squared_log_error', 'accuracy', 'roc_auc', 'balanced_accuracy', 'average_precision', 'neg_log_loss', 'brier_score_loss', 'adjusted_rand_score', 'homogeneity_score', 'completeness_score', 'v_measure_score', 'mutual_info_score', 'adjusted_mutual_info_score', 'normalized_mutual_info_score', 'fowlkes_mallows_score', 'precision', 'precision_macro', 'precision_micro', 'precision_samples', 'precision_weighted', 'recall', 'recall_macro', 'recall_micro', 'recall_samples', 'recall_weighted', 'f1', 'f1_macro', 'f1_micro', 'f1_samples', 'f1_weighted', 'jaccard', 'jaccard_macro', 'jaccard_micro', 'jaccard_samples', 'jaccard_weighted'])\n"
     ]
    }
   ],
   "source": [
    "from sklearn.model_selection import cross_val_score\n",
    "from sklearn import metrics\n",
    "\n",
    "print('Liste des scores existants dans le module sklearn:\\n\\n',metrics.SCORERS.keys())"
   ]
  },
  {
   "cell_type": "markdown",
   "metadata": {},
   "source": [
    "Le score de comparaison que je choisis est l'`Accuracy` : nb de bonnes predictions (TP) sur l'ensemble de prédiction supposées positives .<br/>\n",
    "Je vais tester les modèles suivant :`LogisticRegression`, `DecisionTreeClassifier`, et `KNeighborsClassifier`. <br/>\n",
    "Dans un 1er temps, je crée mes instances."
   ]
  },
  {
   "cell_type": "code",
   "execution_count": 30,
   "metadata": {},
   "outputs": [],
   "source": [
    "#rf_class = RandomForestClassifier(n_estimators=100, max_depth=2,random_state=0) \n",
    "#log_class = LogisticRegression()\n",
    "#knn_class = KNeighborsClassifier(n_neighbors=3)\n",
    "#dtc_class = DecisionTreeClassifier()"
   ]
  },
  {
   "cell_type": "code",
   "execution_count": 31,
   "metadata": {},
   "outputs": [
    {
     "name": "stdout",
     "output_type": "stream",
     "text": [
      "Rf:\n",
      "[0.77007442 0.76841693 0.77233542 0.77037618 0.77311912 0.77076803\n",
      " 0.77194357 0.76715014 0.77107017 0.77224618]\n",
      "Accuracy of Random Forest is:  77.07500153629108\n",
      "\n",
      "\n",
      "Log:\n"
     ]
    },
    {
     "name": "stderr",
     "output_type": "stream",
     "text": [
      "/usr/local/lib/python3.7/site-packages/sklearn/linear_model/logistic.py:432: FutureWarning: Default solver will be changed to 'lbfgs' in 0.22. Specify a solver to silence this warning.\n",
      "  FutureWarning)\n",
      "/usr/local/lib/python3.7/site-packages/sklearn/linear_model/logistic.py:432: FutureWarning: Default solver will be changed to 'lbfgs' in 0.22. Specify a solver to silence this warning.\n",
      "  FutureWarning)\n",
      "/usr/local/lib/python3.7/site-packages/sklearn/linear_model/logistic.py:432: FutureWarning: Default solver will be changed to 'lbfgs' in 0.22. Specify a solver to silence this warning.\n",
      "  FutureWarning)\n",
      "/usr/local/lib/python3.7/site-packages/sklearn/linear_model/logistic.py:432: FutureWarning: Default solver will be changed to 'lbfgs' in 0.22. Specify a solver to silence this warning.\n",
      "  FutureWarning)\n",
      "/usr/local/lib/python3.7/site-packages/sklearn/linear_model/logistic.py:432: FutureWarning: Default solver will be changed to 'lbfgs' in 0.22. Specify a solver to silence this warning.\n",
      "  FutureWarning)\n",
      "/usr/local/lib/python3.7/site-packages/sklearn/linear_model/logistic.py:432: FutureWarning: Default solver will be changed to 'lbfgs' in 0.22. Specify a solver to silence this warning.\n",
      "  FutureWarning)\n",
      "/usr/local/lib/python3.7/site-packages/sklearn/linear_model/logistic.py:432: FutureWarning: Default solver will be changed to 'lbfgs' in 0.22. Specify a solver to silence this warning.\n",
      "  FutureWarning)\n",
      "/usr/local/lib/python3.7/site-packages/sklearn/linear_model/logistic.py:432: FutureWarning: Default solver will be changed to 'lbfgs' in 0.22. Specify a solver to silence this warning.\n",
      "  FutureWarning)\n",
      "/usr/local/lib/python3.7/site-packages/sklearn/linear_model/logistic.py:432: FutureWarning: Default solver will be changed to 'lbfgs' in 0.22. Specify a solver to silence this warning.\n",
      "  FutureWarning)\n",
      "/usr/local/lib/python3.7/site-packages/sklearn/linear_model/logistic.py:432: FutureWarning: Default solver will be changed to 'lbfgs' in 0.22. Specify a solver to silence this warning.\n",
      "  FutureWarning)\n"
     ]
    },
    {
     "name": "stdout",
     "output_type": "stream",
     "text": [
      "[0.79788484 0.79702194 0.80564263 0.79898119 0.79937304 0.78526646\n",
      " 0.80054859 0.78361427 0.79772638 0.78949432]\n",
      "Accuracy of LogisticRegression is:  79.5555366384221\n",
      "\n",
      "\n",
      "K Neighbors:\n",
      "[0.76733255 0.75979624 0.75       0.76097179 0.75039185 0.74882445\n",
      " 0.75862069 0.74402195 0.75147001 0.76127009]\n",
      "Accuracy of K Neighbors is:  75.5269961971166\n",
      "\n",
      "\n",
      "Decision Tree:\n",
      "[0.80611046 0.81504702 0.82210031 0.81191223 0.81426332 0.81974922\n",
      " 0.81974922 0.80674245 0.8122305  0.81889455]\n",
      "Accuracy of Decision Tree is:  81.46799277838814\n"
     ]
    }
   ],
   "source": [
    "from sklearn.linear_model import LogisticRegression\n",
    "from sklearn.tree import DecisionTreeClassifier\n",
    "from sklearn.neighbors import KNeighborsClassifier\n",
    "from sklearn.ensemble import RandomForestClassifier \n",
    "\n",
    "print(\"Rf:\")\n",
    "accuracy = cross_val_score(RandomForestClassifier(n_estimators=100, max_depth=2,random_state=0), X_train, y_train, scoring='accuracy', cv = 10)\n",
    "print(accuracy)\n",
    "print(\"Accuracy of Random Forest is: \" , accuracy.mean()*100)\n",
    "\n",
    "print(\"\\n\\nLog:\")\n",
    "#print(cross_val_score(log_class, X_train, y_train, scoring='accuracy', cv = 10))\n",
    "accuracy = cross_val_score(LogisticRegression(), X_train, y_train, scoring='accuracy', cv = 10)\n",
    "print(accuracy)\n",
    "print(\"Accuracy of LogisticRegression is: \" , accuracy.mean()*100)\n",
    "\n",
    "print(\"\\n\\nK Neighbors:\")\n",
    "#print(cross_val_score(knn_class, X_train, y_train, scoring='accuracy', cv = 10))\n",
    "accuracy = cross_val_score(KNeighborsClassifier(n_neighbors=3), X_train, y_train, scoring='accuracy', cv = 10)\n",
    "print(accuracy)\n",
    "print(\"Accuracy of K Neighbors is: \" , accuracy.mean()*100)\n",
    " \n",
    "print(\"\\n\\nDecision Tree:\")\n",
    "#print(cross_val_score(dtc_class, X_train, y_train, scoring='accuracy', cv = 10))\n",
    "accuracy = cross_val_score(DecisionTreeClassifier(),X_train, y_train, scoring='accuracy', cv = 10)\n",
    "print(accuracy)\n",
    "print(\"Accuracy of Decision Tree is: \" , accuracy.mean()*100)\n",
    " \n"
   ]
  },
  {
   "cell_type": "markdown",
   "metadata": {},
   "source": [
    "Au regarde des scores le modèle le plus probant est celui du `Decision Tree`."
   ]
  },
  {
   "cell_type": "markdown",
   "metadata": {},
   "source": [
    "## 3. Travail avec le modèle de `Decision Tree`\n",
    "En tenant compte du nombre de lignes.\n",
    "faire un value counts sur le données originel pour voir la répartition des classes (positve:négatif)\n",
    "cela permet de déduire la paramètre de CV pour bien faire apprendre le modele"
   ]
  },
  {
   "cell_type": "code",
   "execution_count": 32,
   "metadata": {},
   "outputs": [],
   "source": [
    "dtc_class = DecisionTreeClassifier()\n",
    "\n",
    "# fitting the model\n",
    "dtc_class.fit(X_train, y_train)\n",
    "\n",
    "# predict the response\n",
    "y_test_predict_dtc = dtc_class.predict(X_test)"
   ]
  },
  {
   "cell_type": "code",
   "execution_count": 33,
   "metadata": {},
   "outputs": [
    {
     "name": "stdout",
     "output_type": "stream",
     "text": [
      "\n",
      "confusion_matrix:\n",
      " [[4207  651]\n",
      " [ 525  997]]\n"
     ]
    }
   ],
   "source": [
    "from sklearn.metrics import confusion_matrix\n",
    "\n",
    "# Confusion_matrix\n",
    "confusion_matrix_dtc = confusion_matrix(y_test, y_test_predict_dtc)\n",
    "print('\\nconfusion_matrix:\\n', confusion_matrix_dtc)"
   ]
  },
  {
   "cell_type": "code",
   "execution_count": 34,
   "metadata": {},
   "outputs": [
    {
     "name": "stdout",
     "output_type": "stream",
     "text": [
      "\n",
      "Feature_importances:\n",
      " {'age': 0.11452571642579569, 'workclass': 0.18611777632681986, 'fnlwgt': 0.11718879685998557, 'education': 0.10142321736376385, 'education-num': 0.037060999060930855, 'marital-status': 0.06528046862272631, 'occupation': 0.0013890000349502899, 'relationship': 0.004649660205044194, 'race': 0.006711965028027722, 'sex': 0.0, 'capital-gain': 0.006939071759611725, 'capital-loss': 0.005970287966109128, 'hours-per-week': 0.009232205014547922, 'income': 0.004813286397852426, 'group_country': 0.0, 'income_ordinal': 0.0005442169870020567}\n"
     ]
    }
   ],
   "source": [
    "print('\\nFeature_importances:\\n', dict(zip(adult_data.columns,dtc_class.fit(X_train, y_train).feature_importances_)))"
   ]
  },
  {
   "cell_type": "code",
   "execution_count": 35,
   "metadata": {},
   "outputs": [],
   "source": [
    "#from sklearn import tree\n",
    "\n",
    "#tree.plot_tree(dtc_class, feature_names=X_train.columns, class_names=[\"<50k\",\">50k\"] ) \n",
    "\n",
    "#plt.show()"
   ]
  },
  {
   "cell_type": "markdown",
   "metadata": {},
   "source": [
    "## A faire en comparaison au train set\n",
    "#### Evaluation de la performance\n",
    "\n",
    "analyse d'erreur ce qui a tété fait et pourquoi , dessiner l'arbre de decision le feature importance, PCA et colorier ce qui a été prédit et la réalité. "
   ]
  },
  {
   "cell_type": "code",
   "execution_count": 36,
   "metadata": {},
   "outputs": [
    {
     "name": "stdout",
     "output_type": "stream",
     "text": [
      "Accuracy: 81.57\n",
      "Balanced Accuracy: 76.05\n",
      "Precision: 60.5\n",
      "Recall: 65.51\n",
      "F1 score: [87.73722628 62.9022082 ]\n"
     ]
    }
   ],
   "source": [
    "print(\"Accuracy:\",round(metrics.accuracy_score(y_test, y_test_predict_dtc)*100,2))\n",
    "print(\"Balanced Accuracy:\",round(metrics.balanced_accuracy_score(y_test, y_test_predict_dtc)*100,2))\n",
    "print(\"Precision:\",round(metrics.precision_score(y_test, y_test_predict_dtc)*100,2))\n",
    "print(\"Recall:\",round(metrics.recall_score(y_test, y_test_predict_dtc)*100,2))\n",
    "print(\"F1 score:\",metrics.f1_score(y_test, y_test_predict_dtc, average=None)*100)"
   ]
  },
  {
   "cell_type": "code",
   "execution_count": 37,
   "metadata": {},
   "outputs": [
    {
     "data": {
      "image/png": "[encoded data removed]",
      "text/plain": [
       "<Figure size 432x288 with 1 Axes>"
      ]
     },
     "metadata": {
      "needs_background": "light"
     },
     "output_type": "display_data"
    }
   ],
   "source": [
    "\n",
    "#dtc_class.predict(X_test)\n",
    "y_pred_proba = dtc_class.predict_proba(X_test)[::,1]\n",
    "fpr, tpr, _ = metrics.roc_curve(y_test,  y_pred_proba)\n",
    "auc = metrics.roc_auc_score(y_test, y_pred_proba)\n",
    "plt.plot(fpr,tpr,label=\"data 1, auc=\"+str(auc))\n",
    "plt.legend(loc=4)\n",
    "plt.show()"
   ]
  },
  {
   "cell_type": "markdown",
   "metadata": {},
   "source": [
    "## grid search\n",
    "    1) established the parameters to gris-search. it is important  to note that these parameters change depending on what type of model we are building. Be sure to look up the model specific documentation for parameter explanation. \n",
    "    2) Running the grid search. this step may take a long time to run depending on the data and number of parameters.\n",
    "    3) Setting up the grid-serach. note how the parameter are wrapped within a dictionary\n",
    "    4) fitting the grid to the data\n",
    "    5) Depending on the designed parameter for measuring the model, will print the best score throughout the Grid Search\n",
    "    6) Print the best parameters used for the highest score of the model\n",
    "    \n",
    "    <a>https://scikit-learn.org/stable/modules/generated/sklearn.model_selection.GridSearchCV.html#sklearn.model_selection.GridSearchCV</a>\n",
    "    \n",
    "    <a>https://medium.com/@elutins/grid-searching-in-machine-learning-quick-explanation-and-python-implementation-550552200596</a>"
   ]
  },
  {
   "cell_type": "code",
   "execution_count": 38,
   "metadata": {},
   "outputs": [],
   "source": [
    "from sklearn.model_selection import GridSearchCV\n",
    "\n",
    "model = DecisionTreeClassifier()\n",
    "\n",
    "criterion=['gini','entropy']\n",
    "max_depth=[1,3,5,None]\n",
    "splitter=['best','random']\n",
    "\n",
    "grid = GridSearchCV(estimator=model, cv=5, param_grid=dict(criterion=criterion,max_depth=max_depth,splitter=splitter))"
   ]
  },
  {
   "cell_type": "code",
   "execution_count": 39,
   "metadata": {},
   "outputs": [
    {
     "data": {
      "text/plain": [
       "GridSearchCV(cv=5, error_score='raise-deprecating',\n",
       "             estimator=DecisionTreeClassifier(class_weight=None,\n",
       "                                              criterion='gini', max_depth=None,\n",
       "                                              max_features=None,\n",
       "                                              max_leaf_nodes=None,\n",
       "                                              min_impurity_decrease=0.0,\n",
       "                                              min_impurity_split=None,\n",
       "                                              min_samples_leaf=1,\n",
       "                                              min_samples_split=2,\n",
       "                                              min_weight_fraction_leaf=0.0,\n",
       "                                              presort=False, random_state=None,\n",
       "                                              splitter='best'),\n",
       "             iid='warn', n_jobs=None,\n",
       "             param_grid={'criterion': ['gini', 'entropy'],\n",
       "                         'max_depth': [1, 3, 5, None],\n",
       "                         'splitter': ['best', 'random']},\n",
       "             pre_dispatch='2*n_jobs', refit=True, return_train_score=False,\n",
       "             scoring=None, verbose=0)"
      ]
     },
     "execution_count": 39,
     "metadata": {},
     "output_type": "execute_result"
    }
   ],
   "source": [
    "grid.fit(X_train,y_train)"
   ]
  },
  {
   "cell_type": "code",
   "execution_count": 40,
   "metadata": {},
   "outputs": [
    {
     "name": "stdout",
     "output_type": "stream",
     "text": [
      "0.8512422603652324\n",
      "{'criterion': 'gini', 'max_depth': 5, 'splitter': 'best'}\n"
     ]
    }
   ],
   "source": [
    "print(grid.best_score_)\n",
    "print(grid.best_params_)"
   ]
  },
  {
   "cell_type": "code",
   "execution_count": 41,
   "metadata": {},
   "outputs": [
    {
     "data": {
      "text/plain": [
       "\"from sklearn.model_selection import GridSearchCV\\ncvgrid = GridSearchCV(estimator=knn, param_grid={},\\n               scoring=dict(r2=make_scorer(r2_score), e2=make_scorer(mean_squared_error)),\\n               return_train_score=False, refit='r2',\\n               cv=StratifiedKFold(n_splits=5, random_state=int(perf_counter ()*100), shuffle=True))\\n\""
      ]
     },
     "execution_count": 41,
     "metadata": {},
     "output_type": "execute_result"
    }
   ],
   "source": [
    "\"\"\"from sklearn.model_selection import GridSearchCV\n",
    "cvgrid = GridSearchCV(estimator=knn, param_grid={},\n",
    "               scoring=dict(r2=make_scorer(r2_score), e2=make_scorer(mean_squared_error)),\n",
    "               return_train_score=False, refit='r2',\n",
    "               cv=StratifiedKFold(n_splits=5, random_state=int(perf_counter ()*100), shuffle=True))\n",
    "\"\"\""
   ]
  },
  {
   "cell_type": "markdown",
   "metadata": {},
   "source": [
    "## Je travaille avec le modèle retenu par la cross validation : Decision tree en intégrant les paramètres retenus par la méthode du Grid-search.\n",
    "\n",
    "# faire la comparaison des metrics avec le predict hors super paramètres\n"
   ]
  },
  {
   "cell_type": "code",
   "execution_count": 42,
   "metadata": {},
   "outputs": [
    {
     "name": "stdout",
     "output_type": "stream",
     "text": [
      "\n",
      "confusion_matrix:\n",
      " [[4217  641]\n",
      " [ 530  992]]\n",
      "\n",
      "Feature_importances:\n",
      " {'age': 0.11206415002612218, 'workclass': 0.18857059560740855, 'fnlwgt': 0.11789167645889123, 'education': 0.10114287426735033, 'education-num': 0.03594159966024086, 'marital-status': 0.06569345067553896, 'occupation': 0.0016991622119489258, 'relationship': 0.005218927427671508, 'race': 0.005427530564439119, 'sex': 0.0, 'capital-gain': 0.008554350534204374, 'capital-loss': 0.006170406969997884, 'hours-per-week': 0.008218526631954342, 'income': 0.005106390735675003, 'group_country': 0.0, 'income_ordinal': 0.0003812888350857824}\n",
      "\n",
      "Accuracy: 81.65\n",
      "\n",
      "Balanced Accuracy: 75.99\n",
      "\n",
      "Precision: 60.75\n",
      "\n",
      "Recall: 65.18\n",
      "\n",
      "F1 score: [87.80843311 62.88431062]\n"
     ]
    },
    {
     "data": {
      "image/png": "[encoded data removed]",
      "text/plain": [
       "<Figure size 432x288 with 1 Axes>"
      ]
     },
     "metadata": {
      "needs_background": "light"
     },
     "output_type": "display_data"
    }
   ],
   "source": [
    "dtc_class = DecisionTreeClassifier()\n",
    "\n",
    "# fitting the model\n",
    "dtc_class.fit(X_train, y_train)\n",
    "\n",
    "# predict the response\n",
    "y_test_predict_dtc = dtc_class.predict(X_test)\n",
    "\n",
    "# Confusion_matrix\n",
    "confusion_matrix_dtc = confusion_matrix(y_test, y_test_predict_dtc)\n",
    "print('\\nconfusion_matrix:\\n', confusion_matrix_dtc)\n",
    "\n",
    "print('\\nFeature_importances:\\n', dict(zip(adult_data.columns,dtc_class.fit(X_train, y_train).feature_importances_)))\n",
    "\n",
    "print(\"\\nAccuracy:\",round(metrics.accuracy_score(y_test, y_test_predict_dtc)*100,2))\n",
    "print(\"\\nBalanced Accuracy:\",round(metrics.balanced_accuracy_score(y_test, y_test_predict_dtc)*100,2))\n",
    "print(\"\\nPrecision:\",round(metrics.precision_score(y_test, y_test_predict_dtc)*100,2))\n",
    "print(\"\\nRecall:\",round(metrics.recall_score(y_test, y_test_predict_dtc)*100,2))\n",
    "print(\"\\nF1 score:\",metrics.f1_score(y_test, y_test_predict_dtc, average=None)*100)\n",
    "\n",
    "y_pred_proba = dtc_class.predict_proba(X_test)[::,1]\n",
    "fpr, tpr, _ = metrics.roc_curve(y_test,  y_pred_proba)\n",
    "auc = metrics.roc_auc_score(y_test, y_pred_proba)\n",
    "plt.plot(fpr,tpr,label=\"data 1, auc=\"+str(auc))\n",
    "plt.legend(loc=4)\n",
    "plt.show()"
   ]
  },
  {
   "cell_type": "code",
   "execution_count": null,
   "metadata": {},
   "outputs": [],
   "source": []
  },
  {
   "cell_type": "code",
   "execution_count": null,
   "metadata": {},
   "outputs": [],
   "source": []
  },
  {
   "cell_type": "code",
   "execution_count": null,
   "metadata": {},
   "outputs": [],
   "source": []
  },
  {
   "cell_type": "code",
   "execution_count": 43,
   "metadata": {},
   "outputs": [],
   "source": [
    "#   #Travail avec le modèle de `Random Forest`\n",
    "\n",
    "#   rf_class = RandomForestClassifier(n_estimators=100, max_depth=2,random_state=0)\n",
    "#   # fitting the model\n",
    "#   rf_class.fit(X_train, y_train)\n",
    "\n",
    "#   # predict the response\n",
    "#   y_test_predict_rf = rf_class.predict(X_test)\n",
    "\n",
    "#   from sklearn.metrics import confusion_matrix\n",
    "\n",
    "#   # Confusion_matrix\n",
    "#   confusion_matrix_rf = confusion_matrix(y_test, y_test_predict_rf)\n",
    "#   print('\\nconfusion_matrix:\\n', confusion_matrix_rf)\n",
    "\n",
    "#   print(\"Accuracy:\",metrics.accuracy_score(y_test, y_test_predict_rf))\n",
    "#   print(\"Precision:\",metrics.precision_score(y_test, y_test_predict_rf))\n",
    "#   print(\"Recall:\",metrics.recall_score(y_test, y_test_predict_rf))\n",
    "\n",
    "#   print(dict(zip(adult_data.columns,rf_class.fit(X_train, y_train).feature_importances_)))\n",
    "\n",
    "\n",
    "#   #dtc_class.predict(X_test)\n",
    "#   y_pred_proba = rf_class.predict_proba(X_test)[::,1]\n",
    "#   fpr, tpr, _ = metrics.roc_curve(y_test,  y_pred_proba)\n",
    "#   auc = metrics.roc_auc_score(y_test, y_pred_proba)\n",
    "#   plt.plot(fpr,tpr,label=\"data 1, auc=\"+str(auc))\n",
    "#   plt.legend(loc=4)\n",
    "#   plt.show()"
   ]
  },
  {
   "cell_type": "code",
   "execution_count": 44,
   "metadata": {},
   "outputs": [],
   "source": [
    "#        #4. Travail avec le modèle de `LogisticRegression` \n",
    "#\n",
    "#        log_class = LogisticRegression()\n",
    "#\n",
    "#        # fitting the model\n",
    "#        log_class.fit(X_train, y_train)\n",
    "#\n",
    "#        # predict the response\n",
    "#        y_test_predict_log = log_class.predict(X_test)\n",
    "#\n",
    "#        # Confusion_matrix\n",
    "#        confusion_matrix_log = confusion_matrix(y_test, y_test_predict_log)\n",
    "#        print('\\nconfusion_matrix:\\n', confusion_matrix_log)\n",
    "#\n",
    "#        # Accuracy\n",
    "#        AC_test = metrics.accuracy_score(y_test, y_test_predict_log)*100\n",
    "#        AC_train = metrics.accuracy_score(y_train, log_class.predict(X_train))*100\n",
    "#        print('\\naccuracy_score_train:', AC_train, '\\naccuracy_score_test:', AC_test)\n",
    "#\n",
    "#        # Balanced Accuracy\n",
    "#        BAC_test = metrics.balanced_accuracy_score(y_test, y_test_predict_log)*100\n",
    "#        BAC_train = metrics.balanced_accuracy_score(y_train, log_class.predict(X_train))*100\n",
    "#\n",
    "#        print('\\nbalanced_accuracy_score_train', BAC_train, '\\nbalanced_accuracy_score_test', BAC_test)\n",
    "#\n",
    "#        # Precision score\n",
    "#        PS_test = metrics.precision_score(y_test, y_test_predict_log, average=None)*100\n",
    "#        PS_train = metrics.precision_score(y_train, log_class.predict(X_train), average=None)*100\n",
    "#\n",
    "#        print('\\nprecision_score_train', PS_train, '\\nprecision_score_test', PS_test)\n",
    "#\n",
    "#        # Recall score\n",
    "#        RS_test = metrics.recall_score(y_test, y_test_predict_log, average=None)*100 \n",
    "#        RS_train = metrics.recall_score(y_train, log_class.predict(X_train), average=None)*100 \n",
    "#\n",
    "#        print('\\nrecall_score_train', RS_train, '\\nrecall_score_test', RS_test)\n",
    "#\n",
    "#        # F1 score\n",
    "#        F1S_test = metrics.f1_score(y_test, y_test_predict_log, average=None)*100 \n",
    "#        F1S_train = metrics.f1_score(y_train, log_class.predict(X_train), average=None)*100 \n",
    "#\n",
    "#        print('\\nF1_score_train', F1S_train, '\\nF1_score_test', F1S_test)\n",
    "#\n",
    "#        y_pred_proba = log_class.predict_proba(X_test)[::,1]\n",
    "#        fpr, tpr, _ = metrics.roc_curve(y_test,  y_pred_proba)\n",
    "#        auc = metrics.roc_auc_score(y_test, y_pred_proba)\n",
    "#        plt.plot(fpr,tpr,label=\"data 1, auc=\"+str(auc))\n",
    "#        plt.legend(loc=4)\n",
    "#        plt.show()"
   ]
  },
  {
   "cell_type": "code",
   "execution_count": null,
   "metadata": {},
   "outputs": [],
   "source": []
  }
 ],
 "metadata": {
  "kernelspec": {
   "display_name": "Python 3",
   "language": "python",
   "name": "python3"
  },
  "language_info": {
   "codemirror_mode": {
    "name": "ipython",
    "version": 3
   },
   "file_extension": ".py",
   "mimetype": "text/x-python",
   "name": "python",
   "nbconvert_exporter": "python",
   "pygments_lexer": "ipython3",
   "version": "3.7.3"
  }
 },
 "nbformat": 4,
 "nbformat_minor": 2
}
