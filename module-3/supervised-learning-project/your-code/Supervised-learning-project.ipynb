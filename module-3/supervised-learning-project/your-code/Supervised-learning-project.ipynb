{
 "cells": [
  {
   "cell_type": "markdown",
   "metadata": {},
   "source": [
    "# Intro\n",
    "\n",
    "Le dataset sur lequel j'ai travaillé provient du UCI Machine Learning Repository.<br/> \n",
    "<b>Source :</b> <a>https://archive.ics.uci.edu/ml/datasets/census+income</a>.<br/>\n",
    "Les données du set proviennent du recensement de 1994 aux Etats-unis. L’objectif sera ici de prédire si le revenu d’un individu est de plus 50K$ ou pas (grâce à la variable « Income »). <br/> \n",
    "Comme il n'y a que 2 résultats possible, la méthode de ML sera celle de classification : régression logistic, SVM, forest tree etc…<br/> \n",
    "On pourra tester plusieurs de ces modèles pour déterminer le plus efficace."
   ]
  },
  {
   "cell_type": "code",
   "execution_count": 1,
   "metadata": {},
   "outputs": [],
   "source": [
    "# Importation des librairies:\n",
    "\n",
    "import numpy as np\n",
    "import pandas as pd\n",
    "\n",
    "%matplotlib inline\n",
    "import seaborn as sns\n",
    "import matplotlib.pyplot as plt"
   ]
  },
  {
   "cell_type": "markdown",
   "metadata": {},
   "source": [
    "# Analyse et nettoyage du dataset\n",
    "La première étape est d’analyser les données et de les nettoyer <br/>"
   ]
  },
  {
   "cell_type": "code",
   "execution_count": 2,
   "metadata": {},
   "outputs": [],
   "source": [
    "adult_data = pd.DataFrame(pd.read_csv('dataset/adult.data', header=None))\n",
    "adult_data.columns=['age','workclass','fnlwgt','education','education-num','marital-status','occupation','relationship','race','sex','capital-gain','capital-loss','hours-per-week','native-country','income']"
   ]
  },
  {
   "cell_type": "code",
   "execution_count": 3,
   "metadata": {},
   "outputs": [
    {
     "data": {
      "text/html": [
       "<div>\n",
       "<style scoped>\n",
       "    .dataframe tbody tr th:only-of-type {\n",
       "        vertical-align: middle;\n",
       "    }\n",
       "\n",
       "    .dataframe tbody tr th {\n",
       "        vertical-align: top;\n",
       "    }\n",
       "\n",
       "    .dataframe thead th {\n",
       "        text-align: right;\n",
       "    }\n",
       "</style>\n",
       "<table border=\"1\" class=\"dataframe\">\n",
       "  <thead>\n",
       "    <tr style=\"text-align: right;\">\n",
       "      <th></th>\n",
       "      <th>age</th>\n",
       "      <th>workclass</th>\n",
       "      <th>fnlwgt</th>\n",
       "      <th>education</th>\n",
       "      <th>education-num</th>\n",
       "      <th>marital-status</th>\n",
       "      <th>occupation</th>\n",
       "      <th>relationship</th>\n",
       "      <th>race</th>\n",
       "      <th>sex</th>\n",
       "      <th>capital-gain</th>\n",
       "      <th>capital-loss</th>\n",
       "      <th>hours-per-week</th>\n",
       "      <th>native-country</th>\n",
       "      <th>income</th>\n",
       "    </tr>\n",
       "  </thead>\n",
       "  <tbody>\n",
       "    <tr>\n",
       "      <th>0</th>\n",
       "      <td>39</td>\n",
       "      <td>State-gov</td>\n",
       "      <td>77516</td>\n",
       "      <td>Bachelors</td>\n",
       "      <td>13</td>\n",
       "      <td>Never-married</td>\n",
       "      <td>Adm-clerical</td>\n",
       "      <td>Not-in-family</td>\n",
       "      <td>White</td>\n",
       "      <td>Male</td>\n",
       "      <td>2174</td>\n",
       "      <td>0</td>\n",
       "      <td>40</td>\n",
       "      <td>United-States</td>\n",
       "      <td>&lt;=50K</td>\n",
       "    </tr>\n",
       "    <tr>\n",
       "      <th>1</th>\n",
       "      <td>50</td>\n",
       "      <td>Self-emp-not-inc</td>\n",
       "      <td>83311</td>\n",
       "      <td>Bachelors</td>\n",
       "      <td>13</td>\n",
       "      <td>Married-civ-spouse</td>\n",
       "      <td>Exec-managerial</td>\n",
       "      <td>Husband</td>\n",
       "      <td>White</td>\n",
       "      <td>Male</td>\n",
       "      <td>0</td>\n",
       "      <td>0</td>\n",
       "      <td>13</td>\n",
       "      <td>United-States</td>\n",
       "      <td>&lt;=50K</td>\n",
       "    </tr>\n",
       "    <tr>\n",
       "      <th>2</th>\n",
       "      <td>38</td>\n",
       "      <td>Private</td>\n",
       "      <td>215646</td>\n",
       "      <td>HS-grad</td>\n",
       "      <td>9</td>\n",
       "      <td>Divorced</td>\n",
       "      <td>Handlers-cleaners</td>\n",
       "      <td>Not-in-family</td>\n",
       "      <td>White</td>\n",
       "      <td>Male</td>\n",
       "      <td>0</td>\n",
       "      <td>0</td>\n",
       "      <td>40</td>\n",
       "      <td>United-States</td>\n",
       "      <td>&lt;=50K</td>\n",
       "    </tr>\n",
       "    <tr>\n",
       "      <th>3</th>\n",
       "      <td>53</td>\n",
       "      <td>Private</td>\n",
       "      <td>234721</td>\n",
       "      <td>11th</td>\n",
       "      <td>7</td>\n",
       "      <td>Married-civ-spouse</td>\n",
       "      <td>Handlers-cleaners</td>\n",
       "      <td>Husband</td>\n",
       "      <td>Black</td>\n",
       "      <td>Male</td>\n",
       "      <td>0</td>\n",
       "      <td>0</td>\n",
       "      <td>40</td>\n",
       "      <td>United-States</td>\n",
       "      <td>&lt;=50K</td>\n",
       "    </tr>\n",
       "    <tr>\n",
       "      <th>4</th>\n",
       "      <td>28</td>\n",
       "      <td>Private</td>\n",
       "      <td>338409</td>\n",
       "      <td>Bachelors</td>\n",
       "      <td>13</td>\n",
       "      <td>Married-civ-spouse</td>\n",
       "      <td>Prof-specialty</td>\n",
       "      <td>Wife</td>\n",
       "      <td>Black</td>\n",
       "      <td>Female</td>\n",
       "      <td>0</td>\n",
       "      <td>0</td>\n",
       "      <td>40</td>\n",
       "      <td>Cuba</td>\n",
       "      <td>&lt;=50K</td>\n",
       "    </tr>\n",
       "  </tbody>\n",
       "</table>\n",
       "</div>"
      ],
      "text/plain": [
       "   age          workclass  fnlwgt   education  education-num  \\\n",
       "0   39          State-gov   77516   Bachelors             13   \n",
       "1   50   Self-emp-not-inc   83311   Bachelors             13   \n",
       "2   38            Private  215646     HS-grad              9   \n",
       "3   53            Private  234721        11th              7   \n",
       "4   28            Private  338409   Bachelors             13   \n",
       "\n",
       "        marital-status          occupation    relationship    race      sex  \\\n",
       "0        Never-married        Adm-clerical   Not-in-family   White     Male   \n",
       "1   Married-civ-spouse     Exec-managerial         Husband   White     Male   \n",
       "2             Divorced   Handlers-cleaners   Not-in-family   White     Male   \n",
       "3   Married-civ-spouse   Handlers-cleaners         Husband   Black     Male   \n",
       "4   Married-civ-spouse      Prof-specialty            Wife   Black   Female   \n",
       "\n",
       "   capital-gain  capital-loss  hours-per-week  native-country  income  \n",
       "0          2174             0              40   United-States   <=50K  \n",
       "1             0             0              13   United-States   <=50K  \n",
       "2             0             0              40   United-States   <=50K  \n",
       "3             0             0              40   United-States   <=50K  \n",
       "4             0             0              40            Cuba   <=50K  "
      ]
     },
     "execution_count": 3,
     "metadata": {},
     "output_type": "execute_result"
    }
   ],
   "source": [
    "adult_data.head()"
   ]
  },
  {
   "cell_type": "code",
   "execution_count": 4,
   "metadata": {},
   "outputs": [
    {
     "data": {
      "text/plain": [
       "(32561, 15)"
      ]
     },
     "execution_count": 4,
     "metadata": {},
     "output_type": "execute_result"
    }
   ],
   "source": [
    "adult_data.shape"
   ]
  },
  {
   "cell_type": "code",
   "execution_count": 5,
   "metadata": {},
   "outputs": [
    {
     "name": "stdout",
     "output_type": "stream",
     "text": [
      "<class 'pandas.core.frame.DataFrame'>\n",
      "RangeIndex: 32561 entries, 0 to 32560\n",
      "Data columns (total 15 columns):\n",
      "age               32561 non-null int64\n",
      "workclass         32561 non-null object\n",
      "fnlwgt            32561 non-null int64\n",
      "education         32561 non-null object\n",
      "education-num     32561 non-null int64\n",
      "marital-status    32561 non-null object\n",
      "occupation        32561 non-null object\n",
      "relationship      32561 non-null object\n",
      "race              32561 non-null object\n",
      "sex               32561 non-null object\n",
      "capital-gain      32561 non-null int64\n",
      "capital-loss      32561 non-null int64\n",
      "hours-per-week    32561 non-null int64\n",
      "native-country    32561 non-null object\n",
      "income            32561 non-null object\n",
      "dtypes: int64(6), object(9)\n",
      "memory usage: 3.7+ MB\n"
     ]
    }
   ],
   "source": [
    "adult_data.info()"
   ]
  },
  {
   "cell_type": "code",
   "execution_count": 6,
   "metadata": {},
   "outputs": [],
   "source": [
    "#select les ligne <50k puis occupation avec unique idem >50k puis \n",
    "    #adult_data[adult_data['income']==' <=50K'].occupation.unique()\n",
    "    #adult_data[adult_data['income']==' >50K'].occupation.unique()"
   ]
  },
  {
   "cell_type": "markdown",
   "metadata": {},
   "source": [
    "La dataset contient  32561 lignes et 15 colonnes qui pour la suite pourraient se diviser ainsi : \n",
    "   - 6 variables sont numériques, les 9 autres sont catégorielles.\n",
    "   - 14 sont les features \n",
    "   - 1 la target. "
   ]
  },
  {
   "cell_type": "markdown",
   "metadata": {},
   "source": [
    "#### FEATURES\n",
    "- 'age',\n",
    "- 'workclass': Private, Self-emp-not-inc, Self-emp-inc, Federal-gov, Local-gov, State-gov, Without-pay, Never-worked.\n",
    "- 'fnlwgt': continuous.\n",
    "- 'education': Bachelors, Some-college, 11th, HS-grad, Prof-school, Assoc-acdm, Assoc-voc, 9th, 7th-8th, 12th, Masters, 1st-4th, 10th, Doctorate, 5th-6th, Preschool.\n",
    "- 'education-num': continuous.\n",
    "- 'marital-status': Married-civ-spouse, Divorced, Never-married, Separated, Widowed, Married-spouse-absent, Married-AF-spouse.\n",
    "- 'occupation': Tech-support, Craft-repair, Other-service, Sales, Exec-managerial, Prof-specialty, Handlers-cleaners, Machine-op-inspct, Adm-clerical, Farming-fishing, Transport-moving, Priv-house-serv, Protective-serv, Armed-Forces.\n",
    "- 'relationship': Wife, Own-child, Husband, Not-in-family, Other-relative, Unmarried.\n",
    "- 'race': White, Asian-Pac-Islander, Amer-Indian-Eskimo, Other, Black.\n",
    "- 'sex': Female, Male.\n",
    "- 'capital-gain': continuous.\n",
    "- 'capital-loss': continuous.\n",
    "- 'hours-per-week': continuous.\n",
    "- 'native-country': United-States, Cambodia, England, Puerto-Rico, Canada, Germany, Outlying-US(Guam-USVI-etc), India, Japan, Greece, South, China, Cuba, Iran, Honduras, Philippines, Italy, Poland, Jamaica, Vietnam, Mexico, Portugal, Ireland, France, Dominican-Republic, Laos, Ecuador, Taiwan, Haiti, Columbia, Hungary, Guatemala, Nicaragua, Scotland, Thailand, Yugoslavia, El-Salvador, Trinadad&Tobago, Peru, Hong, Holand-Netherlands.\n",
    "\n",
    "#### TARGET\n",
    "- 'income' : >50K, <=50K"
   ]
  },
  {
   "cell_type": "markdown",
   "metadata": {},
   "source": [
    "Après recherche, la variable \"fnlwgt\" représente le poids final, qui correspond au « nombre d'unités de la population cible représentées par l'unité répondante ». </br>\n",
    "\n",
    "La variable \"education_num\" correspond au nombre total d'années d'études, elle est la représentation numérique de la variable éducation. Je peux tout de même faire un table de corrélation pour confirmer cette info.</br>\n",
    "\n",
    "La variable \"relationship\" représente de la personne interrogée au sein de la famille. </br>\n",
    "\"capital_gain\" et \"capital_loss\" sont des revenus autres que le salaire.</br>\n",
    "\n",
    "Pour la suite du travail, on pourra supprimer la variable « education » puisque nous avons sa représentation numérique. Ce qui nous évitera pour cette variable de passer par l’étape get_dummies."
   ]
  },
  {
   "cell_type": "markdown",
   "metadata": {},
   "source": [
    "### Correlation des valeurs numériques \n",
    "Pour supprimer d'éventuelles colonnes qui auraient un effet sur le modèle."
   ]
  },
  {
   "cell_type": "code",
   "execution_count": 7,
   "metadata": {},
   "outputs": [
    {
     "data": {
      "image/png": "[encoded data removed]",
      "text/plain": [
       "<Figure size 648x504 with 2 Axes>"
      ]
     },
     "metadata": {
      "needs_background": "light"
     },
     "output_type": "display_data"
    }
   ],
   "source": [
    "adult_data_num = adult_data.select_dtypes(include=['int64'])\n",
    "adult_data_num_corr = adult_data_num.corr()\n",
    "\n",
    "# Set up the matplotlib figure\n",
    "fig, ax = plt.subplots(figsize=(9, 7))\n",
    "\n",
    "# Generate a custom diverging colormap #\n",
    "cmap=\"YlGnBu\"\n",
    "\n",
    "# Draw the heatmap with the mask and correct aspect ratio (mask=mask)\n",
    "ax = sns.heatmap(adult_data_num_corr, cmap=cmap, annot=True, annot_kws={\"size\": 10},square=True, linewidths=.5)"
   ]
  },
  {
   "cell_type": "markdown",
   "metadata": {},
   "source": [
    "Les variables les plus corrélées sont celles qui dans le graph ont un grand nombre de cases à la couleur très sombre. Ici, les variables numériques ne sont pas corrélées entre elles."
   ]
  },
  {
   "cell_type": "markdown",
   "metadata": {},
   "source": [
    "### La variable \"native-country\""
   ]
  },
  {
   "cell_type": "code",
   "execution_count": 8,
   "metadata": {},
   "outputs": [
    {
     "name": "stdout",
     "output_type": "stream",
     "text": [
      "Nb de pays: 42\n"
     ]
    },
    {
     "data": {
      "text/plain": [
       "(None,  United-States                 29170\n",
       "  Mexico                          643\n",
       "  ?                               583\n",
       "  Philippines                     198\n",
       "  Germany                         137\n",
       "  Canada                          121\n",
       "  Puerto-Rico                     114\n",
       "  El-Salvador                     106\n",
       "  India                           100\n",
       "  Cuba                             95\n",
       "  England                          90\n",
       "  Jamaica                          81\n",
       "  South                            80\n",
       "  China                            75\n",
       "  Italy                            73\n",
       "  Dominican-Republic               70\n",
       "  Vietnam                          67\n",
       "  Guatemala                        64\n",
       "  Japan                            62\n",
       "  Poland                           60\n",
       "  Columbia                         59\n",
       "  Taiwan                           51\n",
       "  Haiti                            44\n",
       "  Iran                             43\n",
       "  Portugal                         37\n",
       "  Nicaragua                        34\n",
       "  Peru                             31\n",
       "  France                           29\n",
       "  Greece                           29\n",
       "  Ecuador                          28\n",
       "  Ireland                          24\n",
       "  Hong                             20\n",
       "  Trinadad&Tobago                  19\n",
       "  Cambodia                         19\n",
       "  Laos                             18\n",
       "  Thailand                         18\n",
       "  Yugoslavia                       16\n",
       "  Outlying-US(Guam-USVI-etc)       14\n",
       "  Honduras                         13\n",
       "  Hungary                          13\n",
       "  Scotland                         12\n",
       "  Holand-Netherlands                1\n",
       " Name: native-country, dtype: int64)"
      ]
     },
     "execution_count": 8,
     "metadata": {},
     "output_type": "execute_result"
    }
   ],
   "source": [
    "print('Nb de pays:',adult_data['native-country'].value_counts().count()) ,adult_data['native-country'].value_counts()"
   ]
  },
  {
   "cell_type": "code",
   "execution_count": 9,
   "metadata": {},
   "outputs": [
    {
     "data": {
      "text/plain": [
       " United-States                 89.585701\n",
       " Mexico                         1.974755\n",
       " ?                              1.790486\n",
       " Philippines                    0.608089\n",
       " Germany                        0.420749\n",
       " Canada                         0.371610\n",
       " Puerto-Rico                    0.350112\n",
       " El-Salvador                    0.325543\n",
       " India                          0.307116\n",
       " Cuba                           0.291760\n",
       " England                        0.276404\n",
       " Jamaica                        0.248764\n",
       " South                          0.245693\n",
       " China                          0.230337\n",
       " Italy                          0.224195\n",
       " Dominican-Republic             0.214981\n",
       " Vietnam                        0.205768\n",
       " Guatemala                      0.196554\n",
       " Japan                          0.190412\n",
       " Poland                         0.184270\n",
       " Columbia                       0.181198\n",
       " Taiwan                         0.156629\n",
       " Haiti                          0.135131\n",
       " Iran                           0.132060\n",
       " Portugal                       0.113633\n",
       " Nicaragua                      0.104419\n",
       " Peru                           0.095206\n",
       " France                         0.089064\n",
       " Greece                         0.089064\n",
       " Ecuador                        0.085992\n",
       " Ireland                        0.073708\n",
       " Hong                           0.061423\n",
       " Trinadad&Tobago                0.058352\n",
       " Cambodia                       0.058352\n",
       " Laos                           0.055281\n",
       " Thailand                       0.055281\n",
       " Yugoslavia                     0.049139\n",
       " Outlying-US(Guam-USVI-etc)     0.042996\n",
       " Honduras                       0.039925\n",
       " Hungary                        0.039925\n",
       " Scotland                       0.036854\n",
       " Holand-Netherlands             0.003071\n",
       "Name: native-country, dtype: float64"
      ]
     },
     "execution_count": 9,
     "metadata": {},
     "output_type": "execute_result"
    }
   ],
   "source": [
    "adult_data['native-country'].value_counts()/len(adult_data)*100"
   ]
  },
  {
   "cell_type": "markdown",
   "metadata": {},
   "source": [
    "Pour ce qui est de la variable « Country », on compte 42 entrées : 40 pays,  1 'South'et 1 de type NC (« ? »).<br/>\n",
    "On peut pour cette colonne par exemple créer une nouvelle variable qui regrouperait les pays par continent dès lors que ce n’est pas les USA qui représentent 89,5% des répondants. <br/>Pour les lignes NC, je vais les supprimer. Ca fera 583 lignes en moins sur 32561. On travaillera donc avec 31898 lignes."
   ]
  },
  {
   "cell_type": "code",
   "execution_count": 10,
   "metadata": {},
   "outputs": [
    {
     "data": {
      "text/plain": [
       "array([' United-States', ' Cuba', ' Jamaica', ' India', ' ?', ' Mexico',\n",
       "       ' South', ' Puerto-Rico', ' Honduras', ' England', ' Canada',\n",
       "       ' Germany', ' Iran', ' Philippines', ' Italy', ' Poland',\n",
       "       ' Columbia', ' Cambodia', ' Thailand', ' Ecuador', ' Laos',\n",
       "       ' Taiwan', ' Haiti', ' Portugal', ' Dominican-Republic',\n",
       "       ' El-Salvador', ' France', ' Guatemala', ' China', ' Japan',\n",
       "       ' Yugoslavia', ' Peru', ' Outlying-US(Guam-USVI-etc)', ' Scotland',\n",
       "       ' Trinadad&Tobago', ' Greece', ' Nicaragua', ' Vietnam', ' Hong',\n",
       "       ' Ireland', ' Hungary', ' Holand-Netherlands'], dtype=object)"
      ]
     },
     "execution_count": 10,
     "metadata": {},
     "output_type": "execute_result"
    }
   ],
   "source": [
    "adult_data['native-country'].unique()"
   ]
  },
  {
   "cell_type": "code",
   "execution_count": 11,
   "metadata": {},
   "outputs": [
    {
     "data": {
      "text/plain": [
       " United-States    29170\n",
       "America            1536\n",
       "Asia                671\n",
       " ?                  583\n",
       "Europe              521\n",
       " South               80\n",
       "Name: group_country, dtype: int64"
      ]
     },
     "execution_count": 11,
     "metadata": {},
     "output_type": "execute_result"
    }
   ],
   "source": [
    "America=[' Cuba', ' Jamaica', ' Mexico',' Puerto-Rico', ' Honduras',' Canada',' Columbia',' Ecuador',' Haiti', ' Dominican-Republic',' Guatemala', ' Peru', ' Outlying-US(Guam-USVI-etc)', ' Trinadad&Tobago', ' Nicaragua',' El-Salvador']\n",
    "Asia = [' India',' Iran', ' Philippines',' Cambodia', ' Thailand',' Laos',' Taiwan', ' China', ' Japan',' Vietnam', ' Hong']\n",
    "Europe =[' England', ' Germany',' Italy', ' Poland',' Portugal',' France', ' Yugoslavia',' Scotland', ' Greece', ' Ireland', ' Hungary', ' Holand-Netherlands']\n",
    "adult_data = adult_data.assign(group_country=adult_data['native-country'].map(lambda x: 'America' if x in America else ('Asia' if x in Asia else ('Europe' if x in Europe else x))))\n",
    "adult_data['group_country'].value_counts()"
   ]
  },
  {
   "cell_type": "markdown",
   "metadata": {},
   "source": [
    "Je vais peux ensuite supprimer la colonne 'native-country' et les lignes contenant \"?\" et \"South\" dont on ne sait pas à quoi cela se réfère."
   ]
  },
  {
   "cell_type": "code",
   "execution_count": 12,
   "metadata": {},
   "outputs": [],
   "source": [
    "adult_data.drop(adult_data[adult_data['group_country'] ==' ?'].index, inplace = True )\n",
    "adult_data.drop(adult_data[adult_data['group_country'] ==' South'].index, inplace = True )\n"
   ]
  },
  {
   "cell_type": "code",
   "execution_count": 13,
   "metadata": {},
   "outputs": [
    {
     "data": {
      "text/plain": [
       " United-States    29170\n",
       "America            1536\n",
       "Asia                671\n",
       "Europe              521\n",
       "Name: group_country, dtype: int64"
      ]
     },
     "execution_count": 13,
     "metadata": {},
     "output_type": "execute_result"
    }
   ],
   "source": [
    "adult_data['group_country'].value_counts()"
   ]
  },
  {
   "cell_type": "code",
   "execution_count": 14,
   "metadata": {},
   "outputs": [],
   "source": [
    "adult_data.drop(columns = 'native-country',inplace = True)"
   ]
  },
  {
   "cell_type": "code",
   "execution_count": 15,
   "metadata": {},
   "outputs": [
    {
     "data": {
      "text/html": [
       "<div>\n",
       "<style scoped>\n",
       "    .dataframe tbody tr th:only-of-type {\n",
       "        vertical-align: middle;\n",
       "    }\n",
       "\n",
       "    .dataframe tbody tr th {\n",
       "        vertical-align: top;\n",
       "    }\n",
       "\n",
       "    .dataframe thead th {\n",
       "        text-align: right;\n",
       "    }\n",
       "</style>\n",
       "<table border=\"1\" class=\"dataframe\">\n",
       "  <thead>\n",
       "    <tr style=\"text-align: right;\">\n",
       "      <th></th>\n",
       "      <th>age</th>\n",
       "      <th>workclass</th>\n",
       "      <th>fnlwgt</th>\n",
       "      <th>education</th>\n",
       "      <th>education-num</th>\n",
       "      <th>marital-status</th>\n",
       "      <th>occupation</th>\n",
       "      <th>relationship</th>\n",
       "      <th>race</th>\n",
       "      <th>sex</th>\n",
       "      <th>capital-gain</th>\n",
       "      <th>capital-loss</th>\n",
       "      <th>hours-per-week</th>\n",
       "      <th>income</th>\n",
       "      <th>group_country</th>\n",
       "    </tr>\n",
       "  </thead>\n",
       "  <tbody>\n",
       "    <tr>\n",
       "      <th>0</th>\n",
       "      <td>39</td>\n",
       "      <td>State-gov</td>\n",
       "      <td>77516</td>\n",
       "      <td>Bachelors</td>\n",
       "      <td>13</td>\n",
       "      <td>Never-married</td>\n",
       "      <td>Adm-clerical</td>\n",
       "      <td>Not-in-family</td>\n",
       "      <td>White</td>\n",
       "      <td>Male</td>\n",
       "      <td>2174</td>\n",
       "      <td>0</td>\n",
       "      <td>40</td>\n",
       "      <td>&lt;=50K</td>\n",
       "      <td>United-States</td>\n",
       "    </tr>\n",
       "    <tr>\n",
       "      <th>1</th>\n",
       "      <td>50</td>\n",
       "      <td>Self-emp-not-inc</td>\n",
       "      <td>83311</td>\n",
       "      <td>Bachelors</td>\n",
       "      <td>13</td>\n",
       "      <td>Married-civ-spouse</td>\n",
       "      <td>Exec-managerial</td>\n",
       "      <td>Husband</td>\n",
       "      <td>White</td>\n",
       "      <td>Male</td>\n",
       "      <td>0</td>\n",
       "      <td>0</td>\n",
       "      <td>13</td>\n",
       "      <td>&lt;=50K</td>\n",
       "      <td>United-States</td>\n",
       "    </tr>\n",
       "    <tr>\n",
       "      <th>2</th>\n",
       "      <td>38</td>\n",
       "      <td>Private</td>\n",
       "      <td>215646</td>\n",
       "      <td>HS-grad</td>\n",
       "      <td>9</td>\n",
       "      <td>Divorced</td>\n",
       "      <td>Handlers-cleaners</td>\n",
       "      <td>Not-in-family</td>\n",
       "      <td>White</td>\n",
       "      <td>Male</td>\n",
       "      <td>0</td>\n",
       "      <td>0</td>\n",
       "      <td>40</td>\n",
       "      <td>&lt;=50K</td>\n",
       "      <td>United-States</td>\n",
       "    </tr>\n",
       "    <tr>\n",
       "      <th>3</th>\n",
       "      <td>53</td>\n",
       "      <td>Private</td>\n",
       "      <td>234721</td>\n",
       "      <td>11th</td>\n",
       "      <td>7</td>\n",
       "      <td>Married-civ-spouse</td>\n",
       "      <td>Handlers-cleaners</td>\n",
       "      <td>Husband</td>\n",
       "      <td>Black</td>\n",
       "      <td>Male</td>\n",
       "      <td>0</td>\n",
       "      <td>0</td>\n",
       "      <td>40</td>\n",
       "      <td>&lt;=50K</td>\n",
       "      <td>United-States</td>\n",
       "    </tr>\n",
       "    <tr>\n",
       "      <th>4</th>\n",
       "      <td>28</td>\n",
       "      <td>Private</td>\n",
       "      <td>338409</td>\n",
       "      <td>Bachelors</td>\n",
       "      <td>13</td>\n",
       "      <td>Married-civ-spouse</td>\n",
       "      <td>Prof-specialty</td>\n",
       "      <td>Wife</td>\n",
       "      <td>Black</td>\n",
       "      <td>Female</td>\n",
       "      <td>0</td>\n",
       "      <td>0</td>\n",
       "      <td>40</td>\n",
       "      <td>&lt;=50K</td>\n",
       "      <td>America</td>\n",
       "    </tr>\n",
       "  </tbody>\n",
       "</table>\n",
       "</div>"
      ],
      "text/plain": [
       "   age          workclass  fnlwgt   education  education-num  \\\n",
       "0   39          State-gov   77516   Bachelors             13   \n",
       "1   50   Self-emp-not-inc   83311   Bachelors             13   \n",
       "2   38            Private  215646     HS-grad              9   \n",
       "3   53            Private  234721        11th              7   \n",
       "4   28            Private  338409   Bachelors             13   \n",
       "\n",
       "        marital-status          occupation    relationship    race      sex  \\\n",
       "0        Never-married        Adm-clerical   Not-in-family   White     Male   \n",
       "1   Married-civ-spouse     Exec-managerial         Husband   White     Male   \n",
       "2             Divorced   Handlers-cleaners   Not-in-family   White     Male   \n",
       "3   Married-civ-spouse   Handlers-cleaners         Husband   Black     Male   \n",
       "4   Married-civ-spouse      Prof-specialty            Wife   Black   Female   \n",
       "\n",
       "   capital-gain  capital-loss  hours-per-week  income   group_country  \n",
       "0          2174             0              40   <=50K   United-States  \n",
       "1             0             0              13   <=50K   United-States  \n",
       "2             0             0              40   <=50K   United-States  \n",
       "3             0             0              40   <=50K   United-States  \n",
       "4             0             0              40   <=50K         America  "
      ]
     },
     "execution_count": 15,
     "metadata": {},
     "output_type": "execute_result"
    }
   ],
   "source": [
    "adult_data.head()"
   ]
  },
  {
   "cell_type": "code",
   "execution_count": 16,
   "metadata": {},
   "outputs": [],
   "source": [
    "### La variable 'fnlwgt'"
   ]
  },
  {
   "cell_type": "code",
   "execution_count": 17,
   "metadata": {},
   "outputs": [],
   "source": [
    "#adult_data['fnlwgt'].value_counts()"
   ]
  },
  {
   "cell_type": "code",
   "execution_count": 18,
   "metadata": {},
   "outputs": [],
   "source": [
    "#Pour la variable \"fnlwgt\", il y a 21648 valeurs différentes. Difficile d'y voir une utilité. Je vais donc supprimer cette colonne.\n"
   ]
  },
  {
   "cell_type": "code",
   "execution_count": 19,
   "metadata": {},
   "outputs": [],
   "source": [
    "#adult_data=adult_data.drop(columns = 'fnlwgt')"
   ]
  },
  {
   "cell_type": "code",
   "execution_count": 20,
   "metadata": {},
   "outputs": [],
   "source": [
    "#adult_data.head()"
   ]
  },
  {
   "cell_type": "code",
   "execution_count": 21,
   "metadata": {},
   "outputs": [
    {
     "data": {
      "text/plain": [
       "(31898, 15)"
      ]
     },
     "execution_count": 21,
     "metadata": {},
     "output_type": "execute_result"
    }
   ],
   "source": [
    "adult_data.shape"
   ]
  },
  {
   "cell_type": "markdown",
   "metadata": {},
   "source": [
    "### La variable : Income\n",
    "Je regarde la distribution de la Target."
   ]
  },
  {
   "cell_type": "code",
   "execution_count": 22,
   "metadata": {},
   "outputs": [
    {
     "name": "stdout",
     "output_type": "stream",
     "text": [
      "income\n",
      " <=50K    24219\n",
      " >50K      7679\n",
      "dtype: int64\n"
     ]
    }
   ],
   "source": [
    "print(adult_data.groupby('income').size())"
   ]
  },
  {
   "cell_type": "markdown",
   "metadata": {},
   "source": [
    "Je passe cette colonne en ordinal pour plus faciliter les calculs."
   ]
  },
  {
   "cell_type": "code",
   "execution_count": 23,
   "metadata": {},
   "outputs": [
    {
     "data": {
      "text/plain": [
       "0    24219\n",
       "1     7679\n",
       "Name: income_ordinal, dtype: int64"
      ]
     },
     "execution_count": 23,
     "metadata": {},
     "output_type": "execute_result"
    }
   ],
   "source": [
    "adult_data['income_ordinal'] = adult_data['income'].map(lambda x: 1 if x==' >50K' else 0)\n",
    "adult_data['income_ordinal'].value_counts()"
   ]
  },
  {
   "cell_type": "code",
   "execution_count": 24,
   "metadata": {},
   "outputs": [
    {
     "data": {
      "text/html": [
       "<div>\n",
       "<style scoped>\n",
       "    .dataframe tbody tr th:only-of-type {\n",
       "        vertical-align: middle;\n",
       "    }\n",
       "\n",
       "    .dataframe tbody tr th {\n",
       "        vertical-align: top;\n",
       "    }\n",
       "\n",
       "    .dataframe thead th {\n",
       "        text-align: right;\n",
       "    }\n",
       "</style>\n",
       "<table border=\"1\" class=\"dataframe\">\n",
       "  <thead>\n",
       "    <tr style=\"text-align: right;\">\n",
       "      <th></th>\n",
       "      <th>age</th>\n",
       "      <th>workclass</th>\n",
       "      <th>fnlwgt</th>\n",
       "      <th>education</th>\n",
       "      <th>education-num</th>\n",
       "      <th>marital-status</th>\n",
       "      <th>occupation</th>\n",
       "      <th>relationship</th>\n",
       "      <th>race</th>\n",
       "      <th>sex</th>\n",
       "      <th>capital-gain</th>\n",
       "      <th>capital-loss</th>\n",
       "      <th>hours-per-week</th>\n",
       "      <th>income</th>\n",
       "      <th>group_country</th>\n",
       "      <th>income_ordinal</th>\n",
       "    </tr>\n",
       "  </thead>\n",
       "  <tbody>\n",
       "    <tr>\n",
       "      <th>0</th>\n",
       "      <td>39</td>\n",
       "      <td>State-gov</td>\n",
       "      <td>77516</td>\n",
       "      <td>Bachelors</td>\n",
       "      <td>13</td>\n",
       "      <td>Never-married</td>\n",
       "      <td>Adm-clerical</td>\n",
       "      <td>Not-in-family</td>\n",
       "      <td>White</td>\n",
       "      <td>Male</td>\n",
       "      <td>2174</td>\n",
       "      <td>0</td>\n",
       "      <td>40</td>\n",
       "      <td>&lt;=50K</td>\n",
       "      <td>United-States</td>\n",
       "      <td>0</td>\n",
       "    </tr>\n",
       "    <tr>\n",
       "      <th>1</th>\n",
       "      <td>50</td>\n",
       "      <td>Self-emp-not-inc</td>\n",
       "      <td>83311</td>\n",
       "      <td>Bachelors</td>\n",
       "      <td>13</td>\n",
       "      <td>Married-civ-spouse</td>\n",
       "      <td>Exec-managerial</td>\n",
       "      <td>Husband</td>\n",
       "      <td>White</td>\n",
       "      <td>Male</td>\n",
       "      <td>0</td>\n",
       "      <td>0</td>\n",
       "      <td>13</td>\n",
       "      <td>&lt;=50K</td>\n",
       "      <td>United-States</td>\n",
       "      <td>0</td>\n",
       "    </tr>\n",
       "    <tr>\n",
       "      <th>2</th>\n",
       "      <td>38</td>\n",
       "      <td>Private</td>\n",
       "      <td>215646</td>\n",
       "      <td>HS-grad</td>\n",
       "      <td>9</td>\n",
       "      <td>Divorced</td>\n",
       "      <td>Handlers-cleaners</td>\n",
       "      <td>Not-in-family</td>\n",
       "      <td>White</td>\n",
       "      <td>Male</td>\n",
       "      <td>0</td>\n",
       "      <td>0</td>\n",
       "      <td>40</td>\n",
       "      <td>&lt;=50K</td>\n",
       "      <td>United-States</td>\n",
       "      <td>0</td>\n",
       "    </tr>\n",
       "    <tr>\n",
       "      <th>3</th>\n",
       "      <td>53</td>\n",
       "      <td>Private</td>\n",
       "      <td>234721</td>\n",
       "      <td>11th</td>\n",
       "      <td>7</td>\n",
       "      <td>Married-civ-spouse</td>\n",
       "      <td>Handlers-cleaners</td>\n",
       "      <td>Husband</td>\n",
       "      <td>Black</td>\n",
       "      <td>Male</td>\n",
       "      <td>0</td>\n",
       "      <td>0</td>\n",
       "      <td>40</td>\n",
       "      <td>&lt;=50K</td>\n",
       "      <td>United-States</td>\n",
       "      <td>0</td>\n",
       "    </tr>\n",
       "    <tr>\n",
       "      <th>4</th>\n",
       "      <td>28</td>\n",
       "      <td>Private</td>\n",
       "      <td>338409</td>\n",
       "      <td>Bachelors</td>\n",
       "      <td>13</td>\n",
       "      <td>Married-civ-spouse</td>\n",
       "      <td>Prof-specialty</td>\n",
       "      <td>Wife</td>\n",
       "      <td>Black</td>\n",
       "      <td>Female</td>\n",
       "      <td>0</td>\n",
       "      <td>0</td>\n",
       "      <td>40</td>\n",
       "      <td>&lt;=50K</td>\n",
       "      <td>America</td>\n",
       "      <td>0</td>\n",
       "    </tr>\n",
       "  </tbody>\n",
       "</table>\n",
       "</div>"
      ],
      "text/plain": [
       "   age          workclass  fnlwgt   education  education-num  \\\n",
       "0   39          State-gov   77516   Bachelors             13   \n",
       "1   50   Self-emp-not-inc   83311   Bachelors             13   \n",
       "2   38            Private  215646     HS-grad              9   \n",
       "3   53            Private  234721        11th              7   \n",
       "4   28            Private  338409   Bachelors             13   \n",
       "\n",
       "        marital-status          occupation    relationship    race      sex  \\\n",
       "0        Never-married        Adm-clerical   Not-in-family   White     Male   \n",
       "1   Married-civ-spouse     Exec-managerial         Husband   White     Male   \n",
       "2             Divorced   Handlers-cleaners   Not-in-family   White     Male   \n",
       "3   Married-civ-spouse   Handlers-cleaners         Husband   Black     Male   \n",
       "4   Married-civ-spouse      Prof-specialty            Wife   Black   Female   \n",
       "\n",
       "   capital-gain  capital-loss  hours-per-week  income   group_country  \\\n",
       "0          2174             0              40   <=50K   United-States   \n",
       "1             0             0              13   <=50K   United-States   \n",
       "2             0             0              40   <=50K   United-States   \n",
       "3             0             0              40   <=50K   United-States   \n",
       "4             0             0              40   <=50K         America   \n",
       "\n",
       "   income_ordinal  \n",
       "0               0  \n",
       "1               0  \n",
       "2               0  \n",
       "3               0  \n",
       "4               0  "
      ]
     },
     "execution_count": 24,
     "metadata": {},
     "output_type": "execute_result"
    }
   ],
   "source": [
    "adult_data.head()"
   ]
  },
  {
   "cell_type": "markdown",
   "metadata": {},
   "source": [
    "### Les valeurs manquantes"
   ]
  },
  {
   "cell_type": "markdown",
   "metadata": {},
   "source": [
    "Pour les autres variables, je n'ai rien vu de particulier. Mis à part qu'il faudra vérifier s'il n'y a pas de valeurs manquantes.\n"
   ]
  },
  {
   "cell_type": "code",
   "execution_count": 25,
   "metadata": {},
   "outputs": [
    {
     "data": {
      "text/plain": [
       "0"
      ]
     },
     "execution_count": 25,
     "metadata": {},
     "output_type": "execute_result"
    }
   ],
   "source": [
    "adult_data.isna().sum().sum()"
   ]
  },
  {
   "cell_type": "markdown",
   "metadata": {},
   "source": [
    "Il n'y a pas de valeurs manquantes. Je peux passer à la partie ML"
   ]
  },
  {
   "cell_type": "markdown",
   "metadata": {},
   "source": [
    "## ML "
   ]
  },
  {
   "cell_type": "markdown",
   "metadata": {},
   "source": [
    "Je sépare les variables en Features et Target"
   ]
  },
  {
   "cell_type": "code",
   "execution_count": 26,
   "metadata": {},
   "outputs": [],
   "source": [
    "# y pour la Target\n",
    "y= adult_data[\"income_ordinal\"]\n",
    "\n",
    "# X pour les Features\n",
    "X=adult_data.drop(columns=['income_ordinal','income'])"
   ]
  },
  {
   "cell_type": "markdown",
   "metadata": {},
   "source": [
    "Je peux maintenant créer des variables ordinales depuis les variables catégorielles pour les Features."
   ]
  },
  {
   "cell_type": "code",
   "execution_count": 27,
   "metadata": {
    "scrolled": true
   },
   "outputs": [
    {
     "data": {
      "text/html": [
       "<div>\n",
       "<style scoped>\n",
       "    .dataframe tbody tr th:only-of-type {\n",
       "        vertical-align: middle;\n",
       "    }\n",
       "\n",
       "    .dataframe tbody tr th {\n",
       "        vertical-align: top;\n",
       "    }\n",
       "\n",
       "    .dataframe thead th {\n",
       "        text-align: right;\n",
       "    }\n",
       "</style>\n",
       "<table border=\"1\" class=\"dataframe\">\n",
       "  <thead>\n",
       "    <tr style=\"text-align: right;\">\n",
       "      <th></th>\n",
       "      <th>age</th>\n",
       "      <th>fnlwgt</th>\n",
       "      <th>education-num</th>\n",
       "      <th>capital-gain</th>\n",
       "      <th>capital-loss</th>\n",
       "      <th>hours-per-week</th>\n",
       "      <th>workclass_ ?</th>\n",
       "      <th>workclass_ Federal-gov</th>\n",
       "      <th>workclass_ Local-gov</th>\n",
       "      <th>workclass_ Never-worked</th>\n",
       "      <th>...</th>\n",
       "      <th>race_ Asian-Pac-Islander</th>\n",
       "      <th>race_ Black</th>\n",
       "      <th>race_ Other</th>\n",
       "      <th>race_ White</th>\n",
       "      <th>sex_ Female</th>\n",
       "      <th>sex_ Male</th>\n",
       "      <th>group_country_ United-States</th>\n",
       "      <th>group_country_America</th>\n",
       "      <th>group_country_Asia</th>\n",
       "      <th>group_country_Europe</th>\n",
       "    </tr>\n",
       "  </thead>\n",
       "  <tbody>\n",
       "    <tr>\n",
       "      <th>0</th>\n",
       "      <td>39</td>\n",
       "      <td>77516</td>\n",
       "      <td>13</td>\n",
       "      <td>2174</td>\n",
       "      <td>0</td>\n",
       "      <td>40</td>\n",
       "      <td>0</td>\n",
       "      <td>0</td>\n",
       "      <td>0</td>\n",
       "      <td>0</td>\n",
       "      <td>...</td>\n",
       "      <td>0</td>\n",
       "      <td>0</td>\n",
       "      <td>0</td>\n",
       "      <td>1</td>\n",
       "      <td>0</td>\n",
       "      <td>1</td>\n",
       "      <td>1</td>\n",
       "      <td>0</td>\n",
       "      <td>0</td>\n",
       "      <td>0</td>\n",
       "    </tr>\n",
       "    <tr>\n",
       "      <th>1</th>\n",
       "      <td>50</td>\n",
       "      <td>83311</td>\n",
       "      <td>13</td>\n",
       "      <td>0</td>\n",
       "      <td>0</td>\n",
       "      <td>13</td>\n",
       "      <td>0</td>\n",
       "      <td>0</td>\n",
       "      <td>0</td>\n",
       "      <td>0</td>\n",
       "      <td>...</td>\n",
       "      <td>0</td>\n",
       "      <td>0</td>\n",
       "      <td>0</td>\n",
       "      <td>1</td>\n",
       "      <td>0</td>\n",
       "      <td>1</td>\n",
       "      <td>1</td>\n",
       "      <td>0</td>\n",
       "      <td>0</td>\n",
       "      <td>0</td>\n",
       "    </tr>\n",
       "    <tr>\n",
       "      <th>2</th>\n",
       "      <td>38</td>\n",
       "      <td>215646</td>\n",
       "      <td>9</td>\n",
       "      <td>0</td>\n",
       "      <td>0</td>\n",
       "      <td>40</td>\n",
       "      <td>0</td>\n",
       "      <td>0</td>\n",
       "      <td>0</td>\n",
       "      <td>0</td>\n",
       "      <td>...</td>\n",
       "      <td>0</td>\n",
       "      <td>0</td>\n",
       "      <td>0</td>\n",
       "      <td>1</td>\n",
       "      <td>0</td>\n",
       "      <td>1</td>\n",
       "      <td>1</td>\n",
       "      <td>0</td>\n",
       "      <td>0</td>\n",
       "      <td>0</td>\n",
       "    </tr>\n",
       "    <tr>\n",
       "      <th>3</th>\n",
       "      <td>53</td>\n",
       "      <td>234721</td>\n",
       "      <td>7</td>\n",
       "      <td>0</td>\n",
       "      <td>0</td>\n",
       "      <td>40</td>\n",
       "      <td>0</td>\n",
       "      <td>0</td>\n",
       "      <td>0</td>\n",
       "      <td>0</td>\n",
       "      <td>...</td>\n",
       "      <td>0</td>\n",
       "      <td>1</td>\n",
       "      <td>0</td>\n",
       "      <td>0</td>\n",
       "      <td>0</td>\n",
       "      <td>1</td>\n",
       "      <td>1</td>\n",
       "      <td>0</td>\n",
       "      <td>0</td>\n",
       "      <td>0</td>\n",
       "    </tr>\n",
       "    <tr>\n",
       "      <th>4</th>\n",
       "      <td>28</td>\n",
       "      <td>338409</td>\n",
       "      <td>13</td>\n",
       "      <td>0</td>\n",
       "      <td>0</td>\n",
       "      <td>40</td>\n",
       "      <td>0</td>\n",
       "      <td>0</td>\n",
       "      <td>0</td>\n",
       "      <td>0</td>\n",
       "      <td>...</td>\n",
       "      <td>0</td>\n",
       "      <td>1</td>\n",
       "      <td>0</td>\n",
       "      <td>0</td>\n",
       "      <td>1</td>\n",
       "      <td>0</td>\n",
       "      <td>0</td>\n",
       "      <td>1</td>\n",
       "      <td>0</td>\n",
       "      <td>0</td>\n",
       "    </tr>\n",
       "  </tbody>\n",
       "</table>\n",
       "<p>5 rows × 70 columns</p>\n",
       "</div>"
      ],
      "text/plain": [
       "   age  fnlwgt  education-num  capital-gain  capital-loss  hours-per-week  \\\n",
       "0   39   77516             13          2174             0              40   \n",
       "1   50   83311             13             0             0              13   \n",
       "2   38  215646              9             0             0              40   \n",
       "3   53  234721              7             0             0              40   \n",
       "4   28  338409             13             0             0              40   \n",
       "\n",
       "   workclass_ ?  workclass_ Federal-gov  workclass_ Local-gov  \\\n",
       "0             0                       0                     0   \n",
       "1             0                       0                     0   \n",
       "2             0                       0                     0   \n",
       "3             0                       0                     0   \n",
       "4             0                       0                     0   \n",
       "\n",
       "   workclass_ Never-worked  ...  race_ Asian-Pac-Islander  race_ Black  \\\n",
       "0                        0  ...                         0            0   \n",
       "1                        0  ...                         0            0   \n",
       "2                        0  ...                         0            0   \n",
       "3                        0  ...                         0            1   \n",
       "4                        0  ...                         0            1   \n",
       "\n",
       "   race_ Other  race_ White  sex_ Female  sex_ Male  \\\n",
       "0            0            1            0          1   \n",
       "1            0            1            0          1   \n",
       "2            0            1            0          1   \n",
       "3            0            0            0          1   \n",
       "4            0            0            1          0   \n",
       "\n",
       "   group_country_ United-States  group_country_America  group_country_Asia  \\\n",
       "0                             1                      0                   0   \n",
       "1                             1                      0                   0   \n",
       "2                             1                      0                   0   \n",
       "3                             1                      0                   0   \n",
       "4                             0                      1                   0   \n",
       "\n",
       "   group_country_Europe  \n",
       "0                     0  \n",
       "1                     0  \n",
       "2                     0  \n",
       "3                     0  \n",
       "4                     0  \n",
       "\n",
       "[5 rows x 70 columns]"
      ]
     },
     "execution_count": 27,
     "metadata": {},
     "output_type": "execute_result"
    }
   ],
   "source": [
    "X = pd.get_dummies(X)\n",
    "X.head()"
   ]
  },
  {
   "cell_type": "markdown",
   "metadata": {},
   "source": [
    "### 1. Split des données en training (80%) et testing (20%) .\n",
    "Je réalise un split classique de type 80% pour le training et 20% pour le test."
   ]
  },
  {
   "cell_type": "code",
   "execution_count": 28,
   "metadata": {},
   "outputs": [
    {
     "data": {
      "text/plain": [
       "((25518, 70), (6380, 70), (25518,), (6380,))"
      ]
     },
     "execution_count": 28,
     "metadata": {},
     "output_type": "execute_result"
    }
   ],
   "source": [
    "from sklearn.model_selection import train_test_split\n",
    "\n",
    "X_train, X_test, y_train, y_test = train_test_split(X,y ,train_size=0.80, test_size=0.20)\n",
    "\n",
    "X_train.shape, X_test.shape, y_train.shape, y_test.shape"
   ]
  },
  {
   "cell_type": "code",
   "execution_count": null,
   "metadata": {},
   "outputs": [],
   "source": []
  },
  {
   "cell_type": "markdown",
   "metadata": {},
   "source": [
    "## 2. Sélection du modèle via la Cross-Validation\n",
    "\n",
    "Je décide de passer par la méthode de cross-validation pour choisir mon modèle de prédiction. <br/>\n",
    "\n",
    "La validation croisée en français est une méthode qui permet d'estimer les performances de généralisation de plusieurs modèles à partir de l’ensemble d’apprentissage. Cette estimation pourra être comparée à l’estimation obtenue sur l’ensemble de test mis de côté au départ. <br/>\n",
    "\n",
    "La cross validation consiste à recommencer sur plusieurs découpages train/test différents du jeu de données initial de manière à s’assurer que la prédiction est stable et éviter d'overfitting."
   ]
  },
  {
   "cell_type": "code",
   "execution_count": 29,
   "metadata": {},
   "outputs": [
    {
     "name": "stdout",
     "output_type": "stream",
     "text": [
      "Liste des scores existants dans le module sklearn:\n",
      "\n",
      " dict_keys(['explained_variance', 'r2', 'max_error', 'neg_median_absolute_error', 'neg_mean_absolute_error', 'neg_mean_squared_error', 'neg_mean_squared_log_error', 'accuracy', 'roc_auc', 'balanced_accuracy', 'average_precision', 'neg_log_loss', 'brier_score_loss', 'adjusted_rand_score', 'homogeneity_score', 'completeness_score', 'v_measure_score', 'mutual_info_score', 'adjusted_mutual_info_score', 'normalized_mutual_info_score', 'fowlkes_mallows_score', 'precision', 'precision_macro', 'precision_micro', 'precision_samples', 'precision_weighted', 'recall', 'recall_macro', 'recall_micro', 'recall_samples', 'recall_weighted', 'f1', 'f1_macro', 'f1_micro', 'f1_samples', 'f1_weighted', 'jaccard', 'jaccard_macro', 'jaccard_micro', 'jaccard_samples', 'jaccard_weighted'])\n"
     ]
    }
   ],
   "source": [
    "from sklearn.model_selection import cross_val_score\n",
    "from sklearn import metrics\n",
    "\n",
    "print('Liste des scores existants dans le module sklearn:\\n\\n',metrics.SCORERS.keys())"
   ]
  },
  {
   "cell_type": "markdown",
   "metadata": {},
   "source": [
    "Le score de comparaison que je choisis est l'`Accuracy` : nb de bonnes predictions (TP) sur l'ensemble des prédictions.<br/>\n",
    "Je vais tester les modèles suivant :`LogisticRegression`, `DecisionTreeClassifier`, `KNeighborsClassifier` et `RandomForestClassifier`. <br/>"
   ]
  },
  {
   "cell_type": "code",
   "execution_count": 30,
   "metadata": {},
   "outputs": [
    {
     "name": "stdout",
     "output_type": "stream",
     "text": [
      "Rf:\n",
      "[0.77007442 0.76929103 0.77155172 0.76959248 0.77076803 0.76724138\n",
      " 0.76911015 0.76754214 0.76989416 0.77616621]\n",
      "Accuracy of Random Forest is:  77.01231719125899\n",
      "\n",
      "\n",
      "Log:\n",
      "[0.80376028 0.79905993 0.7934953  0.79898119 0.79153605 0.78996865\n",
      " 0.79694238 0.79890239 0.79537436 0.79655037]\n",
      "Accuracy of LogisticRegression is:  79.64570904894452\n",
      "\n",
      "\n",
      "K Neighbors:\n",
      "[0.75793184 0.7626322  0.76253918 0.76097179 0.7507837  0.75509404\n",
      " 0.75735006 0.76009408 0.76009408 0.77224618]\n",
      "Accuracy of K Neighbors is:  75.99737155311902\n",
      "\n",
      "\n",
      "Decision Tree:\n",
      "[0.81120251 0.80571876 0.81308777 0.80956113 0.82719436 0.81818182\n",
      " 0.80086241 0.81340651 0.8130145  0.81575853]\n",
      "Accuracy of Decision Tree is:  81.27988291800644\n"
     ]
    }
   ],
   "source": [
    "from sklearn.linear_model import LogisticRegression\n",
    "from sklearn.tree import DecisionTreeClassifier\n",
    "from sklearn.neighbors import KNeighborsClassifier\n",
    "from sklearn.ensemble import RandomForestClassifier \n",
    "\n",
    "print(\"Rf:\")\n",
    "accuracy = cross_val_score(RandomForestClassifier(n_estimators=100, max_depth=2,random_state=0), X_train, y_train, scoring='accuracy', cv = 10)\n",
    "print(accuracy)\n",
    "print(\"Accuracy of Random Forest is: \" , accuracy.mean()*100)\n",
    "\n",
    "print(\"\\n\\nLog:\")\n",
    "#print(cross_val_score(log_class, X_train, y_train, scoring='accuracy', cv = 10))\n",
    "accuracy = cross_val_score(LogisticRegression(solver='liblinear'), X_train, y_train, scoring='accuracy', cv = 10)\n",
    "print(accuracy)\n",
    "print(\"Accuracy of LogisticRegression is: \" , accuracy.mean()*100)\n",
    "\n",
    "print(\"\\n\\nK Neighbors:\")\n",
    "#print(cross_val_score(knn_class, X_train, y_train, scoring='accuracy', cv = 10))\n",
    "accuracy = cross_val_score(KNeighborsClassifier(n_neighbors=3), X_train, y_train, scoring='accuracy', cv = 10)\n",
    "print(accuracy)\n",
    "print(\"Accuracy of K Neighbors is: \" , accuracy.mean()*100)\n",
    " \n",
    "print(\"\\n\\nDecision Tree:\")\n",
    "#print(cross_val_score(dtc_class, X_train, y_train, scoring='accuracy', cv = 10))\n",
    "accuracy = cross_val_score(DecisionTreeClassifier(),X_train, y_train, scoring='accuracy', cv = 10)\n",
    "print(accuracy)\n",
    "print(\"Accuracy of Decision Tree is: \" , accuracy.mean()*100)\n",
    " \n"
   ]
  },
  {
   "cell_type": "markdown",
   "metadata": {},
   "source": [
    "Au regard des scores le modèle le plus probant est celui du `Decision Tree`."
   ]
  },
  {
   "cell_type": "markdown",
   "metadata": {},
   "source": [
    "## 3. Travail avec le modèle de `Decision Tree`"
   ]
  },
  {
   "cell_type": "markdown",
   "metadata": {},
   "source": [
    "<b>Note</b> : En tenant compte du nombre de lignes.\n",
    "faire un value counts sur le données originel pour voir la répartition des classes (positve:négatif)\n",
    "cela permet de déduire la paramètre de CV pour bien faire apprendre le modele"
   ]
  },
  {
   "cell_type": "code",
   "execution_count": 31,
   "metadata": {},
   "outputs": [],
   "source": [
    "dtc_class = DecisionTreeClassifier()\n",
    "\n",
    "# fitting the model\n",
    "dtc_class.fit(X_train, y_train)\n",
    "\n",
    "# predict the response\n",
    "y_test_predict_dtc = dtc_class.predict(X_test)"
   ]
  },
  {
   "cell_type": "code",
   "execution_count": 32,
   "metadata": {},
   "outputs": [
    {
     "name": "stdout",
     "output_type": "stream",
     "text": [
      "\n",
      "confusion_matrix:\n",
      " [[4225  652]\n",
      " [ 550  953]]\n"
     ]
    }
   ],
   "source": [
    "from sklearn.metrics import confusion_matrix\n",
    "\n",
    "# Confusion_matrix\n",
    "confusion_matrix_dtc = confusion_matrix(y_test, y_test_predict_dtc)\n",
    "print('\\nconfusion_matrix:\\n', confusion_matrix_dtc)"
   ]
  },
  {
   "cell_type": "code",
   "execution_count": 33,
   "metadata": {},
   "outputs": [
    {
     "name": "stdout",
     "output_type": "stream",
     "text": [
      "\n",
      "Feature_importances:\n",
      " {'age': 0.11289184849686948, 'workclass': 0.18679920670983108, 'fnlwgt': 0.11049392095623205, 'education': 0.10933858432356056, 'education-num': 0.03551130654344357, 'marital-status': 0.0673130710726866, 'occupation': 0.0007611940838814081, 'relationship': 0.003523729198797372, 'race': 0.005485809940384937, 'sex': 0.0, 'capital-gain': 0.00903888517094528, 'capital-loss': 0.005315843648426338, 'hours-per-week': 0.009368481452443731, 'income': 0.0034048366702936947, 'group_country': 0.0, 'income_ordinal': 0.00030740654075523343}\n"
     ]
    }
   ],
   "source": [
    "print('\\nFeature_importances:\\n', dict(zip(adult_data.columns,dtc_class.fit(X_train, y_train).feature_importances_)))"
   ]
  },
  {
   "cell_type": "code",
   "execution_count": 34,
   "metadata": {},
   "outputs": [
    {
     "data": {
      "text/plain": [
       "'# Load libraries\\nfrom IPython.display import Image  \\nfrom sklearn import tree\\nimport pydotplus\\nfrom sklearn.tree import export_graphviz\\n\\n#Visualize Decision Tree\\n\\n# Create DOT data\\ndot_data = tree.export_graphviz(dtc_class, out_file=None, \\n                                feature_names=X.columns,  \\n                                class_names=[\"<50k\",\">50k\"])\\n\\n# Draw graph\\ngraph = pydotplus.graph_from_dot_data(dot_data)  \\n\\n# Show graph\\nImage(graph.create_png())\\n\\n# Create PDF\\n    #graph.write_pdf(\"iris.pdf\")\\n\\n# Create PNG\\n    #graph.write_png(\"iris.png\")\\n\\nTrue\\n'"
      ]
     },
     "execution_count": 34,
     "metadata": {},
     "output_type": "execute_result"
    }
   ],
   "source": [
    "\"\"\"# Load libraries\n",
    "from IPython.display import Image  \n",
    "from sklearn import tree\n",
    "import pydotplus\n",
    "from sklearn.tree import export_graphviz\n",
    "\n",
    "#Visualize Decision Tree\n",
    "\n",
    "# Create DOT data\n",
    "dot_data = tree.export_graphviz(dtc_class, out_file=None, \n",
    "                                feature_names=X.columns,  \n",
    "                                class_names=[\"<50k\",\">50k\"])\n",
    "\n",
    "# Draw graph\n",
    "graph = pydotplus.graph_from_dot_data(dot_data)  \n",
    "\n",
    "# Show graph\n",
    "Image(graph.create_png())\n",
    "\n",
    "# Create PDF\n",
    "    #graph.write_pdf(\"iris.pdf\")\n",
    "\n",
    "# Create PNG\n",
    "    #graph.write_png(\"iris.png\")\n",
    "\n",
    "True\n",
    "\"\"\""
   ]
  },
  {
   "cell_type": "code",
   "execution_count": 35,
   "metadata": {},
   "outputs": [],
   "source": [
    "#from sklearn import tree\n",
    "\n",
    "#tree.plot_tree(dtc_class, feature_names=X_train.columns, class_names=[\"<50k\",\">50k\"] ) \n",
    "\n",
    "#plt.show()"
   ]
  },
  {
   "cell_type": "markdown",
   "metadata": {},
   "source": [
    "## A faire en comparaison au train set\n",
    "#### Evaluation de la performance\n",
    "\n",
    "<b>Note : </b>Analyse d'erreur ce qui a tété fait et pourquoi, dessiner l'arbre de décision le feature importance, PCA et colorier ce qui a été prédit et la réalité. "
   ]
  },
  {
   "cell_type": "code",
   "execution_count": 36,
   "metadata": {},
   "outputs": [
    {
     "name": "stdout",
     "output_type": "stream",
     "text": [
      "Accuracy: 81.16\n",
      "Balanced Accuracy: 75.02\n",
      "Precision: 59.38\n",
      "Recall: 63.41\n",
      "F1 score: 61.33\n"
     ]
    }
   ],
   "source": [
    "print(\"Accuracy:\",round(metrics.accuracy_score(y_test, y_test_predict_dtc)*100,2))\n",
    "print(\"Balanced Accuracy:\",round(metrics.balanced_accuracy_score(y_test, y_test_predict_dtc)*100,2))\n",
    "print(\"Precision:\",round(metrics.precision_score(y_test, y_test_predict_dtc)*100,2))\n",
    "print(\"Recall:\",round(metrics.recall_score(y_test, y_test_predict_dtc)*100,2))\n",
    "print(\"F1 score:\",round(metrics.f1_score(y_test, y_test_predict_dtc)*100,2))"
   ]
  },
  {
   "cell_type": "code",
   "execution_count": 37,
   "metadata": {},
   "outputs": [
    {
     "data": {
      "image/png": "[encoded data removed]",
      "text/plain": [
       "<Figure size 432x288 with 1 Axes>"
      ]
     },
     "metadata": {
      "needs_background": "light"
     },
     "output_type": "display_data"
    }
   ],
   "source": [
    "auc = round(metrics.roc_auc_score(y_test, y_test_predict_dtc),2)\n",
    "fpr, tpr, thresholds = metrics.roc_curve(y_test, y_test_predict_dtc)\n",
    "plt.plot(fpr,tpr,label=\"data 1, auc=\"+str(auc))\n",
    "plt.legend(loc=4)\n",
    "plt.show()"
   ]
  },
  {
   "cell_type": "markdown",
   "metadata": {},
   "source": [
    "## grid search\n",
    "    1) established the parameters to gris-search. it is important  to note that these parameters change depending on what type of model we are building. Be sure to look up the model specific documentation for parameter explanation. \n",
    "    2) Running the grid search. this step may take a long time to run depending on the data and number of parameters.\n",
    "    3) Setting up the grid-serach. note how the parameter are wrapped within a dictionary\n",
    "    4) fitting the grid to the data\n",
    "    5) Depending on the designed parameter for measuring the model, will print the best score throughout the Grid Search\n",
    "    6) Print the best parameters used for the highest score of the model\n",
    "    \n",
    "    <a>https://scikit-learn.org/stable/modules/generated/sklearn.model_selection.GridSearchCV.html#sklearn.model_selection.GridSearchCV</a>\n",
    "    \n",
    "    <a>https://medium.com/@elutins/grid-searching-in-machine-learning-quick-explanation-and-python-implementation-550552200596</a>"
   ]
  },
  {
   "cell_type": "code",
   "execution_count": 38,
   "metadata": {},
   "outputs": [],
   "source": [
    "from sklearn.model_selection import GridSearchCV\n",
    "\n",
    "model = DecisionTreeClassifier()\n",
    "\n",
    "criterion=['gini','entropy']\n",
    "max_depth=[1,3,5,None]\n",
    "splitter=['best','random']\n",
    "\n",
    "grid = GridSearchCV(estimator=model, cv=5, param_grid=dict(criterion=criterion,max_depth=max_depth,splitter=splitter))"
   ]
  },
  {
   "cell_type": "markdown",
   "metadata": {},
   "source": [
    "criterion : string, optional (default=”gini”)\n",
    "\n",
    "    The function to measure the quality of a split. Supported criteria are “gini” for the Gini impurity and “entropy” for the information gain.\n",
    "splitter : string, optional (default=”best”)\n",
    "\n",
    "    The strategy used to choose the split at each node. Supported strategies are “best” to choose the best split and “random” to choose the best random split.\n",
    "max_depth : int or None, optional (default=None)\n",
    "\n",
    "    The maximum depth of the tree. If None, then nodes are expanded until all leaves are pure or until all leaves contain less than min_samples_split samples.\n"
   ]
  },
  {
   "cell_type": "code",
   "execution_count": 39,
   "metadata": {},
   "outputs": [
    {
     "data": {
      "text/plain": [
       "GridSearchCV(cv=5, error_score='raise-deprecating',\n",
       "             estimator=DecisionTreeClassifier(class_weight=None,\n",
       "                                              criterion='gini', max_depth=None,\n",
       "                                              max_features=None,\n",
       "                                              max_leaf_nodes=None,\n",
       "                                              min_impurity_decrease=0.0,\n",
       "                                              min_impurity_split=None,\n",
       "                                              min_samples_leaf=1,\n",
       "                                              min_samples_split=2,\n",
       "                                              min_weight_fraction_leaf=0.0,\n",
       "                                              presort=False, random_state=None,\n",
       "                                              splitter='best'),\n",
       "             iid='warn', n_jobs=None,\n",
       "             param_grid={'criterion': ['gini', 'entropy'],\n",
       "                         'max_depth': [1, 3, 5, None],\n",
       "                         'splitter': ['best', 'random']},\n",
       "             pre_dispatch='2*n_jobs', refit=True, return_train_score=False,\n",
       "             scoring=None, verbose=0)"
      ]
     },
     "execution_count": 39,
     "metadata": {},
     "output_type": "execute_result"
    }
   ],
   "source": [
    "grid.fit(X_train,y_train)"
   ]
  },
  {
   "cell_type": "code",
   "execution_count": 40,
   "metadata": {},
   "outputs": [
    {
     "name": "stdout",
     "output_type": "stream",
     "text": [
      "0.8468532016615722\n",
      "{'criterion': 'gini', 'max_depth': 5, 'splitter': 'best'}\n"
     ]
    }
   ],
   "source": [
    "print(grid.best_score_)\n",
    "print(grid.best_params_)"
   ]
  },
  {
   "cell_type": "markdown",
   "metadata": {},
   "source": [
    "## Je travaille avec le modèle retenu par la cross validation : Decision tree en intégrant les paramètres retenus par la méthode du Grid-search.\n",
    "\n",
    "#### faire la comparaison des metrics avec le predict hors super paramètres\n"
   ]
  },
  {
   "cell_type": "code",
   "execution_count": 41,
   "metadata": {},
   "outputs": [
    {
     "name": "stdout",
     "output_type": "stream",
     "text": [
      "\n",
      "confusion_matrix:\n",
      " [[4661  216]\n",
      " [ 758  745]]\n",
      "\n",
      "Feature_importances:\n",
      " {'age': 0.02783765222719064, 'workclass': 0.0, 'fnlwgt': 0.22861163525062722, 'education': 0.22394922670877176, 'education-num': 0.02813596474466124, 'marital-status': 0.022074333855833274, 'occupation': 0.0, 'relationship': 0.0, 'race': 0.0, 'sex': 0.0, 'capital-gain': 0.0, 'capital-loss': 0.0, 'hours-per-week': 0.0003333679927054476, 'income': 0.0, 'group_country': 0.0, 'income_ordinal': 0.0}\n",
      "\n",
      "Accuracy: 84.73\n",
      "\n",
      "Balanced Accuracy: 72.57\n",
      "\n",
      "Precision: 77.52\n",
      "\n",
      "Recall: 49.57\n",
      "\n",
      "F1 score: 60.47\n"
     ]
    },
    {
     "data": {
      "image/png": "[encoded data removed]",
      "text/plain": [
       "<Figure size 432x288 with 1 Axes>"
      ]
     },
     "metadata": {
      "needs_background": "light"
     },
     "output_type": "display_data"
    }
   ],
   "source": [
    "dtc_class_hyper = DecisionTreeClassifier(criterion='gini', max_depth=5, splitter='best')\n",
    "\n",
    "# fitting the model\n",
    "dtc_class_hyper.fit(X_train, y_train)\n",
    "\n",
    "# predict the response\n",
    "y_test_predict_dtc_hyper = dtc_class_hyper.predict(X_test)\n",
    "\n",
    "# Confusion_matrix\n",
    "confusion_matrix_dtc_hyper = confusion_matrix(y_test, y_test_predict_dtc_hyper)\n",
    "print('\\nconfusion_matrix:\\n', confusion_matrix_dtc_hyper)\n",
    "\n",
    "print('\\nFeature_importances:\\n', dict(zip(adult_data.columns,dtc_class_hyper.fit(X_train, y_train).feature_importances_)))\n",
    "\n",
    "print(\"\\nAccuracy:\",round(metrics.accuracy_score(y_test, y_test_predict_dtc_hyper)*100,2))\n",
    "print(\"\\nBalanced Accuracy:\",round(metrics.balanced_accuracy_score(y_test, y_test_predict_dtc_hyper)*100,2))\n",
    "print(\"\\nPrecision:\",round(metrics.precision_score(y_test, y_test_predict_dtc_hyper)*100,2))\n",
    "print(\"\\nRecall:\",round(metrics.recall_score(y_test, y_test_predict_dtc_hyper)*100,2))\n",
    "print(\"\\nF1 score:\",round(metrics.f1_score(y_test, y_test_predict_dtc_hyper)*100,2))\n",
    "\n",
    "\n",
    "\n",
    "\"\"\"y_pred_proba_hyper = dtc_class_hyper.predict_proba(X_test)[::,1]\n",
    "fpr, tpr, _ = metrics.roc_curve(y_test,  y_pred_proba_hyper)\n",
    "auc = metrics.roc_auc_score(y_test, y_pred_proba_hyper)\n",
    "plt.plot(fpr,tpr,label=\"data 1, auc=\"+str(auc))\n",
    "plt.legend(loc=4)\n",
    "plt.show()\"\"\"\n",
    "\n",
    "\n",
    "auc = round(metrics.roc_auc_score(y_test, y_test_predict_dtc_hyper),2)\n",
    "fpr, tpr, thresholds = metrics.roc_curve(y_test, y_test_predict_dtc_hyper)\n",
    "plt.plot(fpr,tpr,label=\"data 1, auc=\"+str(auc))\n",
    "plt.legend(loc=4)\n",
    "plt.show()"
   ]
  },
  {
   "cell_type": "markdown",
   "metadata": {},
   "source": [
    "## Comparaison résultats Train vs Test"
   ]
  },
  {
   "cell_type": "code",
   "execution_count": 42,
   "metadata": {},
   "outputs": [
    {
     "name": "stdout",
     "output_type": "stream",
     "text": [
      "\n",
      "confusion_matrix:\n",
      " [[4225  652]\n",
      " [ 550  953]]\n",
      "\n",
      "confusion_matrix_hyper:\n",
      " [[4661  216]\n",
      " [ 758  745]]\n",
      "\n",
      "accuracy_score_train: 84.76 \n",
      "accuracy_score_test: 81.16 \n",
      "accuracy_score_test_hyper: 84.73\n",
      "\n",
      "balanced_accuracy_score_train 73.32 \n",
      "balanced_accuracy_score_test 75.02 \n",
      "balanced_accuracy_score_test_hyper 72.57\n",
      "\n",
      "precision_score_train 78.39 \n",
      "precision_score_test 59.38 \n",
      "precision_score_test_hyper 77.52\n",
      "\n",
      "recall_score_train 51.15 \n",
      "recall_score_test 63.41 \n",
      "recall_score_test_hyper 49.57\n",
      "\n",
      "F1_score_train 61.9 \n",
      "F1_score_test 61.33 \n",
      "F1_score_test_hyper 60.47\n"
     ]
    }
   ],
   "source": [
    "# Confusion_matrix\n",
    "confusion_matrix_dtc_hyper = confusion_matrix(y_test, y_test_predict_dtc_hyper)\n",
    "print('\\nconfusion_matrix:\\n', confusion_matrix_dtc)\n",
    "print('\\nconfusion_matrix_hyper:\\n', confusion_matrix_dtc_hyper)\n",
    "\n",
    "# Accuracy\n",
    "AC_train = round(metrics.accuracy_score(y_train, dtc_class_hyper.predict(X_train))*100,2)\n",
    "AC_test = round(metrics.accuracy_score(y_test, y_test_predict_dtc)*100,2)\n",
    "AC_test_hyper = round(metrics.accuracy_score(y_test, y_test_predict_dtc_hyper)*100,2)\n",
    "print('\\naccuracy_score_train:', AC_train,'\\naccuracy_score_test:', AC_test, '\\naccuracy_score_test_hyper:', AC_test_hyper)\n",
    "\n",
    "# Balanced Accuracy\n",
    "BAC_train = round(metrics.balanced_accuracy_score(y_train, dtc_class_hyper.predict(X_train))*100,2)\n",
    "BAC_test  = round(metrics.balanced_accuracy_score(y_test, y_test_predict_dtc)*100,2)\n",
    "BAC_test_hyper = round(metrics.balanced_accuracy_score(y_test, y_test_predict_dtc_hyper)*100,2)\n",
    "\n",
    "print('\\nbalanced_accuracy_score_train', BAC_train, '\\nbalanced_accuracy_score_test',BAC_test, '\\nbalanced_accuracy_score_test_hyper', BAC_test_hyper)\n",
    "\n",
    "# Precision score\n",
    "PS_train = round(metrics.precision_score(y_train, dtc_class_hyper.predict(X_train))*100,2)\n",
    "PS_test = round(metrics.precision_score(y_test, y_test_predict_dtc)*100,2)\n",
    "PS_test_hyper = round(metrics.precision_score(y_test, y_test_predict_dtc_hyper)*100,2)\n",
    "\n",
    "\n",
    "print('\\nprecision_score_train', PS_train, '\\nprecision_score_test', PS_test, '\\nprecision_score_test_hyper', PS_test_hyper)\n",
    "\n",
    "# Recall score\n",
    "RS_train = round(metrics.recall_score(y_train, dtc_class_hyper.predict(X_train))*100,2)\n",
    "RS_test = round(metrics.recall_score(y_test, y_test_predict_dtc)*100,2) \n",
    "RS_test_hyper = round(metrics.recall_score(y_test, y_test_predict_dtc_hyper)*100,2) \n",
    "\n",
    "print('\\nrecall_score_train', RS_train, '\\nrecall_score_test', RS_test, '\\nrecall_score_test_hyper', RS_test_hyper)\n",
    "\n",
    "# F1 score\n",
    "F1S_train = round(metrics.f1_score(y_train, dtc_class_hyper.predict(X_train))*100,2)\n",
    "F1S_test = round(metrics.f1_score(y_test, y_test_predict_dtc)*100,2)\n",
    "F1S_test_hyper = round(metrics.f1_score(y_test, y_test_predict_dtc_hyper)*100,2)\n",
    "\n",
    "print('\\nF1_score_train', F1S_train, '\\nF1_score_test', F1S_test, '\\nF1_score_test_hyper', F1S_test_hyper)\n"
   ]
  },
  {
   "cell_type": "code",
   "execution_count": 43,
   "metadata": {},
   "outputs": [],
   "source": [
    "#y_test.value_counts()"
   ]
  },
  {
   "cell_type": "markdown",
   "metadata": {},
   "source": [
    "Conclusion = On voit une amélioration sur la classification des True Positive mais une dégradation des résultats pour les True negative"
   ]
  },
  {
   "cell_type": "code",
   "execution_count": 44,
   "metadata": {},
   "outputs": [],
   "source": [
    "#sns.heatmap(confusion_matrix_dtc_hyper, annot=True)"
   ]
  },
  {
   "cell_type": "code",
   "execution_count": 45,
   "metadata": {},
   "outputs": [],
   "source": [
    "#sns.heatmap(confusion_matrix_dtc, annot=True)"
   ]
  },
  {
   "cell_type": "code",
   "execution_count": 46,
   "metadata": {},
   "outputs": [],
   "source": [
    "#pd.DataFrame(y_test_predict_dtc)[0].value_counts()"
   ]
  },
  {
   "cell_type": "code",
   "execution_count": 47,
   "metadata": {},
   "outputs": [],
   "source": [
    "#pd.DataFrame(y_test_predict_dtc_hyper)[0].value_counts()"
   ]
  },
  {
   "cell_type": "code",
   "execution_count": 48,
   "metadata": {},
   "outputs": [
    {
     "name": "stdout",
     "output_type": "stream",
     "text": [
      "Rf:\n",
      "[0.09553159 0.08964451 0.10719755 0.09259259 0.10413476 0.07476636\n",
      " 0.08964451 0.074883   0.0927357  0.1387632 ]\n",
      "f1 of Random Forest is:  9.598937696214835\n",
      "\n",
      "\n",
      "Log:\n",
      "[0.41403509 0.40279395 0.36886228 0.40279395 0.36211031 0.35576923\n",
      " 0.38186158 0.39289941 0.38004751 0.40138408]\n",
      "f1 of LogisticRegression is:  38.62557371033196\n",
      "\n",
      "\n",
      "K Neighbors:\n",
      "[0.4180791  0.44505495 0.43992606 0.45045045 0.39658444 0.43130118\n",
      " 0.39609756 0.41603053 0.42696629 0.46153846]\n",
      "f1 of K Neighbors is:  42.82029026518465\n",
      "\n",
      "\n",
      "Decision Tree:\n",
      "[0.60494812 0.60601137 0.61000794 0.614642   0.63504823 0.62232779\n",
      " 0.59073056 0.63361735 0.62211615 0.63333333]\n",
      "f1 of Decision Tree is:  61.72782849362829\n"
     ]
    }
   ],
   "source": [
    "print(\"Rf:\")\n",
    "f1_rf = cross_val_score(RandomForestClassifier(n_estimators=100, max_depth=2,random_state=0), X_train, y_train, scoring='f1', cv = 10)\n",
    "print(f1_rf)\n",
    "print(\"f1 of Random Forest is: \" , f1_rf.mean()*100)\n",
    "\n",
    "print(\"\\n\\nLog:\")\n",
    "#print(cross_val_score(log_class, X_train, y_train, scoring='accuracy', cv = 10))\n",
    "f1_log = cross_val_score(LogisticRegression(solver='liblinear'), X_train, y_train, scoring='f1', cv = 10)\n",
    "print(f1_log)\n",
    "print(\"f1 of LogisticRegression is: \" , f1_log.mean()*100)\n",
    "\n",
    "print(\"\\n\\nK Neighbors:\")\n",
    "#print(cross_val_score(knn_class, X_train, y_train, scoring='accuracy', cv = 10))\n",
    "f1_kn = cross_val_score(KNeighborsClassifier(n_neighbors=3), X_train, y_train, scoring='f1', cv = 10)\n",
    "print(f1_kn)\n",
    "print(\"f1 of K Neighbors is: \" , f1_kn.mean()*100)\n",
    " \n",
    "print(\"\\n\\nDecision Tree:\")\n",
    "#print(cross_val_score(dtc_class, X_train, y_train, scoring='accuracy', cv = 10))\n",
    "f1_dt = cross_val_score(DecisionTreeClassifier(),X_train, y_train, scoring='f1', cv = 10)\n",
    "print(f1_dt)\n",
    "print(\"f1 of Decision Tree is: \" , f1_dt.mean()*100)\n",
    " \n"
   ]
  },
  {
   "cell_type": "code",
   "execution_count": null,
   "metadata": {},
   "outputs": [],
   "source": []
  }
 ],
 "metadata": {
  "kernelspec": {
   "display_name": "Python 3",
   "language": "python",
   "name": "python3"
  },
  "language_info": {
   "codemirror_mode": {
    "name": "ipython",
    "version": 3
   },
   "file_extension": ".py",
   "mimetype": "text/x-python",
   "name": "python",
   "nbconvert_exporter": "python",
   "pygments_lexer": "ipython3",
   "version": "3.7.3"
  }
 },
 "nbformat": 4,
 "nbformat_minor": 2
}
