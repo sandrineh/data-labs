{
 "cells": [
  {
   "cell_type": "markdown",
   "metadata": {},
   "source": [
    "# 1) Import des librairies"
   ]
  },
  {
   "cell_type": "code",
   "execution_count": 1,
   "metadata": {},
   "outputs": [],
   "source": [
    "from pandas import DataFrame, read_json\n",
    "import pandas as pd\n",
    "import numpy as np\n",
    "import re\n",
    "import time\n",
    "from datetime import datetime\n",
    "import csv\n",
    "import os\n",
    "\n",
    "import pandas_profiling\n",
    "\n",
    "%matplotlib inline\n",
    "import seaborn as sns\n",
    "import matplotlib.pyplot as plt"
   ]
  },
  {
   "cell_type": "code",
   "execution_count": 2,
   "metadata": {},
   "outputs": [],
   "source": [
    "import random\n",
    "random.seed(3)"
   ]
  },
  {
   "cell_type": "markdown",
   "metadata": {},
   "source": [
    "# 2) Contatenation des fichiers json"
   ]
  },
  {
   "cell_type": "code",
   "execution_count": 3,
   "metadata": {},
   "outputs": [
    {
     "data": {
      "text/plain": [
       "\"json_files = [pos_json for pos_json in os.listdir() if pos_json.startswith('insta_publi_final')]\\ninsta_total=pd.DataFrame()\\n\\nfor index, js in enumerate(json_files):\\n    with open(os.path.join(js)) as json_file:\\n        insta_total = insta_total.append(pd.read_json(js),sort=False)\""
      ]
     },
     "execution_count": 3,
     "metadata": {},
     "output_type": "execute_result"
    }
   ],
   "source": [
    "\"\"\"json_files = [pos_json for pos_json in os.listdir() if pos_json.startswith('insta_publi_final')]\n",
    "insta_total=pd.DataFrame()\n",
    "\n",
    "for index, js in enumerate(json_files):\n",
    "    with open(os.path.join(js)) as json_file:\n",
    "        insta_total = insta_total.append(pd.read_json(js),sort=False)\"\"\""
   ]
  },
  {
   "cell_type": "code",
   "execution_count": 1,
   "metadata": {},
   "outputs": [
    {
     "data": {
      "text/plain": [
       "\"#POUR SAUVEGARDE AVANT CLEANING POUR ML\\ninsta_total.to_json('BACKUP/insta_avec_follower_AVANT_CLEANING.json', orient='records')\\n    #Enregistrer ce fichier de script\""
      ]
     },
     "execution_count": 1,
     "metadata": {},
     "output_type": "execute_result"
    }
   ],
   "source": [
    "\"\"\"#POUR SAUVEGARDE AVANT CLEANING POUR ML\n",
    "insta_total.to_json('BACKUP/insta_avec_follower_AVANT_CLEANING.json', orient='records')\n",
    "    #Enregistrer ce fichier de script\"\"\""
   ]
  },
  {
   "cell_type": "code",
   "execution_count": 5,
   "metadata": {},
   "outputs": [],
   "source": [
    "insta_total = pd.read_json('BACKUP/insta_sans_follower_AVANT_CLEANING.json')"
   ]
  },
  {
   "cell_type": "markdown",
   "metadata": {},
   "source": [
    "# 3) Premières analyses"
   ]
  },
  {
   "cell_type": "markdown",
   "metadata": {},
   "source": [
    "la base d'origine contenait des comptes d'institution qui font du livre mais dont ce n'est pas le métier premier(par ex : fondation cartier, le fooding, la cinemathèque de paris...) mais dont le nombre de follower est très grand. Pour que mon apprentissage ne soit pas biaisé par ces éléments, je décide de les supprimer. "
   ]
  },
  {
   "cell_type": "code",
   "execution_count": 6,
   "metadata": {},
   "outputs": [],
   "source": [
    "compte_a_supprimer=['fondationcartier','lefooding','fondationlv','phaidonsnaps',\n",
    "                    'museedartmodernedeparis','openclassroom','cinemathequefr','centreculturelsuisse']\n",
    "for compte in compte_a_supprimer:\n",
    "    insta_total.drop(insta_total[insta_total['node.owner.username'] == compte].index, inplace=True)"
   ]
  },
  {
   "cell_type": "code",
   "execution_count": 7,
   "metadata": {},
   "outputs": [
    {
     "name": "stdout",
     "output_type": "stream",
     "text": [
      "<class 'pandas.core.frame.DataFrame'>\n",
      "Int64Index: 322161 entries, 0 to 324176\n",
      "Data columns (total 32 columns):\n",
      "page_id                               322161 non-null int64\n",
      "node.owner.username                   322161 non-null object\n",
      "date_time                             322161 non-null datetime64[ns]\n",
      "date                                  322161 non-null datetime64[ns]\n",
      "code_jour_semaine                     322161 non-null int64\n",
      "day                                   322161 non-null int64\n",
      "month                                 322161 non-null int64\n",
      "year                                  322161 non-null int64\n",
      "time                                  322161 non-null object\n",
      "node.id                               322161 non-null int64\n",
      "node.__typename                       322161 non-null object\n",
      "text_publication                      322161 non-null object\n",
      "hashtag                               322161 non-null object\n",
      "hashtag_count                         322161 non-null int64\n",
      "node.edge_liked_by.count              322161 non-null int64\n",
      "node.dimensions.height                322161 non-null int64\n",
      "node.dimensions.width                 322161 non-null int64\n",
      "node.display_url                      322161 non-null object\n",
      "node.edge_media_preview_like.count    322161 non-null int64\n",
      "node.edge_media_to_comment.count      322161 non-null int64\n",
      "node.video_view_count                 15437 non-null float64\n",
      "node.edge_media_to_caption.edges      322161 non-null object\n",
      "node.fact_check_information           0 non-null float64\n",
      "node.gating_info                      0 non-null float64\n",
      "node.is_video                         322161 non-null bool\n",
      "node.location                         0 non-null float64\n",
      "node.location.has_public_page         91670 non-null float64\n",
      "node.location.id                      91670 non-null float64\n",
      "node.location.name                    91670 non-null object\n",
      "node.location.slug                    91670 non-null object\n",
      "node.shortcode                        322161 non-null object\n",
      "node.thumbnail_src                    322161 non-null object\n",
      "dtypes: bool(1), datetime64[ns](2), float64(6), int64(12), object(11)\n",
      "memory usage: 79.0+ MB\n"
     ]
    }
   ],
   "source": [
    "insta_total.info()"
   ]
  },
  {
   "cell_type": "markdown",
   "metadata": {},
   "source": [
    "<p> <b>Analyse : </b></p> \n",
    "Le dataset créé suite au webscraping compte 322k lignes pour 32 colonnes. \n",
    " - 18 numériques\n",
    " - 11 object\n",
    " - 2 de type datetime\n",
    " - 1 booléénne\n",
    " \n",
    " Les colonnes propre au webscraping et donc aux infos propre au site d'instagram commencent par `node.`. Les autres ont été créées dans un premier travail de cleaning : les colonnes autour de la date et de l'heure, et autour de la publication (text, hashtag)."
   ]
  },
  {
   "cell_type": "markdown",
   "metadata": {},
   "source": [
    "# 3) Cleaning"
   ]
  },
  {
   "cell_type": "markdown",
   "metadata": {},
   "source": [
    "## 1) Je supprime la colonne `node.edge_media_to_caption.edges` \n",
    "Car j'ai déjà récupéré le texte complet dans la colonne `text_publication`"
   ]
  },
  {
   "cell_type": "code",
   "execution_count": 8,
   "metadata": {},
   "outputs": [],
   "source": [
    "insta_total.drop(columns=['node.edge_media_to_caption.edges'], inplace=True)"
   ]
  },
  {
   "cell_type": "markdown",
   "metadata": {},
   "source": [
    "## 2) Les Hashtags\n",
    "- depuis la colonne 'hashtag', je crée une colonne temporaire qui me permet d'isoler pour chaque ligne les hashtags dans une liste de liste de hashtag. Les colonnes sans hashtags sont des listes vides.\n",
    "- dans un 2ème temps, je renseigne les lignes où il n'y a pas de hashtags par \"pas de hashtag\". Pour les autres lignes, je crée une liste de hashtags plutot qu'une liste de liste.\n",
    "- je mets tous les élements de l'étape 2 dans une liste qui alimentera la colonne \"hashtag_total\" créée\n",
    "- je supprime les colonnes \"hashtag\" et \"hashtag_temp\""
   ]
  },
  {
   "cell_type": "code",
   "execution_count": 9,
   "metadata": {},
   "outputs": [],
   "source": [
    "insta_total['hashtag_temp']=insta_total['hashtag'].map(lambda x : [re.findall(\"#\\w+\", hashtag) for hashtag in x])\n",
    "\n",
    "hashtag_total=[]\n",
    "for liste in insta_total['hashtag_temp']:\n",
    "    liste_temp=[]\n",
    "    #test si liste vide alors alors j'écris 'pas de hashtag'\n",
    "    if len(liste)==0:\n",
    "        hashtag_total.append('pas de hashtag')\n",
    "    else :\n",
    "        for element in liste:\n",
    "            for words in element:\n",
    "                liste_temp.append(words)\n",
    "        hashtag_total.append(liste_temp)\n",
    "\n",
    "insta_total['hashtag_list'] = hashtag_total\n",
    "\n",
    "insta_total.drop(columns=['hashtag','hashtag_temp'], inplace=True)"
   ]
  },
  {
   "cell_type": "markdown",
   "metadata": {},
   "source": [
    "* Je compte maintenant le nombre de hashtag par publication. Le résultat se trouve dans la colonne `hashtag_count`."
   ]
  },
  {
   "cell_type": "code",
   "execution_count": 10,
   "metadata": {},
   "outputs": [],
   "source": [
    "insta_total = insta_total.assign(hashtag_list_count=insta_total['hashtag_list'].map(lambda publi: len(publi) if type(publi)==list else 0))\n",
    "insta_total.drop(columns=['hashtag_count'], inplace=True)"
   ]
  },
  {
   "cell_type": "code",
   "execution_count": 11,
   "metadata": {},
   "outputs": [],
   "source": [
    "#POUR SAUVEGARDE REGULIERE\n",
    "insta_total.to_json('BACKUP/insta_publi_final-BACKUP.json', orient='records')\n",
    "    #Enregistrer ce fichier de script"
   ]
  },
  {
   "cell_type": "markdown",
   "metadata": {},
   "source": [
    "## 3) Les publications (colonne : `text_publication`)\n",
    "Afin de pouvoir analyser au mieux le texte publié, je crée une colonne (`publication_word_list`) avec le texte des publications mais sans les hashtags. <br/> J'en profite pour créer également un colonne (`publication_word_list_count`) pour compter le nombre de mots restants.\n"
   ]
  },
  {
   "cell_type": "code",
   "execution_count": 12,
   "metadata": {},
   "outputs": [],
   "source": [
    "insta_total['publication_word_list']=insta_total['text_publication'].map(lambda x : re.sub(r\"#\\w+\", r\"\", x).split() if x!='Pas de texte' else '')\n",
    "\n",
    "insta_total = insta_total.assign(publication_word_list_count=insta_total['publication_word_list'].map(lambda publi: len(publi) if type(publi)==list else 0))\n"
   ]
  },
  {
   "cell_type": "markdown",
   "metadata": {},
   "source": [
    "## 4) Je créé une colonne `hour` à partir de la colonne `time`"
   ]
  },
  {
   "cell_type": "code",
   "execution_count": 13,
   "metadata": {},
   "outputs": [],
   "source": [
    "insta_total['hour'] = pd.to_datetime(insta_total['time']).apply(lambda x: x.hour)"
   ]
  },
  {
   "cell_type": "code",
   "execution_count": 14,
   "metadata": {},
   "outputs": [
    {
     "data": {
      "text/plain": [
       "Index(['page_id', 'node.owner.username', 'date_time', 'date',\n",
       "       'code_jour_semaine', 'day', 'month', 'year', 'time', 'node.id',\n",
       "       'node.__typename', 'text_publication', 'node.edge_liked_by.count',\n",
       "       'node.dimensions.height', 'node.dimensions.width', 'node.display_url',\n",
       "       'node.edge_media_preview_like.count',\n",
       "       'node.edge_media_to_comment.count', 'node.video_view_count',\n",
       "       'node.fact_check_information', 'node.gating_info', 'node.is_video',\n",
       "       'node.location', 'node.location.has_public_page', 'node.location.id',\n",
       "       'node.location.name', 'node.location.slug', 'node.shortcode',\n",
       "       'node.thumbnail_src', 'hashtag_list', 'hashtag_list_count',\n",
       "       'publication_word_list', 'publication_word_list_count', 'hour'],\n",
       "      dtype='object')"
      ]
     },
     "execution_count": 14,
     "metadata": {},
     "output_type": "execute_result"
    }
   ],
   "source": [
    "insta_total.columns"
   ]
  },
  {
   "cell_type": "markdown",
   "metadata": {},
   "source": [
    "## 5) Suppression des duplicates.\n",
    "Avec un rythme de publications qui diffèrent d'un compte à l'autre, le recueil de la données sur un mois a apporté l'éventuealité d'avoir des doublons. Je vais donc supprimer les élements dupliquer et ne garder que la première occurence c'est à dire la ligne qui a été recueillie la première fois.\n",
    "Chaque publication ayant un ID (clé unique) identfié dans la colonne `node.id`, ce dernier sera l'élément par lequel je supprime les duplicates."
   ]
  },
  {
   "cell_type": "code",
   "execution_count": 15,
   "metadata": {},
   "outputs": [
    {
     "data": {
      "text/plain": [
       "(322161, 34)"
      ]
     },
     "execution_count": 15,
     "metadata": {},
     "output_type": "execute_result"
    }
   ],
   "source": [
    "insta_total.shape"
   ]
  },
  {
   "cell_type": "code",
   "execution_count": 16,
   "metadata": {},
   "outputs": [
    {
     "data": {
      "text/plain": [
       "(23273, 34)"
      ]
     },
     "execution_count": 16,
     "metadata": {},
     "output_type": "execute_result"
    }
   ],
   "source": [
    "insta_total.drop_duplicates(subset='node.id', keep='first', inplace=True)\n",
    "insta_total.shape"
   ]
  },
  {
   "cell_type": "markdown",
   "metadata": {},
   "source": [
    "Je passe de 322k lignes à 23k lignes pour la suite du travail."
   ]
  },
  {
   "cell_type": "markdown",
   "metadata": {},
   "source": [
    "## 6) Création d'une colonne Semaine (0) /weekend (1)"
   ]
  },
  {
   "cell_type": "code",
   "execution_count": 17,
   "metadata": {},
   "outputs": [],
   "source": [
    "insta_total = insta_total.assign(week_weekend=insta_total['code_jour_semaine'].map(lambda day: 1 if day in [6,7] else 0))"
   ]
  },
  {
   "cell_type": "markdown",
   "metadata": {},
   "source": [
    "## 7) Je renomme les colonnes qui commencent par node pour une meilleure lecture de la dataframe"
   ]
  },
  {
   "cell_type": "code",
   "execution_count": 18,
   "metadata": {},
   "outputs": [],
   "source": [
    "insta_total.rename(columns={\n",
    "    'node.owner.username':'page_username',\n",
    "    'node.id': 'publication_id',\n",
    "    'node.__typename': 'publication_type',\n",
    "    'node.edge_liked_by.count':'publication_liked_count',\n",
    "    'node.dimensions.height':'publication_height',\n",
    "    'node.dimensions.width':'publication_width',\n",
    "    'node.display_url':'publication_url',\n",
    "    'node.edge_media_preview_like.count':'publication_preview_liked_count',  \n",
    "    'node.edge_media_to_comment.count':'publication_comment_count',\n",
    "    'node.video_view_count':'publication_video_view_count',\n",
    "    'node.fact_check_information':'publication_fact_check_information',\n",
    "    'node.gating_info':'gating_info',\n",
    "    'node.is_video':'publication_is_video',\n",
    "    'node.location':'publication_location',\n",
    "    'node.location.has_public_page':'publication_location_has_public_page',\n",
    "    'node.location.id':'publication_location_id',\n",
    "    'node.location.name':'publication_location_name',\n",
    "    'node.location.slug':'publication_location_slug',\n",
    "    'node.shortcode':'publication_shortcode',\n",
    "    'node.thumbnail_src':'publication_thumbnail_src'}, inplace=True)"
   ]
  },
  {
   "cell_type": "markdown",
   "metadata": {},
   "source": [
    "## 8) Ajout d'une colonne nb de followers de la page"
   ]
  },
  {
   "cell_type": "code",
   "execution_count": 19,
   "metadata": {},
   "outputs": [],
   "source": [
    "\"\"\"json_files = [pos_json for pos_json in os.listdir() if pos_json.startswith('insta_total') and pos_json.endswith('json')]\n",
    "insta_fo=pd.DataFrame()\n",
    "\n",
    "for index, js in enumerate(json_files):\n",
    "    with open(os.path.join(js)) as json_file:\n",
    "        insta_fo = insta_fo.append(pd.read_json(js),sort=False)\"\"\"\n",
    "\n",
    "insta_fo = pd.read_json('BACKUP/insta_ajout_followers_POUR_CLEANING.json')\n",
    "\n",
    "insta_fo.drop_duplicates(subset='node.id', keep='first', inplace=True)\n",
    "insta_fo.rename(columns={'node.id':'publication_id'}, inplace=True)\n",
    "\n",
    "insta_total = pd.merge(insta_total, insta_fo[['graphql.user.edge_followed_by.count','publication_id']], on='publication_id', how='left')\n",
    "\n",
    "insta_total.rename(columns={'graphql.user.edge_followed_by.count':'page_nb_followers'}, inplace=True)\n"
   ]
  },
  {
   "cell_type": "markdown",
   "metadata": {},
   "source": [
    "## 9) Ajout d'une colonne edi_lib\n",
    "Cette colonne sert à distinguer s'il s'agit d'un compte d'un éditeur (0) ou d'un libraire (1)"
   ]
  },
  {
   "cell_type": "code",
   "execution_count": 20,
   "metadata": {},
   "outputs": [
    {
     "name": "stderr",
     "output_type": "stream",
     "text": [
      "/usr/local/lib/python3.7/site-packages/pandas/core/indexing.py:205: SettingWithCopyWarning: \n",
      "A value is trying to be set on a copy of a slice from a DataFrame\n",
      "\n",
      "See the caveats in the documentation: http://pandas.pydata.org/pandas-docs/stable/user_guide/indexing.html#returning-a-view-versus-a-copy\n",
      "  self._setitem_with_indexer(indexer, value)\n"
     ]
    }
   ],
   "source": [
    "edi_lib = pd.read_csv('BDD_EDITEURS_LIBRAIRIES-FIN_AOUT_2019.csv')\n",
    "editeur=[page for acteur,page in zip(edi_lib['ACTEUR'],edi_lib['url_rs_ID']) if acteur=='EDITEUR' or acteur=='edITEUR']\n",
    "libraire = [page for acteur,page in zip(edi_lib['ACTEUR'],edi_lib['url_rs_ID']) if acteur=='LIBRAIRIE']\n",
    "editeur=set(editeur)\n",
    "libraire=set(libraire)\n",
    "\n",
    "insta_total = insta_total.assign(edi_lib=insta_total['page_username'].map(lambda x: 0 if x in editeur else 1 if x in libraire else ''))\n",
    "\n",
    "list_edi = set([y for y in insta_total.loc[insta_total['edi_lib']=='']['page_username']])\n",
    "\n",
    "for y in list_edi:\n",
    "    insta_total['edi_lib'].loc[insta_total['page_username']==y]=0"
   ]
  },
  {
   "cell_type": "markdown",
   "metadata": {},
   "source": [
    "## 10) Je transforme les données **NaN** de la colonne `publication_video_view_count` en 0"
   ]
  },
  {
   "cell_type": "code",
   "execution_count": 21,
   "metadata": {},
   "outputs": [],
   "source": [
    "insta_total['publication_video_view_count'].loc[insta_total['publication_video_view_count'].isnull()]=0"
   ]
  },
  {
   "cell_type": "markdown",
   "metadata": {},
   "source": [
    "## 11) Je renomme les items de la colonne `publication_type`\n",
    "GraphImage = Image; GraphSidecar = Sidecar;\tGraphVideo = Video"
   ]
  },
  {
   "cell_type": "code",
   "execution_count": 32,
   "metadata": {},
   "outputs": [],
   "source": [
    "insta_total['publication_type'] = insta_total['publication_type'].replace(regex={r'GraphImage': 'Image', 'GraphSidecar': 'Sidecar', 'GraphVideo': 'Video'})"
   ]
  },
  {
   "cell_type": "code",
   "execution_count": 33,
   "metadata": {},
   "outputs": [
    {
     "name": "stdout",
     "output_type": "stream",
     "text": [
      "<class 'pandas.core.frame.DataFrame'>\n",
      "Int64Index: 23273 entries, 0 to 23272\n",
      "Data columns (total 29 columns):\n",
      "page_id                         23273 non-null int64\n",
      "page_username                   23273 non-null object\n",
      "date_time                       23273 non-null datetime64[ns]\n",
      "date                            23273 non-null datetime64[ns]\n",
      "code_jour_semaine               23273 non-null int64\n",
      "day                             23273 non-null int64\n",
      "month                           23273 non-null int64\n",
      "year                            23273 non-null int64\n",
      "time                            23273 non-null object\n",
      "publication_id                  23273 non-null int64\n",
      "publication_type                23273 non-null object\n",
      "text_publication                23273 non-null object\n",
      "publication_liked_count         23273 non-null int64\n",
      "publication_height              23273 non-null int64\n",
      "publication_width               23273 non-null int64\n",
      "publication_url                 23273 non-null object\n",
      "publication_comment_count       23273 non-null int64\n",
      "publication_video_view_count    23273 non-null float64\n",
      "publication_is_video            23273 non-null bool\n",
      "publication_shortcode           23273 non-null object\n",
      "publication_thumbnail_src       23273 non-null object\n",
      "hashtag_list                    23273 non-null object\n",
      "hashtag_list_count              23273 non-null int64\n",
      "publication_word_list           23273 non-null object\n",
      "publication_word_list_count     23273 non-null int64\n",
      "hour                            23273 non-null int64\n",
      "week_weekend                    23273 non-null int64\n",
      "page_nb_followers               23273 non-null int64\n",
      "edi_lib                         23273 non-null int64\n",
      "dtypes: bool(1), datetime64[ns](2), float64(1), int64(16), object(9)\n",
      "memory usage: 5.8+ MB\n"
     ]
    }
   ],
   "source": [
    "insta_total.info()"
   ]
  },
  {
   "cell_type": "markdown",
   "metadata": {},
   "source": [
    "## 12) Suppression de colonnes vides et des colonnes qui ne me seront pas utiles pour la suite\n",
    "J'ai 3 colonnes qui sont vides : publication_fact_check_information, gating_info, publication_location --> je vais les supprimer, il me restera donc 32 colonnes\n",
    "Je fais le choix de supprimer les colonnes relatives à la localisation car je n'ai que 28% de lignes renseignées pour chacune de ces colonnes. \n",
    "Enfin, je supprime `publication_preview_liked_count` qui est équivalente à la colonne `publication_liked_count`"
   ]
  },
  {
   "cell_type": "code",
   "execution_count": 24,
   "metadata": {},
   "outputs": [],
   "source": [
    "insta_total.drop(columns=['publication_fact_check_information','gating_info',\n",
    "                          'publication_location','publication_location_has_public_page','publication_location_id',\n",
    "                          'publication_location_name','publication_location_slug','publication_preview_liked_count'], inplace=True)"
   ]
  },
  {
   "cell_type": "code",
   "execution_count": 25,
   "metadata": {},
   "outputs": [
    {
     "data": {
      "text/plain": [
       "(23273, 29)"
      ]
     },
     "execution_count": 25,
     "metadata": {},
     "output_type": "execute_result"
    }
   ],
   "source": [
    "insta_total.shape"
   ]
  },
  {
   "cell_type": "code",
   "execution_count": null,
   "metadata": {},
   "outputs": [],
   "source": [
    "insta_total.info()"
   ]
  },
  {
   "cell_type": "code",
   "execution_count": 40,
   "metadata": {},
   "outputs": [],
   "source": [
    "#POUR SAUVEGARDE REGULIERE\n",
    "insta_total.to_json('BACKUP/insta_avec_follower_final-BACKUP.json', orient='records')\n",
    "    #Enregistrer ce fichier de script"
   ]
  },
  {
   "cell_type": "code",
   "execution_count": 28,
   "metadata": {},
   "outputs": [
    {
     "data": {
      "text/plain": [
       "'%%time\\npandas_profiling.ProfileReport(insta_total)'"
      ]
     },
     "execution_count": 28,
     "metadata": {},
     "output_type": "execute_result"
    }
   ],
   "source": [
    "\"\"\"%%time\n",
    "pandas_profiling.ProfileReport(insta_total)\"\"\""
   ]
  },
  {
   "cell_type": "code",
   "execution_count": null,
   "metadata": {},
   "outputs": [],
   "source": []
  }
 ],
 "metadata": {
  "kernelspec": {
   "display_name": "Python 3",
   "language": "python",
   "name": "python3"
  },
  "language_info": {
   "codemirror_mode": {
    "name": "ipython",
    "version": 3
   },
   "file_extension": ".py",
   "mimetype": "text/x-python",
   "name": "python",
   "nbconvert_exporter": "python",
   "pygments_lexer": "ipython3",
   "version": "3.7.5"
  }
 },
 "nbformat": 4,
 "nbformat_minor": 2
}
