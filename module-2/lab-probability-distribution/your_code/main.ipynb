{
 "cells": [
  {
   "cell_type": "markdown",
   "metadata": {},
   "source": [
    "# Before your start:\n",
    "- Read the README.md file\n",
    "- Comment as much as you can and use the resources (README.md file)\n",
    "- Happy learning!"
   ]
  },
  {
   "cell_type": "code",
   "execution_count": 1,
   "metadata": {},
   "outputs": [],
   "source": [
    "# Import your libraries\n",
    "from scipy import stats\n",
    "from scipy.stats import binom\n",
    "from scipy.stats import norm\n",
    "import pandas as pd\n",
    "import numpy as np\n",
    "import matplotlib.pyplot as plt\n",
    "import seaborn as sns\n",
    "%matplotlib inline\n"
   ]
  },
  {
   "cell_type": "markdown",
   "metadata": {},
   "source": [
    "# Challenge 1 - Generate and Plot Normal Distributions"
   ]
  },
  {
   "cell_type": "markdown",
   "metadata": {},
   "source": [
    "#### Step 1: Generate samples and test normal distribution\n",
    "\n",
    "Use mean=50, standard_deviation=5, and sample_size=[10, 50, 500, 5000] to generate 4 random samples that are normally distributed. Test your normal distributions with [`scipy.stats.normaltest`](https://docs.scipy.org/doc/scipy/reference/generated/scipy.stats.normaltest.html).\n",
    "\n",
    "\n",
    "*Hint: Read the documentation for `scipy.stats.normaltest`. The function does not simply return Yes or No for whether your data is normal distribution. It returns the likelihood.*"
   ]
  },
  {
   "cell_type": "code",
   "execution_count": 2,
   "metadata": {},
   "outputs": [
    {
     "data": {
      "text/plain": [
       "'\\nParameters :\\n\\nloc   : [float or array_like]Mean of the distribution. \\nscale : [float or array_like]Standard Derivation of the distribution. \\nsize  : [int or int tuples]. \\n\\nOutput shape given as (m, n, k) then\\nm*n*k samples are drawn. If size is \\nNone(by default), then a single value\\nis returned. \\n\\n'"
      ]
     },
     "execution_count": 2,
     "metadata": {},
     "output_type": "execute_result"
    }
   ],
   "source": [
    "\"\"\"numpy.random.normal(loc = 0.0, scale = 1.0, size = None) : \n",
    "creates an array of specified shape and fills it with random values which is actually a part of Normal(Gaussian)Distribution.\n",
    "This is Distribution is also known as Bell Curve because of its characteristics shape.\"\"\"\n",
    "\"\"\"\n",
    "Parameters :\n",
    "\n",
    "loc   : [float or array_like]Mean of the distribution. \n",
    "scale : [float or array_like]Standard Derivation of the distribution. \n",
    "size  : [int or int tuples]. \n",
    "\n",
    "Output shape given as (m, n, k) then\n",
    "m*n*k samples are drawn. If size is \n",
    "None(by default), then a single value\n",
    "is returned. \n",
    "\n",
    "\"\"\""
   ]
  },
  {
   "cell_type": "code",
   "execution_count": 3,
   "metadata": {},
   "outputs": [
    {
     "name": "stdout",
     "output_type": "stream",
     "text": [
      "NormaltestResult(statistic=2.0932179341200747, pvalue=0.35112641380684834)\n",
      "NormaltestResult(statistic=2.149385828421834, pvalue=0.34140257908561616)\n",
      "NormaltestResult(statistic=0.6639908363988599, pvalue=0.7174906102457994)\n",
      "NormaltestResult(statistic=4.818490276742186, pvalue=0.08988311828734866)\n"
     ]
    },
    {
     "name": "stderr",
     "output_type": "stream",
     "text": [
      "/anaconda3/lib/python3.7/site-packages/scipy/stats/stats.py:1450: UserWarning: kurtosistest only valid for n>=20 ... continuing anyway, n=10\n",
      "  \"anyway, n=%i\" % int(n))\n"
     ]
    }
   ],
   "source": [
    "# Your code here\n",
    "mean=50 #mu\n",
    "standard_deviation=5 #sigma\n",
    "sample_size=[10, 50, 500, 5000]\n",
    "arrays=[]\n",
    "for x in sample_size:\n",
    "    a = np.random.normal(50, 5, size=x)\n",
    "    n = stats.normaltest(a)\n",
    "    arrays.append(a)\n",
    "    print(n)"
   ]
  },
  {
   "cell_type": "code",
   "execution_count": 4,
   "metadata": {},
   "outputs": [
    {
     "data": {
      "text/plain": [
       "'\\nEach test will return at least two things:\\n    Statistic: A quantity calculated by the test that can be interpreted in the context of the test via comparing it to critical values from the distribution of the test statistic.\\n    p-value: Used to interpret the test, in this case whether the sample was drawn from a Gaussian distribution.\\n\\nThe tests assume that that the sample was drawn from a Gaussian distribution. \\nTechnically this is called the null hypothesis, or H0.\\nA threshold level is chosen called alpha, typically 5% (or 0.05), that is used to interpret the p-value.\\n\\nIn the SciPy implementation of these tests, you can interpret the p value as follows.\\n\\n    p <= alpha: reject H0, not normal.\\n    p > alpha: fail to reject H0, normal.\\n\\nThis means that, in general, we are seeking results with a larger p-value to confirm that our sample was likely drawn from a Gaussian distribution.\\n\\nA result above 5% does not mean that the null hypothesis is true. \\nIt means that it is very likely true given available evidence. \\nThe p-value is not the probability of the data fitting a Gaussian distribution; \\nit can be thought of as a value that helps us interpret the statistical test.\\n'"
      ]
     },
     "execution_count": 4,
     "metadata": {},
     "output_type": "execute_result"
    }
   ],
   "source": [
    "\"\"\"\n",
    "Each test will return at least two things:\n",
    "    Statistic: A quantity calculated by the test that can be interpreted in the context of the test via comparing it to critical values from the distribution of the test statistic.\n",
    "    p-value: Used to interpret the test, in this case whether the sample was drawn from a Gaussian distribution.\n",
    "\n",
    "The tests assume that that the sample was drawn from a Gaussian distribution. \n",
    "Technically this is called the null hypothesis, or H0.\n",
    "A threshold level is chosen called alpha, typically 5% (or 0.05), that is used to interpret the p-value.\n",
    "\n",
    "In the SciPy implementation of these tests, you can interpret the p value as follows.\n",
    "\n",
    "    p <= alpha: reject H0, not normal.\n",
    "    p > alpha: fail to reject H0, normal.\n",
    "\n",
    "This means that, in general, we are seeking results with a larger p-value to confirm that our sample was likely drawn from a Gaussian distribution.\n",
    "\n",
    "A result above 5% does not mean that the null hypothesis is true. \n",
    "It means that it is very likely true given available evidence. \n",
    "The p-value is not the probability of the data fitting a Gaussian distribution; \n",
    "it can be thought of as a value that helps us interpret the statistical test.\n",
    "\"\"\""
   ]
  },
  {
   "cell_type": "code",
   "execution_count": 5,
   "metadata": {},
   "outputs": [
    {
     "data": {
      "text/plain": [
       "'\\nmu, sigma = 50, 5\\n\\nsample_size = pd.Series([10, 50, 500, 5000, 50000])\\n\\ndists = sample_size.apply(lambda s: np.random.normal(mu, sigma, s))\\n\\ntests = dists.apply(lambda d: stats.normaltest(d))\\n\\ntests'"
      ]
     },
     "execution_count": 5,
     "metadata": {},
     "output_type": "execute_result"
    }
   ],
   "source": [
    "# elements déjà présents dans le lab\n",
    "\"\"\"\n",
    "mu, sigma = 50, 5\n",
    "\n",
    "sample_size = pd.Series([10, 50, 500, 5000, 50000])\n",
    "\n",
    "dists = sample_size.apply(lambda s: np.random.normal(mu, sigma, s))\n",
    "\n",
    "tests = dists.apply(lambda d: stats.normaltest(d))\n",
    "\n",
    "tests\"\"\""
   ]
  },
  {
   "cell_type": "markdown",
   "metadata": {},
   "source": [
    "#### Interpret the normaltest results and make your observations."
   ]
  },
  {
   "cell_type": "code",
   "execution_count": 6,
   "metadata": {},
   "outputs": [],
   "source": [
    "# Explain the test results here\n",
    "    #the normaltest results show 4 pvalue for each series created. \n",
    "    #each pvalue are greatest than alpha (0.05). So the 4 distributions are normal."
   ]
  },
  {
   "cell_type": "markdown",
   "metadata": {},
   "source": [
    "#### Step 2: Plot normal distributions\n",
    "\n",
    "Use matplotlib subplots to plot a histogram of each sample. \n",
    "\n",
    "*Hints:*\n",
    "- Use subplots to compare your figures side by side.\n",
    "\n",
    "- Your output should look like below:\n",
    "\n",
    "![normal distributions with different sample sizes](ch-1.png)"
   ]
  },
  {
   "cell_type": "code",
   "execution_count": 7,
   "metadata": {},
   "outputs": [
    {
     "name": "stderr",
     "output_type": "stream",
     "text": [
      "/anaconda3/lib/python3.7/site-packages/numpy/lib/histograms.py:829: RuntimeWarning: invalid value encountered in greater_equal\n",
      "  keep = (tmp_a >= first_edge)\n",
      "/anaconda3/lib/python3.7/site-packages/numpy/lib/histograms.py:830: RuntimeWarning: invalid value encountered in less_equal\n",
      "  keep &= (tmp_a <= last_edge)\n"
     ]
    },
    {
     "data": {
      "image/png": "[encoded data removed]",
      "text/plain": [
       "<Figure size 1080x288 with 4 Axes>"
      ]
     },
     "metadata": {
      "needs_background": "light"
     },
     "output_type": "display_data"
    }
   ],
   "source": [
    "# Your code here\n",
    "df = pd.DataFrame(arrays)\n",
    "df = df.pivot_table(columns = df.index)\n",
    "df.head(2)\n",
    "\n",
    "f, ax = plt.subplots(1, 4,sharey=False)\n",
    "\n",
    "f.set_figwidth(15)\n",
    "\n",
    "f.subplots_adjust(wspace=1)\n",
    "\n",
    "for i in range(0, 4):    \n",
    "    ax[i].set_title(sample_size[i])\n",
    "    ax[i].hist(df[i], 20, density=True)"
   ]
  },
  {
   "cell_type": "code",
   "execution_count": 8,
   "metadata": {},
   "outputs": [
    {
     "data": {
      "text/plain": [
       "\"f, ax = plt.subplots(1, 4)\\n\\nf.set_figwidth(15)\\n\\nf.subplots_adjust(wspace=1)\\n\\nfor i in range(0, 4):\\n    ax[i].set_title('n=%s' % (sample_size[i]))\\n    count, bins, ignored = ax[i].hist(dists[i], 20, density=True)\""
      ]
     },
     "execution_count": 8,
     "metadata": {},
     "output_type": "execute_result"
    }
   ],
   "source": [
    "# elements déjà présents dans le lab\n",
    "\"\"\"f, ax = plt.subplots(1, 4)\n",
    "\n",
    "f.set_figwidth(15)\n",
    "\n",
    "f.subplots_adjust(wspace=1)\n",
    "\n",
    "for i in range(0, 4):\n",
    "    ax[i].set_title('n=%s' % (sample_size[i]))\n",
    "    count, bins, ignored = ax[i].hist(dists[i], 20, density=True)\"\"\""
   ]
  },
  {
   "cell_type": "markdown",
   "metadata": {},
   "source": [
    "#### Compare the distributions above. What do you observe? Explain with the Central Limit Theorem."
   ]
  },
  {
   "cell_type": "code",
   "execution_count": 9,
   "metadata": {},
   "outputs": [],
   "source": [
    "# Your comment and explanation here\n",
    "#A faire"
   ]
  },
  {
   "cell_type": "markdown",
   "metadata": {},
   "source": [
    "# Challenge 2 - Plot Probability Mass Function (PMF)"
   ]
  },
  {
   "cell_type": "markdown",
   "metadata": {},
   "source": [
    "#### Background knowledge\n",
    "\n",
    "[PMF](https://en.wikipedia.org/wiki/Probability_mass_function) shows the probability distribution of a **discrete random variable**. A [discrete random variable](https://en.wikipedia.org/wiki/Random_variable#Discrete_random_variable) has random numeric values that are not continuous. For example, the number of people in a household can only be integers but not floats. Therefore the number of people in a household is a discrete variable.\n",
    "\n",
    "#### Question: We assume that the probability of clicking an Ad in a Youtube video is 0.15. We have a sample of 5 people who wathched the video and we want to plot the PMF for a binomial distribution.\n",
    "\n",
    "*Hint: use binom from `scipy.stats.binom`. Your output should look like below:*\n",
    "\n",
    "![binom 10](ch-2.png)"
   ]
  },
  {
   "cell_type": "code",
   "execution_count": 10,
   "metadata": {},
   "outputs": [
    {
     "data": {
      "text/plain": [
       "[<matplotlib.lines.Line2D at 0x11cccab38>]"
      ]
     },
     "execution_count": 10,
     "metadata": {},
     "output_type": "execute_result"
    },
    {
     "data": {
      "image/png": "[encoded data removed]",
      "text/plain": [
       "<Figure size 432x288 with 1 Axes>"
      ]
     },
     "metadata": {
      "needs_background": "light"
     },
     "output_type": "display_data"
    }
   ],
   "source": [
    "# Your code here\n",
    "\n",
    "fig, ax = plt.subplots(1, 1)\n",
    "\n",
    "#Calculate a few first moments:\n",
    "n, p = 5, 0.15 #avec n=sample de 5 personnes et P=prob_click sur l'ad\n",
    "discre_dist= binom(n, p)\n",
    "\n",
    "\n",
    "#Display the probability mass function (pmf):\n",
    "    #on veut maintenant la probabilité qu'entre 0 et 5 personnes cliquent sur la pub pour cela on utilise le .pmf sur la distribution binomiale\n",
    "\n",
    "x = range(n)\n",
    "ax.plot(x, discre_dist.pmf(x))"
   ]
  },
  {
   "cell_type": "code",
   "execution_count": 11,
   "metadata": {},
   "outputs": [
    {
     "data": {
      "text/plain": [
       "'from scipy.stats import binom\\n\\nn, p = 5, 0.15\\n\\nx = range(n)\\n\\ndist = binom(n, p)\\n\\nfig, ax = plt.subplots(1, 1)\\n\\nplt.plot(x, dist.pmf(x))\\n\\nplt.show()'"
      ]
     },
     "execution_count": 11,
     "metadata": {},
     "output_type": "execute_result"
    }
   ],
   "source": [
    "# elements déjà présents dans le lab\n",
    "\"\"\"from scipy.stats import binom\n",
    "\n",
    "n, p = 5, 0.15\n",
    "\n",
    "x = range(n)\n",
    "\n",
    "dist = binom(n, p)\n",
    "\n",
    "fig, ax = plt.subplots(1, 1)\n",
    "\n",
    "plt.plot(x, dist.pmf(x))\n",
    "\n",
    "plt.show()\"\"\""
   ]
  },
  {
   "cell_type": "markdown",
   "metadata": {},
   "source": [
    "#### Explain what you observe from the plot above"
   ]
  },
  {
   "cell_type": "code",
   "execution_count": 12,
   "metadata": {},
   "outputs": [],
   "source": [
    "# Your comment here\n",
    "    #A faire"
   ]
  },
  {
   "cell_type": "markdown",
   "metadata": {},
   "source": [
    "#### Now plot PMP with 50, 500, and 5000 visitors."
   ]
  },
  {
   "cell_type": "code",
   "execution_count": 13,
   "metadata": {},
   "outputs": [
    {
     "data": {
      "image/png": "[encoded data removed]",
      "text/plain": [
       "<Figure size 720x288 with 3 Axes>"
      ]
     },
     "metadata": {
      "needs_background": "light"
     },
     "output_type": "display_data"
    }
   ],
   "source": [
    "# Your code here\n",
    "fig, ax = plt.subplots(1, 3)\n",
    "fig.set_figwidth(10)\n",
    "#fig.subplots_adjust(wspace=1)\n",
    "\n",
    "liste_visiteurs=[50,500,5000]\n",
    "\n",
    "for a, i in zip(liste_visiteurs,range(3)):\n",
    "    x = range(a)\n",
    "    ax[i].plot(x, discre_dist.pmf(x))"
   ]
  },
  {
   "cell_type": "markdown",
   "metadata": {},
   "source": [
    "#### What did you notice from the distribution plots? Comment your findings."
   ]
  },
  {
   "cell_type": "code",
   "execution_count": 14,
   "metadata": {},
   "outputs": [],
   "source": [
    "# Your comment here\n",
    "    #A faire"
   ]
  },
  {
   "cell_type": "markdown",
   "metadata": {},
   "source": [
    "# Challenge 3"
   ]
  },
  {
   "cell_type": "markdown",
   "metadata": {},
   "source": [
    "#### Reaserch the Poisson distribution. Write about your own understanding of the Poisson distribution."
   ]
  },
  {
   "cell_type": "code",
   "execution_count": 28,
   "metadata": {},
   "outputs": [],
   "source": [
    "# Your comment here\n",
    "    #Loi poisson : comptagedes éléments dans une période connue fixe (par heure, par jour, etc...) par ex nb de voiture qui passe par heure. \n",
    "    #il y a un seul param => Lambda : nb d'élément par tps fixe. Par ex si 3 voitures par heure c'est 3"
   ]
  },
  {
   "cell_type": "markdown",
   "metadata": {},
   "source": [
    "#### A website has an average of 300 visits per day. What is the probability of getting 320 visitors in a day?\n",
    "\n",
    "*Hint: use `scipy.stats.poisson`*"
   ]
  },
  {
   "cell_type": "code",
   "execution_count": 29,
   "metadata": {},
   "outputs": [
    {
     "data": {
      "text/plain": [
       "0.011612348610402475"
      ]
     },
     "execution_count": 29,
     "metadata": {},
     "output_type": "execute_result"
    }
   ],
   "source": [
    "# Your code here\n",
    "from scipy.stats import poisson\n",
    "mu = 300 #visits per day\n",
    "#proba for 320\n",
    "prob = poisson.pmf(320, mu)\n",
    "prob"
   ]
  },
  {
   "cell_type": "markdown",
   "metadata": {},
   "source": [
    "#### What is the probability of getting 60 visits?"
   ]
  },
  {
   "cell_type": "code",
   "execution_count": 30,
   "metadata": {},
   "outputs": [
    {
     "data": {
      "text/plain": [
       "2.622743762294515e-64"
      ]
     },
     "execution_count": 30,
     "metadata": {},
     "output_type": "execute_result"
    }
   ],
   "source": [
    "# Your code here\n",
    "prob1 = poisson.pmf(60, mu)\n",
    "prob1"
   ]
  },
  {
   "cell_type": "markdown",
   "metadata": {},
   "source": [
    "#### Plot the distribution of the probability for getting 0-1000 visits.\n",
    "\n",
    "*Hints:* \n",
    "\n",
    "- Create a list to store the Poisson distribution probabilities for n=0 to 1000. Then plot the probabilities.\n",
    "\n",
    "- Your plot should look like below:\n",
    "\n",
    "![poisson distribution](ch-3.png)"
   ]
  },
  {
   "cell_type": "code",
   "execution_count": 31,
   "metadata": {},
   "outputs": [
    {
     "data": {
      "text/plain": [
       "[<matplotlib.lines.Line2D at 0x11cbb6518>]"
      ]
     },
     "execution_count": 31,
     "metadata": {},
     "output_type": "execute_result"
    },
    {
     "data": {
      "image/png": "[encoded data removed]",
      "text/plain": [
       "<Figure size 432x288 with 1 Axes>"
      ]
     },
     "metadata": {
      "needs_background": "light"
     },
     "output_type": "display_data"
    }
   ],
   "source": [
    "# your code here\n",
    "fig, ax = plt.subplots(1, 1)\n",
    "\n",
    "#Display the probability mass function (pmf):\n",
    "    #on veut maintenant la probabilité qu'entre 0 et 5 personnes cliquent sur la pub pour cela on utilise le .pmf sur la distribution binomiale\n",
    "\n",
    "x = range(0,1000)\n",
    "ax.plot(x, poisson.pmf(x,mu))"
   ]
  },
  {
   "cell_type": "code",
   "execution_count": 32,
   "metadata": {},
   "outputs": [
    {
     "data": {
      "text/plain": [
       "'from scipy.stats import poisson\\n\\nN = np.arange(1000)\\n\\nrv = poisson(300)\\n\\narr = []\\n\\nfor n in N:\\n    arr.append(rv.pmf(n))\\n\\nplt.plot(arr)'"
      ]
     },
     "execution_count": 32,
     "metadata": {},
     "output_type": "execute_result"
    }
   ],
   "source": [
    "# elements déjà présents dans le lab\n",
    "\"\"\"from scipy.stats import poisson\n",
    "\n",
    "N = np.arange(1000)\n",
    "\n",
    "rv = poisson(300)\n",
    "\n",
    "arr = []\n",
    "\n",
    "for n in N:\n",
    "    arr.append(rv.pmf(n))\n",
    "\n",
    "plt.plot(arr)\"\"\""
   ]
  },
  {
   "cell_type": "code",
   "execution_count": null,
   "metadata": {},
   "outputs": [],
   "source": []
  }
 ],
 "metadata": {
  "anaconda-cloud": {},
  "kernelspec": {
   "display_name": "Python 3",
   "language": "python",
   "name": "python3"
  },
  "language_info": {
   "codemirror_mode": {
    "name": "ipython",
    "version": 3
   },
   "file_extension": ".py",
   "mimetype": "text/x-python",
   "name": "python",
   "nbconvert_exporter": "python",
   "pygments_lexer": "ipython3",
   "version": "3.7.3"
  }
 },
 "nbformat": 4,
 "nbformat_minor": 1
}
